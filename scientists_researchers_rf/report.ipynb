{
 "cells": [
  {
   "cell_type": "code",
   "execution_count": 5,
   "metadata": {
    "collapsed": true
   },
   "outputs": [],
   "source": [
    "import re\n",
    "import time\n",
    "import requests\n",
    "import pandas as pd\n",
    "from bs4 import BeautifulSoup"
   ]
  },
  {
   "cell_type": "markdown",
   "source": [
    "# Анализ данных сайта [ученые-исследователи.рф](https://xn----8sbfhdabdwf1afqu5baxe0f2d.xn--p1ai/)\n",
    "\n",
    "Согласно описанному в [Приказе Минобрнауки РФ от 05.08.2021 N 715](https://normativ.kontur.ru/document?moduleId=1&documentId=400674) (действует с 01.03.2022) довольно большой перечень научных работников университетов должен проходить через конкурс, публикуемый на сайте ученые-исследователи.рф. Мне подсказали, что сайт вполне парсится, а самое главное поделились уже спарсенными данными о университетах, являющихся участниками [программы «Приоритет 2030»](https://priority2030.ru/).\n",
    "\n",
    "## Парсим [ученые-исследователи.рф](https://xn----8sbfhdabdwf1afqu5baxe0f2d.xn--p1ai/)\n",
    "\n",
    "для начала, с помощью любого поисковика ([пример](https://yandex.ru/search/?text=site%3axn----8sbfhdabdwf1afqu5baxe0f2d.xn--p1ai+%22%d0%9a%d1%80%d1%8b%d0%bc%d1%81%d0%ba%d0%b8%d0%b9+%d1%84%d0%b5%d0%b4%d0%b5%d1%80%d0%b0%d0%bb%d1%8c%d0%bd%d1%8b%d0%b9+%d1%83%d0%bd%d0%b8%d0%b2%d0%b5%d1%80%d1%81%d0%b8%d1%82%d0%b5%d1%82+%d0%b8%d0%bc%d0%b5%d0%bd%d0%b8+%d0%92.%d0%98.+%d0%92%d0%b5%d1%80%d0%bd%d0%b0%d0%b4%d1%81%d0%ba%d0%be%d0%b3%d0%be%22&lr=2) для яндекса), потребовалось собрать страницы университетов на анализируемом сайте. пример для «Крымский федеральный университет имени В.И. Вернадского» `site:xn----8sbfhdabdwf1afqu5baxe0f2d.xn--p1ai \"Крымский федеральный университет имени В.И. Вернадского\"`.\n",
    "\n",
    "Получился [вот такой список](https://github.com/psalru/analytics/blob/9cbccf3f66be935fd7901193b46b6aba0ffde4a7/scientists_researchers_rf/data/university_list.csv), с привязкой к id университетов (у 25 университетов такие страницы найти не смог):"
   ],
   "metadata": {
    "collapsed": false
   }
  },
  {
   "cell_type": "code",
   "execution_count": 4,
   "outputs": [
    {
     "data": {
      "text/plain": "           id                                                url\n0  u1dpt3iyms  https://xn----8sbfhdabdwf1afqu5baxe0f2d.xn--p1...\n1  8zd4kctsoz                                                NaN\n2  ctiqcaywqm  https://xn----8sbfhdabdwf1afqu5baxe0f2d.xn--p1...\n3  sisytkom7x  https://xn----8sbfhdabdwf1afqu5baxe0f2d.xn--p1...\n4  chokaxj6xy  https://xn----8sbfhdabdwf1afqu5baxe0f2d.xn--p1...",
      "text/html": "<div>\n<style scoped>\n    .dataframe tbody tr th:only-of-type {\n        vertical-align: middle;\n    }\n\n    .dataframe tbody tr th {\n        vertical-align: top;\n    }\n\n    .dataframe thead th {\n        text-align: right;\n    }\n</style>\n<table border=\"1\" class=\"dataframe\">\n  <thead>\n    <tr style=\"text-align: right;\">\n      <th></th>\n      <th>id</th>\n      <th>url</th>\n    </tr>\n  </thead>\n  <tbody>\n    <tr>\n      <th>0</th>\n      <td>u1dpt3iyms</td>\n      <td>https://xn----8sbfhdabdwf1afqu5baxe0f2d.xn--p1...</td>\n    </tr>\n    <tr>\n      <th>1</th>\n      <td>8zd4kctsoz</td>\n      <td>NaN</td>\n    </tr>\n    <tr>\n      <th>2</th>\n      <td>ctiqcaywqm</td>\n      <td>https://xn----8sbfhdabdwf1afqu5baxe0f2d.xn--p1...</td>\n    </tr>\n    <tr>\n      <th>3</th>\n      <td>sisytkom7x</td>\n      <td>https://xn----8sbfhdabdwf1afqu5baxe0f2d.xn--p1...</td>\n    </tr>\n    <tr>\n      <th>4</th>\n      <td>chokaxj6xy</td>\n      <td>https://xn----8sbfhdabdwf1afqu5baxe0f2d.xn--p1...</td>\n    </tr>\n  </tbody>\n</table>\n</div>"
     },
     "execution_count": 4,
     "metadata": {},
     "output_type": "execute_result"
    }
   ],
   "source": [
    "ul = pd.read_csv('data/university_list.csv')\n",
    "ul.head()"
   ],
   "metadata": {
    "collapsed": false,
    "pycharm": {
     "name": "#%%\n"
    }
   }
  },
  {
   "cell_type": "markdown",
   "source": [
    "Далее опишем рекурсивную функцию, которая позволит собрать нам данные по вакансиям конкретного университета, опубликованных на изучаемом сайте:"
   ],
   "metadata": {
    "collapsed": false
   }
  },
  {
   "cell_type": "code",
   "execution_count": 7,
   "outputs": [
    {
     "data": {
      "text/plain": "      vac_id           pub_date    status                           url\n0  VAC 67337  27.08.2020, 10:13  Отменена  /public/vacancies/view/67337\n1  VAC 67336  27.08.2020, 10:04  Отменена  /public/vacancies/view/67336\n2  VAC 67189  26.08.2020, 13:57  Отменена  /public/vacancies/view/67189\n3  VAC 67184  26.08.2020, 13:45  Отменена  /public/vacancies/view/67184\n4  VAC 67177  26.08.2020, 13:24  Отменена  /public/vacancies/view/67177",
      "text/html": "<div>\n<style scoped>\n    .dataframe tbody tr th:only-of-type {\n        vertical-align: middle;\n    }\n\n    .dataframe tbody tr th {\n        vertical-align: top;\n    }\n\n    .dataframe thead th {\n        text-align: right;\n    }\n</style>\n<table border=\"1\" class=\"dataframe\">\n  <thead>\n    <tr style=\"text-align: right;\">\n      <th></th>\n      <th>vac_id</th>\n      <th>pub_date</th>\n      <th>status</th>\n      <th>url</th>\n    </tr>\n  </thead>\n  <tbody>\n    <tr>\n      <th>0</th>\n      <td>VAC 67337</td>\n      <td>27.08.2020, 10:13</td>\n      <td>Отменена</td>\n      <td>/public/vacancies/view/67337</td>\n    </tr>\n    <tr>\n      <th>1</th>\n      <td>VAC 67336</td>\n      <td>27.08.2020, 10:04</td>\n      <td>Отменена</td>\n      <td>/public/vacancies/view/67336</td>\n    </tr>\n    <tr>\n      <th>2</th>\n      <td>VAC 67189</td>\n      <td>26.08.2020, 13:57</td>\n      <td>Отменена</td>\n      <td>/public/vacancies/view/67189</td>\n    </tr>\n    <tr>\n      <th>3</th>\n      <td>VAC 67184</td>\n      <td>26.08.2020, 13:45</td>\n      <td>Отменена</td>\n      <td>/public/vacancies/view/67184</td>\n    </tr>\n    <tr>\n      <th>4</th>\n      <td>VAC 67177</td>\n      <td>26.08.2020, 13:24</td>\n      <td>Отменена</td>\n      <td>/public/vacancies/view/67177</td>\n    </tr>\n  </tbody>\n</table>\n</div>"
     },
     "execution_count": 7,
     "metadata": {},
     "output_type": "execute_result"
    }
   ],
   "source": [
    "def get_vac_list(url, page=1, delay=1):\n",
    "    org_url = '{0}?page={1}'.format(url, page)\n",
    "    result = []\n",
    "\n",
    "    time.sleep(delay)\n",
    "    resp = requests.get(org_url)\n",
    "\n",
    "    if resp.status_code == 200:\n",
    "        soup = BeautifulSoup(resp.text, features='lxml')\n",
    "\n",
    "        for tr in soup.select('table.tbl-vac > tbody > tr'):\n",
    "            vac_id = tr.select_one('td:nth-child(2)').text.strip()\n",
    "            pub_date = tr.select_one('td:nth-child(4)').text.strip()\n",
    "            status = tr.select_one('td:nth-child(5)').text.strip()\n",
    "            href = tr.select_one('td:nth-child(6) a')['href']\n",
    "\n",
    "            result.append({\n",
    "                'vac_id': vac_id,\n",
    "                'pub_date': pub_date,\n",
    "                'status': status,\n",
    "                'url': href\n",
    "            })\n",
    "\n",
    "        if page == 1:\n",
    "            pager_links = soup.select('div.pager > ul > li > a')\n",
    "\n",
    "            if len(pager_links) > 0:\n",
    "                last_pager_link_href = pager_links[-1]['href']\n",
    "                count_of_pages = int(re.findall(r\"\\d*$\", last_pager_link_href)[0])\n",
    "\n",
    "                for i in range(2, count_of_pages + 1):\n",
    "                    result.extend(get_vac_list(url, page=i))\n",
    "\n",
    "    return result\n",
    "\n",
    "\n",
    "vac_list = pd.DataFrame(get_vac_list(ul.loc[0, 'url']))\n",
    "vac_list.head()"
   ],
   "metadata": {
    "collapsed": false,
    "pycharm": {
     "name": "#%%\n"
    }
   }
  },
  {
   "cell_type": "markdown",
   "source": [
    "Аккуратно собрав данные по вакансиям, можно пойти уже на страницы самих вакансий и забрать уже весь массив данных, необходимый нам для анализа:"
   ],
   "metadata": {
    "collapsed": false,
    "pycharm": {
     "name": "#%% md\n"
    }
   }
  },
  {
   "cell_type": "code",
   "execution_count": 10,
   "outputs": [
    {
     "data": {
      "text/plain": "vac_url                                                                         https://xn----8sbfhdabdwf1afqu5baxe0f2d.xn--p1...\nстатус                                                                                                                   отменена\nначало приема заявок                                                                                             01.10.2020 10:00\nокончание приема заявок                                                                                          30.10.2020 17:00\nдата проведения конкурса                                                                                         02.11.2020 10:00\nорганизация                                                                     Федеральное государственное бюджетное образова...\nдолжность                                                                       Лаборант центра адыговедения и адыгейской фило...\nотрасль науки                                                                                                                    \nдеятельность                                                                                                                 ИНОЕ\nтрудовые функции                                                                Выполнение отдельных заданий в рамках решения ...\nтрудовая деятельность                                                                                                        ИНОЕ\nрегион                                                                                                          Республика Адыгея\nнаселенный пункт                                                                                         Майкоп Республика Адыгея\nвакансия для выпускников вузов                                                                                                 Да\nрезультаты интеллектуальной деятельности                                                                                         \nиспользование результов интеллектуальной деятельности                                                                            \nученая степень и звание                                                                                                          \nопыт развития организации                                                                                                        \nдолжностной оклад                                                                                                     13 600 руб.\nставка                                                                                                                        0,1\nстимулирующие выплаты                                                                                                 13 600 руб.\nежемесячное премирование                                                                                                   0 руб.\nгодовое премирование                                                                                                       0 руб.\nусловия премирования                                                                                                             \nжилье                                                                                                                            \nпроезд                                                                                                                           \nотдых                                                                                                   ежегодный основной отпуск\nмедицинское обслуживание и страхование от несчастных случаев на производстве                 обязательное медицинское страхование\nстажировки и повышение квалификации                                                                                              \nдругое                                                                                                                           \nфамилия, имя, отчество                                                                                      Езлю Фатима Нурбиевна\ne-mail                                                                                                        niikpagu@rambler.ru\nтелефон                                                                                                               89183278621\nдополнительно                                                                                                                    \ndtype: object"
     },
     "execution_count": 10,
     "metadata": {},
     "output_type": "execute_result"
    }
   ],
   "source": [
    "def get_vac_data(url, delay=1):\n",
    "    vac_url = url\n",
    "    result = {'vac_url': vac_url}\n",
    "\n",
    "    time.sleep(delay)\n",
    "    resp = requests.get(vac_url)\n",
    "\n",
    "    if resp.status_code == 200:\n",
    "        soup = BeautifulSoup(resp.text, features='lxml')\n",
    "        header_info_cells = soup.select('.scroll-frame__header-info .scroll-frame__header-info-col')\n",
    "\n",
    "        for cell in header_info_cells:\n",
    "            cell_data = re.sub(r'\\n', '', cell.text)\n",
    "            cell_data = re.sub(r'<(^>|.)*>', '', cell_data)\n",
    "            cell_data = re.sub(r'\\s+', ' ', cell_data)\n",
    "            cell_data = cell_data.strip()\n",
    "            colon_position = cell_data.find(':')\n",
    "            key = cell_data[0:colon_position].strip().lower()\n",
    "            value = cell_data[colon_position + 1:].strip().lower()\n",
    "\n",
    "            result[key] = value\n",
    "\n",
    "        data_rows = soup.select('.shadow-block')\n",
    "\n",
    "        for row in data_rows:\n",
    "            key_tag = row.select_one('.shadow-block_table-cell_label')\n",
    "\n",
    "            if key_tag:\n",
    "                key = re.sub(r':$', '', key_tag.text.strip().lower())\n",
    "                value_tag = row.select_one('.shadow-block_table-cell:nth-child(2)')\n",
    "                value = re.sub('\\s+', ' ', value_tag.text.strip()) if value_tag else ''\n",
    "\n",
    "                result[key] = value\n",
    "\n",
    "    return result\n",
    "\n",
    "\n",
    "vac_list['url'] = vac_list['url'].apply(lambda x: 'https://xn----8sbfhdabdwf1afqu5baxe0f2d.xn--p1ai{0}'.format(x))\n",
    "vac_data = pd.Series(get_vac_data(vac_list.loc[0, 'url']))\n",
    "vac_data"
   ],
   "metadata": {
    "collapsed": false,
    "pycharm": {
     "name": "#%%\n"
    }
   }
  },
  {
   "cell_type": "markdown",
   "source": [
    "Далее аккуратно помучив несколько часов сайт [ученые-исследователи.рф](https://xn----8sbfhdabdwf1afqu5baxe0f2d.xn--p1ai/), был собран следующий массив данных:"
   ],
   "metadata": {
    "collapsed": false
   }
  },
  {
   "cell_type": "code",
   "execution_count": 16,
   "outputs": [
    {
     "data": {
      "text/plain": "           id short_name                                            org_url  \\\n0  qfosc1klbk       СКФУ  https://xn----8sbfhdabdwf1afqu5baxe0f2d.xn--p1...   \n1  qfosc1klbk       СКФУ  https://xn----8sbfhdabdwf1afqu5baxe0f2d.xn--p1...   \n2  qfosc1klbk       СКФУ  https://xn----8sbfhdabdwf1afqu5baxe0f2d.xn--p1...   \n3  qfosc1klbk       СКФУ  https://xn----8sbfhdabdwf1afqu5baxe0f2d.xn--p1...   \n4  qfosc1klbk       СКФУ  https://xn----8sbfhdabdwf1afqu5baxe0f2d.xn--p1...   \n\n      vac_id         vac_pub_date                 e-mail  \\\n0  VAC 82606  2021-09-08 14:44:00  ngandraburova@ncfu.ru   \n1  VAC 81256  2021-08-06 18:00:00  ngandraburova@ncfu.ru   \n2  VAC 81248  2021-08-06 17:22:00  ngandraburova@ncfu.ru   \n3  VAC 70745  2020-10-30 18:48:00       smasalov@ncfu.ru   \n4  VAC 64558  2020-07-24 16:51:00       smasalov@ncfu.ru   \n\n                                             vac_url  \\\n0  https://xn----8sbfhdabdwf1afqu5baxe0f2d.xn--p1...   \n1  https://xn----8sbfhdabdwf1afqu5baxe0f2d.xn--p1...   \n2  https://xn----8sbfhdabdwf1afqu5baxe0f2d.xn--p1...   \n3  https://xn----8sbfhdabdwf1afqu5baxe0f2d.xn--p1...   \n4  https://xn----8sbfhdabdwf1afqu5baxe0f2d.xn--p1...   \n\n  вакансия для выпускников вузов  годовое премирование  \\\n0                            Нет                     0   \n1                            Нет                     0   \n2                            Нет                     0   \n3                            Нет                     0   \n4                            Нет                     0   \n\n                                        деятельность  ...  \\\n0                            Проведение исследования  ...   \n1  Доведение до всеобщего сведения научных (научн...  ...   \n2                   Формирование научного коллектива  ...   \n3                                               ИНОЕ  ...   \n4                                               ИНОЕ  ...   \n\n                               трудовая деятельность  \\\n0  Обобщать научные и (или) научно-технические ре...   \n1  Анализировать научную и (или) научно-техническ...   \n2  Проводить исследования, эксперименты, наблюден...   \n3  Координировать деятельность научных коллективо...   \n4  Анализировать научную и (или) научно-техническ...   \n\n                                    трудовые функции условия премирования  \\\n0  Обобщение научных (научно-технических) результ...                  NaN   \n1  Обобщение научных (научно-технических) результ...                  NaN   \n2  Постановка задач исследования научному коллект...                  NaN   \n3  ИНОЕ - организует выполнение фундаментальных, ...                  NaN   \n4  Постановка задач исследования научному коллект...                  NaN   \n\n               ученая степень и звание     фамилия, имя, отчество  \\\n0  кандидат физико-математических наук  Масалов Сергей Валерьевич   \n1            кандидат юридических наук  Масалов Сергей Валерьевич   \n2                 доцент кандидат наук  Масалов Сергей Валерьевич   \n3            кандидат наук доктор наук  Масалов Сергей Валерьевич   \n4                        кандидат наук  Масалов Сергей Валерьевич   \n\n  дата проведения конкурса начало приема заявок окончание приема заявок  \\\n0                      NaN                  NaN                     NaN   \n1                      NaN                  NaN                     NaN   \n2      2021-08-27 09:00:00  2021-08-06 18:00:00     2021-08-26 18:00:00   \n3      2020-11-20 09:00:00  2020-10-30 19:00:00     2020-11-19 19:00:00   \n4      2020-08-25 09:00:00  2020-07-31 15:00:00     2020-08-20 15:00:00   \n\n  протокол решения комиссии решение комиссии  \n0                       NaN              NaN  \n1                       NaN              NaN  \n2                       NaN              NaN  \n3                       NaN              NaN  \n4                       NaN              NaN  \n\n[5 rows x 42 columns]",
      "text/html": "<div>\n<style scoped>\n    .dataframe tbody tr th:only-of-type {\n        vertical-align: middle;\n    }\n\n    .dataframe tbody tr th {\n        vertical-align: top;\n    }\n\n    .dataframe thead th {\n        text-align: right;\n    }\n</style>\n<table border=\"1\" class=\"dataframe\">\n  <thead>\n    <tr style=\"text-align: right;\">\n      <th></th>\n      <th>id</th>\n      <th>short_name</th>\n      <th>org_url</th>\n      <th>vac_id</th>\n      <th>vac_pub_date</th>\n      <th>e-mail</th>\n      <th>vac_url</th>\n      <th>вакансия для выпускников вузов</th>\n      <th>годовое премирование</th>\n      <th>деятельность</th>\n      <th>...</th>\n      <th>трудовая деятельность</th>\n      <th>трудовые функции</th>\n      <th>условия премирования</th>\n      <th>ученая степень и звание</th>\n      <th>фамилия, имя, отчество</th>\n      <th>дата проведения конкурса</th>\n      <th>начало приема заявок</th>\n      <th>окончание приема заявок</th>\n      <th>протокол решения комиссии</th>\n      <th>решение комиссии</th>\n    </tr>\n  </thead>\n  <tbody>\n    <tr>\n      <th>0</th>\n      <td>qfosc1klbk</td>\n      <td>СКФУ</td>\n      <td>https://xn----8sbfhdabdwf1afqu5baxe0f2d.xn--p1...</td>\n      <td>VAC 82606</td>\n      <td>2021-09-08 14:44:00</td>\n      <td>ngandraburova@ncfu.ru</td>\n      <td>https://xn----8sbfhdabdwf1afqu5baxe0f2d.xn--p1...</td>\n      <td>Нет</td>\n      <td>0</td>\n      <td>Проведение исследования</td>\n      <td>...</td>\n      <td>Обобщать научные и (или) научно-технические ре...</td>\n      <td>Обобщение научных (научно-технических) результ...</td>\n      <td>NaN</td>\n      <td>кандидат физико-математических наук</td>\n      <td>Масалов Сергей Валерьевич</td>\n      <td>NaN</td>\n      <td>NaN</td>\n      <td>NaN</td>\n      <td>NaN</td>\n      <td>NaN</td>\n    </tr>\n    <tr>\n      <th>1</th>\n      <td>qfosc1klbk</td>\n      <td>СКФУ</td>\n      <td>https://xn----8sbfhdabdwf1afqu5baxe0f2d.xn--p1...</td>\n      <td>VAC 81256</td>\n      <td>2021-08-06 18:00:00</td>\n      <td>ngandraburova@ncfu.ru</td>\n      <td>https://xn----8sbfhdabdwf1afqu5baxe0f2d.xn--p1...</td>\n      <td>Нет</td>\n      <td>0</td>\n      <td>Доведение до всеобщего сведения научных (научн...</td>\n      <td>...</td>\n      <td>Анализировать научную и (или) научно-техническ...</td>\n      <td>Обобщение научных (научно-технических) результ...</td>\n      <td>NaN</td>\n      <td>кандидат юридических наук</td>\n      <td>Масалов Сергей Валерьевич</td>\n      <td>NaN</td>\n      <td>NaN</td>\n      <td>NaN</td>\n      <td>NaN</td>\n      <td>NaN</td>\n    </tr>\n    <tr>\n      <th>2</th>\n      <td>qfosc1klbk</td>\n      <td>СКФУ</td>\n      <td>https://xn----8sbfhdabdwf1afqu5baxe0f2d.xn--p1...</td>\n      <td>VAC 81248</td>\n      <td>2021-08-06 17:22:00</td>\n      <td>ngandraburova@ncfu.ru</td>\n      <td>https://xn----8sbfhdabdwf1afqu5baxe0f2d.xn--p1...</td>\n      <td>Нет</td>\n      <td>0</td>\n      <td>Формирование научного коллектива</td>\n      <td>...</td>\n      <td>Проводить исследования, эксперименты, наблюден...</td>\n      <td>Постановка задач исследования научному коллект...</td>\n      <td>NaN</td>\n      <td>доцент кандидат наук</td>\n      <td>Масалов Сергей Валерьевич</td>\n      <td>2021-08-27 09:00:00</td>\n      <td>2021-08-06 18:00:00</td>\n      <td>2021-08-26 18:00:00</td>\n      <td>NaN</td>\n      <td>NaN</td>\n    </tr>\n    <tr>\n      <th>3</th>\n      <td>qfosc1klbk</td>\n      <td>СКФУ</td>\n      <td>https://xn----8sbfhdabdwf1afqu5baxe0f2d.xn--p1...</td>\n      <td>VAC 70745</td>\n      <td>2020-10-30 18:48:00</td>\n      <td>smasalov@ncfu.ru</td>\n      <td>https://xn----8sbfhdabdwf1afqu5baxe0f2d.xn--p1...</td>\n      <td>Нет</td>\n      <td>0</td>\n      <td>ИНОЕ</td>\n      <td>...</td>\n      <td>Координировать деятельность научных коллективо...</td>\n      <td>ИНОЕ - организует выполнение фундаментальных, ...</td>\n      <td>NaN</td>\n      <td>кандидат наук доктор наук</td>\n      <td>Масалов Сергей Валерьевич</td>\n      <td>2020-11-20 09:00:00</td>\n      <td>2020-10-30 19:00:00</td>\n      <td>2020-11-19 19:00:00</td>\n      <td>NaN</td>\n      <td>NaN</td>\n    </tr>\n    <tr>\n      <th>4</th>\n      <td>qfosc1klbk</td>\n      <td>СКФУ</td>\n      <td>https://xn----8sbfhdabdwf1afqu5baxe0f2d.xn--p1...</td>\n      <td>VAC 64558</td>\n      <td>2020-07-24 16:51:00</td>\n      <td>smasalov@ncfu.ru</td>\n      <td>https://xn----8sbfhdabdwf1afqu5baxe0f2d.xn--p1...</td>\n      <td>Нет</td>\n      <td>0</td>\n      <td>ИНОЕ</td>\n      <td>...</td>\n      <td>Анализировать научную и (или) научно-техническ...</td>\n      <td>Постановка задач исследования научному коллект...</td>\n      <td>NaN</td>\n      <td>кандидат наук</td>\n      <td>Масалов Сергей Валерьевич</td>\n      <td>2020-08-25 09:00:00</td>\n      <td>2020-07-31 15:00:00</td>\n      <td>2020-08-20 15:00:00</td>\n      <td>NaN</td>\n      <td>NaN</td>\n    </tr>\n  </tbody>\n</table>\n<p>5 rows × 42 columns</p>\n</div>"
     },
     "execution_count": 16,
     "metadata": {},
     "output_type": "execute_result"
    }
   ],
   "source": [
    "vacancies = pd.read_csv('data/university_vacancies.csv', sep=';')\n",
    "vacancies.head()"
   ],
   "metadata": {
    "collapsed": false,
    "pycharm": {
     "name": "#%%\n"
    }
   }
  },
  {
   "cell_type": "markdown",
   "source": [
    "На этом **всё**, т.к. цель данного документа была приблизительно показать механики, которые позволят Вам собрать данные с сайта [ученые-исследователи.рф](https://xn----8sbfhdabdwf1afqu5baxe0f2d.xn--p1ai/). Сам анализ предлагаю продолжить в соответсвующем [dashboard-е на DataLens](https://datalens.yandex/hr3o937ifwi29).\n",
    "\n",
    "Если у Вас есть вопросы, а ещё лучше улучшения к данному материалу, приглашаю Вас к открытому обсуждению в Телеграм [группе](https://t.me/psalgroup) посвящённой «Приоритету 2030» или ещё лучше, **присылайте свои issues-ы** сразу [в репозиторий](https://github.com/psalru/analytics/issues)."
   ],
   "metadata": {
    "collapsed": false
   }
  }
 ],
 "metadata": {
  "kernelspec": {
   "display_name": "Python 3",
   "language": "python",
   "name": "python3"
  },
  "language_info": {
   "codemirror_mode": {
    "name": "ipython",
    "version": 2
   },
   "file_extension": ".py",
   "mimetype": "text/x-python",
   "name": "python",
   "nbconvert_exporter": "python",
   "pygments_lexer": "ipython2",
   "version": "2.7.6"
  }
 },
 "nbformat": 4,
 "nbformat_minor": 0
}