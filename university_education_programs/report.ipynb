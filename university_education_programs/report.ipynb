{
 "cells": [
  {
   "cell_type": "code",
   "execution_count": 2,
   "metadata": {
    "collapsed": true
   },
   "outputs": [],
   "source": [
    "import pandas as pd"
   ]
  },
  {
   "cell_type": "markdown",
   "source": [
    "# Направления подготовки в университетах, участниках программы «Приоритет 2030»\n",
    "\n",
    "Стало любопытно, на сколько ровным слоем размазалась программа «Приоритет 2030» по действующим направлениям подготовки (бакалавриат, специалитет, магистратура).\n",
    "\n",
    "# Исходные данные для работы\n",
    "\n",
    "1. Для сбора информации по направлениям подготовки с привязкой к университету я переиспользовал данные из предыдущей [аналитики про сайты униеристетов](https://github.com/psalru/analytics/blob/master/website_technologies/report.ipynb) и дополних страницами, на которых размещены направления подготовки. На выходе получился [следующий файлик](https://github.com/psalru/analytics/blob/859c2dcd013a86ea2bf59689b4aa756693fd16a9/university_education_programs/data/pages_and_names.csv). Особо надо отметить, что казалось бы раздел «Сведения об обращовательной организации» хорошо обюрокраченная сущность и связанна с продлением аккредитации, ан нет, «кто в лес кто по дрова»... получил отдельно удовольствие от работы ручками и к сожалению у 4 университетов я не смог найти страницы, за который смогбы зацепиться."
   ],
   "metadata": {
    "collapsed": false
   }
  },
  {
   "cell_type": "code",
   "execution_count": 5,
   "outputs": [
    {
     "data": {
      "text/plain": "                          site path     name\n85       https://www.s-vfu.ru/  NaN     СВФУ\n91         https://stankin.ru/  NaN  СТАНКИН\n97   https://www.uniyar.ac.ru/  NaN     ЯрГУ\n106       http://www.ursmu.ru/  NaN     УГГУ",
      "text/html": "<div>\n<style scoped>\n    .dataframe tbody tr th:only-of-type {\n        vertical-align: middle;\n    }\n\n    .dataframe tbody tr th {\n        vertical-align: top;\n    }\n\n    .dataframe thead th {\n        text-align: right;\n    }\n</style>\n<table border=\"1\" class=\"dataframe\">\n  <thead>\n    <tr style=\"text-align: right;\">\n      <th></th>\n      <th>site</th>\n      <th>path</th>\n      <th>name</th>\n    </tr>\n  </thead>\n  <tbody>\n    <tr>\n      <th>85</th>\n      <td>https://www.s-vfu.ru/</td>\n      <td>NaN</td>\n      <td>СВФУ</td>\n    </tr>\n    <tr>\n      <th>91</th>\n      <td>https://stankin.ru/</td>\n      <td>NaN</td>\n      <td>СТАНКИН</td>\n    </tr>\n    <tr>\n      <th>97</th>\n      <td>https://www.uniyar.ac.ru/</td>\n      <td>NaN</td>\n      <td>ЯрГУ</td>\n    </tr>\n    <tr>\n      <th>106</th>\n      <td>http://www.ursmu.ru/</td>\n      <td>NaN</td>\n      <td>УГГУ</td>\n    </tr>\n  </tbody>\n</table>\n</div>"
     },
     "execution_count": 5,
     "metadata": {},
     "output_type": "execute_result"
    }
   ],
   "source": [
    "univ = pd.read_csv('data/pages_and_names.csv')\n",
    "univ[univ.path.isnull()]"
   ],
   "metadata": {
    "collapsed": false,
    "pycharm": {
     "name": "#%%\n"
    }
   }
  },
  {
   "cell_type": "markdown",
   "source": [
    "2. Перечень актуальных направлений взят с сайта ООО «НПП «ГАРАНТ-СЕРВИС» ([бакалавриат](https://base.garant.ru/70480868/53f89421bbdaf741eb2d1ecc4ddb4c33/), [специалитет](https://base.garant.ru/70480868/3e22e51c74db8e0b182fad67b502e640/), [магистратура](https://base.garant.ru/70480868/f7ee959fd36b5699076b35abf4f52c5c/)). С помощью **deep** copy/paste/LibreOffice свел это всё к [данному файлику](https://github.com/psalru/analytics/blob/859c2dcd013a86ea2bf59689b4aa756693fd16a9/university_education_programs/data/all_education_programs.csv)."
   ],
   "metadata": {
    "collapsed": false
   }
  },
  {
   "cell_type": "code",
   "execution_count": 7,
   "outputs": [
    {
     "data": {
      "text/plain": "         level                          block_title group_number  \\\n0  Бакалавриат  Математические и естественные науки     01.00.00   \n1  Бакалавриат  Математические и естественные науки     01.00.00   \n2  Бакалавриат  Математические и естественные науки     01.00.00   \n3  Бакалавриат  Математические и естественные науки     01.00.00   \n4  Бакалавриат  Математические и естественные науки     01.00.00   \n5  Бакалавриат  Математические и естественные науки     02.00.00   \n6  Бакалавриат  Математические и естественные науки     02.00.00   \n7  Бакалавриат  Математические и естественные науки     02.00.00   \n8  Бакалавриат  Математические и естественные науки     03.00.00   \n9  Бакалавриат  Математические и естественные науки     03.00.00   \n\n                           group_title program_number  \\\n0                Математика и механика       01.03.01   \n1                Математика и механика       01.03.02   \n2                Математика и механика       01.03.03   \n3                Математика и механика       01.03.04   \n4                Математика и механика       01.03.05   \n5  Компьютерные и информационные науки       02.03.01   \n6  Компьютерные и информационные науки       02.03.02   \n7  Компьютерные и информационные науки       02.03.03   \n8                  Физика и астрономия       03.03.01   \n9                  Физика и астрономия       03.03.02   \n\n                                       program_title  \n0                                         Математика  \n1                Прикладная математика и информатика  \n2            Механика и математическое моделирование  \n3                              Прикладная математика  \n4                                         Статистика  \n5                    Математика и компьютерные науки  \n6  Фундаментальная информатика и информационные т...  \n7  Математическое обеспечение и администрирование...  \n8                     Прикладные математика и физика  \n9                                             Физика  ",
      "text/html": "<div>\n<style scoped>\n    .dataframe tbody tr th:only-of-type {\n        vertical-align: middle;\n    }\n\n    .dataframe tbody tr th {\n        vertical-align: top;\n    }\n\n    .dataframe thead th {\n        text-align: right;\n    }\n</style>\n<table border=\"1\" class=\"dataframe\">\n  <thead>\n    <tr style=\"text-align: right;\">\n      <th></th>\n      <th>level</th>\n      <th>block_title</th>\n      <th>group_number</th>\n      <th>group_title</th>\n      <th>program_number</th>\n      <th>program_title</th>\n    </tr>\n  </thead>\n  <tbody>\n    <tr>\n      <th>0</th>\n      <td>Бакалавриат</td>\n      <td>Математические и естественные науки</td>\n      <td>01.00.00</td>\n      <td>Математика и механика</td>\n      <td>01.03.01</td>\n      <td>Математика</td>\n    </tr>\n    <tr>\n      <th>1</th>\n      <td>Бакалавриат</td>\n      <td>Математические и естественные науки</td>\n      <td>01.00.00</td>\n      <td>Математика и механика</td>\n      <td>01.03.02</td>\n      <td>Прикладная математика и информатика</td>\n    </tr>\n    <tr>\n      <th>2</th>\n      <td>Бакалавриат</td>\n      <td>Математические и естественные науки</td>\n      <td>01.00.00</td>\n      <td>Математика и механика</td>\n      <td>01.03.03</td>\n      <td>Механика и математическое моделирование</td>\n    </tr>\n    <tr>\n      <th>3</th>\n      <td>Бакалавриат</td>\n      <td>Математические и естественные науки</td>\n      <td>01.00.00</td>\n      <td>Математика и механика</td>\n      <td>01.03.04</td>\n      <td>Прикладная математика</td>\n    </tr>\n    <tr>\n      <th>4</th>\n      <td>Бакалавриат</td>\n      <td>Математические и естественные науки</td>\n      <td>01.00.00</td>\n      <td>Математика и механика</td>\n      <td>01.03.05</td>\n      <td>Статистика</td>\n    </tr>\n    <tr>\n      <th>5</th>\n      <td>Бакалавриат</td>\n      <td>Математические и естественные науки</td>\n      <td>02.00.00</td>\n      <td>Компьютерные и информационные науки</td>\n      <td>02.03.01</td>\n      <td>Математика и компьютерные науки</td>\n    </tr>\n    <tr>\n      <th>6</th>\n      <td>Бакалавриат</td>\n      <td>Математические и естественные науки</td>\n      <td>02.00.00</td>\n      <td>Компьютерные и информационные науки</td>\n      <td>02.03.02</td>\n      <td>Фундаментальная информатика и информационные т...</td>\n    </tr>\n    <tr>\n      <th>7</th>\n      <td>Бакалавриат</td>\n      <td>Математические и естественные науки</td>\n      <td>02.00.00</td>\n      <td>Компьютерные и информационные науки</td>\n      <td>02.03.03</td>\n      <td>Математическое обеспечение и администрирование...</td>\n    </tr>\n    <tr>\n      <th>8</th>\n      <td>Бакалавриат</td>\n      <td>Математические и естественные науки</td>\n      <td>03.00.00</td>\n      <td>Физика и астрономия</td>\n      <td>03.03.01</td>\n      <td>Прикладные математика и физика</td>\n    </tr>\n    <tr>\n      <th>9</th>\n      <td>Бакалавриат</td>\n      <td>Математические и естественные науки</td>\n      <td>03.00.00</td>\n      <td>Физика и астрономия</td>\n      <td>03.03.02</td>\n      <td>Физика</td>\n    </tr>\n  </tbody>\n</table>\n</div>"
     },
     "execution_count": 7,
     "metadata": {},
     "output_type": "execute_result"
    }
   ],
   "source": [
    "programs = pd.read_csv('data/all_education_programs.csv')\n",
    "programs.head(10)"
   ],
   "metadata": {
    "collapsed": false,
    "pycharm": {
     "name": "#%%\n"
    }
   }
  },
  {
   "cell_type": "markdown",
   "source": [
    "3. Далее с помощью [не хитрого скрипта](https://github.com/psalru/analytics/blob/859c2dcd013a86ea2bf59689b4aa756693fd16a9/university_education_programs/save_pages_with_programs.py) пострался выкачать в автоматическом режиме страницы содержащие программы подготовки (зафиксировал [отчёт](https://github.com/psalru/analytics/blob/859c2dcd013a86ea2bf59689b4aa756693fd16a9/university_education_programs/data/pages/download_report.csv)), остальное пришлось досохранять ручками. В результате получилась [папка со 108 страницами](https://github.com/psalru/analytics/blob/859c2dcd013a86ea2bf59689b4aa756693fd16a9/university_education_programs/data/pages) (больше чем участников программы, т.к. у некоторых университетов список программ располагался больше чем на одной странице)."
   ],
   "metadata": {
    "collapsed": false
   }
  },
  {
   "cell_type": "code",
   "execution_count": 9,
   "outputs": [
    {
     "data": {
      "text/plain": "   Unnamed: 0                    site  \\\n0           0     https://www.hse.ru/   \n1           1   https://wwv.bmstu.ru/   \n2           2        https://mipt.ru/   \n3           3   https://eis.mephi.ru/   \n4           4   https://eis.mephi.ru/   \n5           5       https://misis.ru/   \n6           6  https://www.spbstu.ru/   \n7           7     https://www.tsu.ru/   \n8           8     https://www.tpu.ru/   \n9           9        https://itmo.ru/   \n\n                                                path          name  \\\n0                                  sveden/education/       НИУ ВШЭ   \n1                                  sveden/education/  МГТУ Баумана   \n2                        sveden/education/eduAccred/          МФТИ   \n3  AccGateway/index.aspx?report_param_gosn=3&repo...     НИЯУ МИФИ   \n4  AccGateway/index.aspx?report_param_gosn=3&repo...     НИЯУ МИФИ   \n5                        sveden/education/eduAccred/         МИСиС   \n6        sveden/education/list-educational-programs/         СПбПУ   \n7                                   sveden/education           ТГУ   \n8                                   sveden/education           ТПУ   \n9                                  sveden/education/          ИТМО   \n\n   is_download  \n0         True  \n1         True  \n2         True  \n3         True  \n4         True  \n5         True  \n6         True  \n7         True  \n8         True  \n9         True  ",
      "text/html": "<div>\n<style scoped>\n    .dataframe tbody tr th:only-of-type {\n        vertical-align: middle;\n    }\n\n    .dataframe tbody tr th {\n        vertical-align: top;\n    }\n\n    .dataframe thead th {\n        text-align: right;\n    }\n</style>\n<table border=\"1\" class=\"dataframe\">\n  <thead>\n    <tr style=\"text-align: right;\">\n      <th></th>\n      <th>Unnamed: 0</th>\n      <th>site</th>\n      <th>path</th>\n      <th>name</th>\n      <th>is_download</th>\n    </tr>\n  </thead>\n  <tbody>\n    <tr>\n      <th>0</th>\n      <td>0</td>\n      <td>https://www.hse.ru/</td>\n      <td>sveden/education/</td>\n      <td>НИУ ВШЭ</td>\n      <td>True</td>\n    </tr>\n    <tr>\n      <th>1</th>\n      <td>1</td>\n      <td>https://wwv.bmstu.ru/</td>\n      <td>sveden/education/</td>\n      <td>МГТУ Баумана</td>\n      <td>True</td>\n    </tr>\n    <tr>\n      <th>2</th>\n      <td>2</td>\n      <td>https://mipt.ru/</td>\n      <td>sveden/education/eduAccred/</td>\n      <td>МФТИ</td>\n      <td>True</td>\n    </tr>\n    <tr>\n      <th>3</th>\n      <td>3</td>\n      <td>https://eis.mephi.ru/</td>\n      <td>AccGateway/index.aspx?report_param_gosn=3&amp;repo...</td>\n      <td>НИЯУ МИФИ</td>\n      <td>True</td>\n    </tr>\n    <tr>\n      <th>4</th>\n      <td>4</td>\n      <td>https://eis.mephi.ru/</td>\n      <td>AccGateway/index.aspx?report_param_gosn=3&amp;repo...</td>\n      <td>НИЯУ МИФИ</td>\n      <td>True</td>\n    </tr>\n    <tr>\n      <th>5</th>\n      <td>5</td>\n      <td>https://misis.ru/</td>\n      <td>sveden/education/eduAccred/</td>\n      <td>МИСиС</td>\n      <td>True</td>\n    </tr>\n    <tr>\n      <th>6</th>\n      <td>6</td>\n      <td>https://www.spbstu.ru/</td>\n      <td>sveden/education/list-educational-programs/</td>\n      <td>СПбПУ</td>\n      <td>True</td>\n    </tr>\n    <tr>\n      <th>7</th>\n      <td>7</td>\n      <td>https://www.tsu.ru/</td>\n      <td>sveden/education</td>\n      <td>ТГУ</td>\n      <td>True</td>\n    </tr>\n    <tr>\n      <th>8</th>\n      <td>8</td>\n      <td>https://www.tpu.ru/</td>\n      <td>sveden/education</td>\n      <td>ТПУ</td>\n      <td>True</td>\n    </tr>\n    <tr>\n      <th>9</th>\n      <td>9</td>\n      <td>https://itmo.ru/</td>\n      <td>sveden/education/</td>\n      <td>ИТМО</td>\n      <td>True</td>\n    </tr>\n  </tbody>\n</table>\n</div>"
     },
     "execution_count": 9,
     "metadata": {},
     "output_type": "execute_result"
    }
   ],
   "source": [
    "download_report = pd.read_csv('data/pages/download_report.csv')\n",
    "download_report.head(10)"
   ],
   "metadata": {
    "collapsed": false,
    "pycharm": {
     "name": "#%%\n"
    }
   }
  }
 ],
 "metadata": {
  "kernelspec": {
   "display_name": "Python 3",
   "language": "python",
   "name": "python3"
  },
  "language_info": {
   "codemirror_mode": {
    "name": "ipython",
    "version": 2
   },
   "file_extension": ".py",
   "mimetype": "text/x-python",
   "name": "python",
   "nbconvert_exporter": "python",
   "pygments_lexer": "ipython2",
   "version": "2.7.6"
  }
 },
 "nbformat": 4,
 "nbformat_minor": 0
}