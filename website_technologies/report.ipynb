{
 "cells": [
  {
   "cell_type": "code",
   "execution_count": 1,
   "metadata": {
    "collapsed": true
   },
   "outputs": [],
   "source": [
    "import pandas as pd"
   ]
  },
  {
   "cell_type": "markdown",
   "source": [
    "# Технологии используемые на сайтах университетов\n",
    "\n",
    "Решил изучить из чего собирают сайты университетов, участников [программы «Приоритет 2030»](https://priority2030.ru/). Что делал и использовал:\n",
    "\n",
    "1. Взяты названия всех университетов, которые на ноябрь 2021 участвуют в программе (101);\n",
    "2. С помощью [Яндекса](https://yandex.ru/) собранны сайты университетов и сформирован [файлик](./data/sites_and_names.csv) со всем этим добром;\n",
    "3. С помощью API сервиса [Wappalyzer](https://www.wappalyzer.com/) и не хитрого [bash-скрипта](./data/get_tech.sh) сформированы [json-чики](./data/technologies) с технологиями используемыми на главных страницах;\n",
    "4. Далее немного покрутив сформирована [матрица](./data/resul.csv) университеты х технологии (любители Ecxel последуйте по [ссылке](./data/resul.xls)).\n",
    "\n",
    "## Исследуемые данные\n",
    "\n",
    "Выведем первые 10 записей матрицы, которую используем для анализа."
   ],
   "metadata": {
    "collapsed": false
   }
  },
  {
   "cell_type": "code",
   "execution_count": 3,
   "outputs": [
    {
     "data": {
      "text/plain": "   Unnamed: 0                      Название      Категория  НИУ ВШЭ  \\\n0           0               Google Optimize    A/B Testing        1   \n1           1                       UserWay  Accessibility        0   \n2           2                   Twitter Ads    Advertising        0   \n3           3                Google AdSense    Advertising        0   \n4           4                Yandex.Metrika      Analytics        1   \n5           5              Google Analytics      Analytics        1   \n6           6                      VK Pixel      Analytics        1   \n7           7                Facebook Pixel      Analytics        1   \n8           8                  Liveinternet      Analytics        0   \n9           9  Alexa Certified Site Metrics      Analytics        0   \n\n   МГТУ Баумана  МФТИ  НИЯУ МИФИ  МИСиС  СПбПУ  ТГУ  ...  Оренбург ГУ  \\\n0             0     0          0      0      0    0  ...            0   \n1             0     0          0      0      0    0  ...            0   \n2             0     0          0      0      0    0  ...            0   \n3             0     0          0      0      0    0  ...            0   \n4             0     1          1      1      1    1  ...            1   \n5             0     1          1      1      1    1  ...            0   \n6             0     1          0      1      1    0  ...            1   \n7             0     1          0      0      1    0  ...            0   \n8             0     0          0      0      0    0  ...            0   \n9             0     0          0      0      0    0  ...            0   \n\n   ПсковГУ  УлГУ  УГГУ  ТГУ имени Г.Р. Державина  ПГУПС  \\\n0        0     0     0                         0      0   \n1        0     0     0                         0      0   \n2        0     0     0                         0      0   \n3        0     0     0                         0      0   \n4        0     1     1                         1      1   \n5        0     1     1                         1      1   \n6        0     0     0                         1      0   \n7        0     0     0                         0      0   \n8        1     0     1                         0      0   \n9        0     0     0                         0      0   \n\n   СГМУ Минздрава России  Тюменский ГМУ Минздрава России  ЮЗГУ  Количество  \n0                      0                               0     0           1  \n1                      0                               0     1           3  \n2                      0                               0     0           6  \n3                      0                               0     0           1  \n4                      1                               1     1          94  \n5                      0                               0     1          76  \n6                      0                               0     1          25  \n7                      0                               0     0          21  \n8                      0                               0     0           9  \n9                      0                               0     0           2  \n\n[10 rows x 105 columns]",
      "text/html": "<div>\n<style scoped>\n    .dataframe tbody tr th:only-of-type {\n        vertical-align: middle;\n    }\n\n    .dataframe tbody tr th {\n        vertical-align: top;\n    }\n\n    .dataframe thead th {\n        text-align: right;\n    }\n</style>\n<table border=\"1\" class=\"dataframe\">\n  <thead>\n    <tr style=\"text-align: right;\">\n      <th></th>\n      <th>Unnamed: 0</th>\n      <th>Название</th>\n      <th>Категория</th>\n      <th>НИУ ВШЭ</th>\n      <th>МГТУ Баумана</th>\n      <th>МФТИ</th>\n      <th>НИЯУ МИФИ</th>\n      <th>МИСиС</th>\n      <th>СПбПУ</th>\n      <th>ТГУ</th>\n      <th>...</th>\n      <th>Оренбург ГУ</th>\n      <th>ПсковГУ</th>\n      <th>УлГУ</th>\n      <th>УГГУ</th>\n      <th>ТГУ имени Г.Р. Державина</th>\n      <th>ПГУПС</th>\n      <th>СГМУ Минздрава России</th>\n      <th>Тюменский ГМУ Минздрава России</th>\n      <th>ЮЗГУ</th>\n      <th>Количество</th>\n    </tr>\n  </thead>\n  <tbody>\n    <tr>\n      <th>0</th>\n      <td>0</td>\n      <td>Google Optimize</td>\n      <td>A/B Testing</td>\n      <td>1</td>\n      <td>0</td>\n      <td>0</td>\n      <td>0</td>\n      <td>0</td>\n      <td>0</td>\n      <td>0</td>\n      <td>...</td>\n      <td>0</td>\n      <td>0</td>\n      <td>0</td>\n      <td>0</td>\n      <td>0</td>\n      <td>0</td>\n      <td>0</td>\n      <td>0</td>\n      <td>0</td>\n      <td>1</td>\n    </tr>\n    <tr>\n      <th>1</th>\n      <td>1</td>\n      <td>UserWay</td>\n      <td>Accessibility</td>\n      <td>0</td>\n      <td>0</td>\n      <td>0</td>\n      <td>0</td>\n      <td>0</td>\n      <td>0</td>\n      <td>0</td>\n      <td>...</td>\n      <td>0</td>\n      <td>0</td>\n      <td>0</td>\n      <td>0</td>\n      <td>0</td>\n      <td>0</td>\n      <td>0</td>\n      <td>0</td>\n      <td>1</td>\n      <td>3</td>\n    </tr>\n    <tr>\n      <th>2</th>\n      <td>2</td>\n      <td>Twitter Ads</td>\n      <td>Advertising</td>\n      <td>0</td>\n      <td>0</td>\n      <td>0</td>\n      <td>0</td>\n      <td>0</td>\n      <td>0</td>\n      <td>0</td>\n      <td>...</td>\n      <td>0</td>\n      <td>0</td>\n      <td>0</td>\n      <td>0</td>\n      <td>0</td>\n      <td>0</td>\n      <td>0</td>\n      <td>0</td>\n      <td>0</td>\n      <td>6</td>\n    </tr>\n    <tr>\n      <th>3</th>\n      <td>3</td>\n      <td>Google AdSense</td>\n      <td>Advertising</td>\n      <td>0</td>\n      <td>0</td>\n      <td>0</td>\n      <td>0</td>\n      <td>0</td>\n      <td>0</td>\n      <td>0</td>\n      <td>...</td>\n      <td>0</td>\n      <td>0</td>\n      <td>0</td>\n      <td>0</td>\n      <td>0</td>\n      <td>0</td>\n      <td>0</td>\n      <td>0</td>\n      <td>0</td>\n      <td>1</td>\n    </tr>\n    <tr>\n      <th>4</th>\n      <td>4</td>\n      <td>Yandex.Metrika</td>\n      <td>Analytics</td>\n      <td>1</td>\n      <td>0</td>\n      <td>1</td>\n      <td>1</td>\n      <td>1</td>\n      <td>1</td>\n      <td>1</td>\n      <td>...</td>\n      <td>1</td>\n      <td>0</td>\n      <td>1</td>\n      <td>1</td>\n      <td>1</td>\n      <td>1</td>\n      <td>1</td>\n      <td>1</td>\n      <td>1</td>\n      <td>94</td>\n    </tr>\n    <tr>\n      <th>5</th>\n      <td>5</td>\n      <td>Google Analytics</td>\n      <td>Analytics</td>\n      <td>1</td>\n      <td>0</td>\n      <td>1</td>\n      <td>1</td>\n      <td>1</td>\n      <td>1</td>\n      <td>1</td>\n      <td>...</td>\n      <td>0</td>\n      <td>0</td>\n      <td>1</td>\n      <td>1</td>\n      <td>1</td>\n      <td>1</td>\n      <td>0</td>\n      <td>0</td>\n      <td>1</td>\n      <td>76</td>\n    </tr>\n    <tr>\n      <th>6</th>\n      <td>6</td>\n      <td>VK Pixel</td>\n      <td>Analytics</td>\n      <td>1</td>\n      <td>0</td>\n      <td>1</td>\n      <td>0</td>\n      <td>1</td>\n      <td>1</td>\n      <td>0</td>\n      <td>...</td>\n      <td>1</td>\n      <td>0</td>\n      <td>0</td>\n      <td>0</td>\n      <td>1</td>\n      <td>0</td>\n      <td>0</td>\n      <td>0</td>\n      <td>1</td>\n      <td>25</td>\n    </tr>\n    <tr>\n      <th>7</th>\n      <td>7</td>\n      <td>Facebook Pixel</td>\n      <td>Analytics</td>\n      <td>1</td>\n      <td>0</td>\n      <td>1</td>\n      <td>0</td>\n      <td>0</td>\n      <td>1</td>\n      <td>0</td>\n      <td>...</td>\n      <td>0</td>\n      <td>0</td>\n      <td>0</td>\n      <td>0</td>\n      <td>0</td>\n      <td>0</td>\n      <td>0</td>\n      <td>0</td>\n      <td>0</td>\n      <td>21</td>\n    </tr>\n    <tr>\n      <th>8</th>\n      <td>8</td>\n      <td>Liveinternet</td>\n      <td>Analytics</td>\n      <td>0</td>\n      <td>0</td>\n      <td>0</td>\n      <td>0</td>\n      <td>0</td>\n      <td>0</td>\n      <td>0</td>\n      <td>...</td>\n      <td>0</td>\n      <td>1</td>\n      <td>0</td>\n      <td>1</td>\n      <td>0</td>\n      <td>0</td>\n      <td>0</td>\n      <td>0</td>\n      <td>0</td>\n      <td>9</td>\n    </tr>\n    <tr>\n      <th>9</th>\n      <td>9</td>\n      <td>Alexa Certified Site Metrics</td>\n      <td>Analytics</td>\n      <td>0</td>\n      <td>0</td>\n      <td>0</td>\n      <td>0</td>\n      <td>0</td>\n      <td>0</td>\n      <td>0</td>\n      <td>...</td>\n      <td>0</td>\n      <td>0</td>\n      <td>0</td>\n      <td>0</td>\n      <td>0</td>\n      <td>0</td>\n      <td>0</td>\n      <td>0</td>\n      <td>0</td>\n      <td>2</td>\n    </tr>\n  </tbody>\n</table>\n<p>10 rows × 105 columns</p>\n</div>"
     },
     "execution_count": 3,
     "metadata": {},
     "output_type": "execute_result"
    }
   ],
   "source": [
    "df = pd.read_csv('data/resul.csv')\n",
    "df.head(10)"
   ],
   "metadata": {
    "collapsed": false,
    "pycharm": {
     "name": "#%%\n"
    }
   }
  },
  {
   "cell_type": "code",
   "execution_count": 4,
   "outputs": [],
   "source": [
    "# Убираем всё ненужное\n",
    "df = df[['Название', 'Категория', 'Количество']]"
   ],
   "metadata": {
    "collapsed": false,
    "pycharm": {
     "name": "#%%\n"
    }
   }
  },
  {
   "cell_type": "markdown",
   "source": [
    "## Наиболее востребованные технологии на сайте университетов\n",
    "\n",
    "В языках программирования у нас c лютым отрывом побеждает [PHP](https://www.php.net/) 👏"
   ],
   "metadata": {
    "collapsed": false
   }
  },
  {
   "cell_type": "code",
   "execution_count": 6,
   "outputs": [
    {
     "data": {
      "text/plain": "   index    Название              Категория  Количество\n0    112         PHP  Programming languages          75\n1    113  TypeScript  Programming languages           6\n2    114        Java  Programming languages           3\n3    115      Python  Programming languages           3\n4    116     Node.js  Programming languages           2\n5    117        Ruby  Programming languages           1",
      "text/html": "<div>\n<style scoped>\n    .dataframe tbody tr th:only-of-type {\n        vertical-align: middle;\n    }\n\n    .dataframe tbody tr th {\n        vertical-align: top;\n    }\n\n    .dataframe thead th {\n        text-align: right;\n    }\n</style>\n<table border=\"1\" class=\"dataframe\">\n  <thead>\n    <tr style=\"text-align: right;\">\n      <th></th>\n      <th>index</th>\n      <th>Название</th>\n      <th>Категория</th>\n      <th>Количество</th>\n    </tr>\n  </thead>\n  <tbody>\n    <tr>\n      <th>0</th>\n      <td>112</td>\n      <td>PHP</td>\n      <td>Programming languages</td>\n      <td>75</td>\n    </tr>\n    <tr>\n      <th>1</th>\n      <td>113</td>\n      <td>TypeScript</td>\n      <td>Programming languages</td>\n      <td>6</td>\n    </tr>\n    <tr>\n      <th>2</th>\n      <td>114</td>\n      <td>Java</td>\n      <td>Programming languages</td>\n      <td>3</td>\n    </tr>\n    <tr>\n      <th>3</th>\n      <td>115</td>\n      <td>Python</td>\n      <td>Programming languages</td>\n      <td>3</td>\n    </tr>\n    <tr>\n      <th>4</th>\n      <td>116</td>\n      <td>Node.js</td>\n      <td>Programming languages</td>\n      <td>2</td>\n    </tr>\n    <tr>\n      <th>5</th>\n      <td>117</td>\n      <td>Ruby</td>\n      <td>Programming languages</td>\n      <td>1</td>\n    </tr>\n  </tbody>\n</table>\n</div>"
     },
     "execution_count": 6,
     "metadata": {},
     "output_type": "execute_result"
    }
   ],
   "source": [
    "\n",
    "df[df['Категория'] == 'Programming languages'].head(10).reset_index()"
   ],
   "metadata": {
    "collapsed": false,
    "pycharm": {
     "name": "#%%\n"
    }
   }
  },
  {
   "cell_type": "markdown",
   "source": [
    "Что первичней CMS или язык разработки не понятно, но сразу зафиксируем что Российская [1C-Bitrix](https://www.1c-bitrix.ru/) лидирует."
   ],
   "metadata": {
    "collapsed": false
   }
  },
  {
   "cell_type": "code",
   "execution_count": 7,
   "outputs": [
    {
     "data": {
      "text/plain": "   index              Название Категория  Количество\n0     21             1C-Bitrix       CMS          39\n1     22                Drupal       CMS           6\n2     23             WordPress       CMS           5\n3     24                Joomla       CMS           3\n4     25             TYPO3 CMS       CMS           2\n5     26  Microsoft SharePoint       CMS           2\n6     27                 Tilda       CMS           1\n7     28               UMI.CMS       CMS           1\n8     29              Bolt CMS       CMS           1\n9     30               Liferay       CMS           1",
      "text/html": "<div>\n<style scoped>\n    .dataframe tbody tr th:only-of-type {\n        vertical-align: middle;\n    }\n\n    .dataframe tbody tr th {\n        vertical-align: top;\n    }\n\n    .dataframe thead th {\n        text-align: right;\n    }\n</style>\n<table border=\"1\" class=\"dataframe\">\n  <thead>\n    <tr style=\"text-align: right;\">\n      <th></th>\n      <th>index</th>\n      <th>Название</th>\n      <th>Категория</th>\n      <th>Количество</th>\n    </tr>\n  </thead>\n  <tbody>\n    <tr>\n      <th>0</th>\n      <td>21</td>\n      <td>1C-Bitrix</td>\n      <td>CMS</td>\n      <td>39</td>\n    </tr>\n    <tr>\n      <th>1</th>\n      <td>22</td>\n      <td>Drupal</td>\n      <td>CMS</td>\n      <td>6</td>\n    </tr>\n    <tr>\n      <th>2</th>\n      <td>23</td>\n      <td>WordPress</td>\n      <td>CMS</td>\n      <td>5</td>\n    </tr>\n    <tr>\n      <th>3</th>\n      <td>24</td>\n      <td>Joomla</td>\n      <td>CMS</td>\n      <td>3</td>\n    </tr>\n    <tr>\n      <th>4</th>\n      <td>25</td>\n      <td>TYPO3 CMS</td>\n      <td>CMS</td>\n      <td>2</td>\n    </tr>\n    <tr>\n      <th>5</th>\n      <td>26</td>\n      <td>Microsoft SharePoint</td>\n      <td>CMS</td>\n      <td>2</td>\n    </tr>\n    <tr>\n      <th>6</th>\n      <td>27</td>\n      <td>Tilda</td>\n      <td>CMS</td>\n      <td>1</td>\n    </tr>\n    <tr>\n      <th>7</th>\n      <td>28</td>\n      <td>UMI.CMS</td>\n      <td>CMS</td>\n      <td>1</td>\n    </tr>\n    <tr>\n      <th>8</th>\n      <td>29</td>\n      <td>Bolt CMS</td>\n      <td>CMS</td>\n      <td>1</td>\n    </tr>\n    <tr>\n      <th>9</th>\n      <td>30</td>\n      <td>Liferay</td>\n      <td>CMS</td>\n      <td>1</td>\n    </tr>\n  </tbody>\n</table>\n</div>"
     },
     "execution_count": 7,
     "metadata": {},
     "output_type": "execute_result"
    }
   ],
   "source": [
    "df[df['Категория'] == 'CMS'].head(10).reset_index()"
   ],
   "metadata": {
    "collapsed": false,
    "pycharm": {
     "name": "#%%\n"
    }
   }
  },
  {
   "cell_type": "markdown",
   "source": [
    "Вузы не забывают про аналитику, где ТОП 1 занимает 🇷🇺 отечественна [Я.Метрика](https://metrika.yandex.ru/):"
   ],
   "metadata": {
    "collapsed": false
   }
  },
  {
   "cell_type": "code",
   "execution_count": 8,
   "outputs": [
    {
     "data": {
      "text/plain": "   index                             Название  Категория  Количество\n0      4                       Yandex.Metrika  Analytics          94\n1      5                     Google Analytics  Analytics          76\n2      6                             VK Pixel  Analytics          25\n3      7                       Facebook Pixel  Analytics          21\n4      8                         Liveinternet  Analytics           9\n5      9         Alexa Certified Site Metrics  Analytics           2\n6     10                     Matomo Analytics  Analytics           1\n7     11       Google Ads Conversion Tracking  Analytics           1\n8     12          Cloudflare Browser Insights  Analytics           1\n9     13  Google Analytics Enhanced eCommerce  Analytics           1",
      "text/html": "<div>\n<style scoped>\n    .dataframe tbody tr th:only-of-type {\n        vertical-align: middle;\n    }\n\n    .dataframe tbody tr th {\n        vertical-align: top;\n    }\n\n    .dataframe thead th {\n        text-align: right;\n    }\n</style>\n<table border=\"1\" class=\"dataframe\">\n  <thead>\n    <tr style=\"text-align: right;\">\n      <th></th>\n      <th>index</th>\n      <th>Название</th>\n      <th>Категория</th>\n      <th>Количество</th>\n    </tr>\n  </thead>\n  <tbody>\n    <tr>\n      <th>0</th>\n      <td>4</td>\n      <td>Yandex.Metrika</td>\n      <td>Analytics</td>\n      <td>94</td>\n    </tr>\n    <tr>\n      <th>1</th>\n      <td>5</td>\n      <td>Google Analytics</td>\n      <td>Analytics</td>\n      <td>76</td>\n    </tr>\n    <tr>\n      <th>2</th>\n      <td>6</td>\n      <td>VK Pixel</td>\n      <td>Analytics</td>\n      <td>25</td>\n    </tr>\n    <tr>\n      <th>3</th>\n      <td>7</td>\n      <td>Facebook Pixel</td>\n      <td>Analytics</td>\n      <td>21</td>\n    </tr>\n    <tr>\n      <th>4</th>\n      <td>8</td>\n      <td>Liveinternet</td>\n      <td>Analytics</td>\n      <td>9</td>\n    </tr>\n    <tr>\n      <th>5</th>\n      <td>9</td>\n      <td>Alexa Certified Site Metrics</td>\n      <td>Analytics</td>\n      <td>2</td>\n    </tr>\n    <tr>\n      <th>6</th>\n      <td>10</td>\n      <td>Matomo Analytics</td>\n      <td>Analytics</td>\n      <td>1</td>\n    </tr>\n    <tr>\n      <th>7</th>\n      <td>11</td>\n      <td>Google Ads Conversion Tracking</td>\n      <td>Analytics</td>\n      <td>1</td>\n    </tr>\n    <tr>\n      <th>8</th>\n      <td>12</td>\n      <td>Cloudflare Browser Insights</td>\n      <td>Analytics</td>\n      <td>1</td>\n    </tr>\n    <tr>\n      <th>9</th>\n      <td>13</td>\n      <td>Google Analytics Enhanced eCommerce</td>\n      <td>Analytics</td>\n      <td>1</td>\n    </tr>\n  </tbody>\n</table>\n</div>"
     },
     "execution_count": 8,
     "metadata": {},
     "output_type": "execute_result"
    }
   ],
   "source": [
    "df[df['Категория'] == 'Analytics'].head(10).reset_index()"
   ],
   "metadata": {
    "collapsed": false,
    "pycharm": {
     "name": "#%%\n"
    }
   }
  },
  {
   "cell_type": "markdown",
   "source": [
    "IT-шники для в качестве web-сервера в большинтсве своём предпочитают [nginx](https://nginx.org/ru/):"
   ],
   "metadata": {
    "collapsed": false
   }
  },
  {
   "cell_type": "code",
   "execution_count": 9,
   "outputs": [
    {
     "data": {
      "text/plain": "   index       Название    Категория  Количество\n0    142          Nginx  Web servers          79\n1    143         Apache  Web servers          15\n2    144            IIS  Web servers           3\n3    145      OpenResty  Web servers           1\n4    146  Apache Tomcat  Web servers           1",
      "text/html": "<div>\n<style scoped>\n    .dataframe tbody tr th:only-of-type {\n        vertical-align: middle;\n    }\n\n    .dataframe tbody tr th {\n        vertical-align: top;\n    }\n\n    .dataframe thead th {\n        text-align: right;\n    }\n</style>\n<table border=\"1\" class=\"dataframe\">\n  <thead>\n    <tr style=\"text-align: right;\">\n      <th></th>\n      <th>index</th>\n      <th>Название</th>\n      <th>Категория</th>\n      <th>Количество</th>\n    </tr>\n  </thead>\n  <tbody>\n    <tr>\n      <th>0</th>\n      <td>142</td>\n      <td>Nginx</td>\n      <td>Web servers</td>\n      <td>79</td>\n    </tr>\n    <tr>\n      <th>1</th>\n      <td>143</td>\n      <td>Apache</td>\n      <td>Web servers</td>\n      <td>15</td>\n    </tr>\n    <tr>\n      <th>2</th>\n      <td>144</td>\n      <td>IIS</td>\n      <td>Web servers</td>\n      <td>3</td>\n    </tr>\n    <tr>\n      <th>3</th>\n      <td>145</td>\n      <td>OpenResty</td>\n      <td>Web servers</td>\n      <td>1</td>\n    </tr>\n    <tr>\n      <th>4</th>\n      <td>146</td>\n      <td>Apache Tomcat</td>\n      <td>Web servers</td>\n      <td>1</td>\n    </tr>\n  </tbody>\n</table>\n</div>"
     },
     "execution_count": 9,
     "metadata": {},
     "output_type": "execute_result"
    }
   ],
   "source": [
    "df[df['Категория'] == 'Web servers'].head(10).reset_index()"
   ],
   "metadata": {
    "collapsed": false,
    "pycharm": {
     "name": "#%%\n"
    }
   }
  },
  {
   "cell_type": "markdown",
   "source": [
    "Данных по операционным системам собралось немного, но из того что есть видно, что почти все предпочитают Open Source:"
   ],
   "metadata": {
    "collapsed": false
   }
  },
  {
   "cell_type": "code",
   "execution_count": 10,
   "outputs": [
    {
     "data": {
      "text/plain": "   index        Название          Категория  Количество\n0    103          Ubuntu  Operating systems           7\n1    104          Debian  Operating systems           4\n2    105         FreeBSD  Operating systems           3\n3    106          CentOS  Operating systems           3\n4    107  Windows Server  Operating systems           3\n5    108            UNIX  Operating systems           1",
      "text/html": "<div>\n<style scoped>\n    .dataframe tbody tr th:only-of-type {\n        vertical-align: middle;\n    }\n\n    .dataframe tbody tr th {\n        vertical-align: top;\n    }\n\n    .dataframe thead th {\n        text-align: right;\n    }\n</style>\n<table border=\"1\" class=\"dataframe\">\n  <thead>\n    <tr style=\"text-align: right;\">\n      <th></th>\n      <th>index</th>\n      <th>Название</th>\n      <th>Категория</th>\n      <th>Количество</th>\n    </tr>\n  </thead>\n  <tbody>\n    <tr>\n      <th>0</th>\n      <td>103</td>\n      <td>Ubuntu</td>\n      <td>Operating systems</td>\n      <td>7</td>\n    </tr>\n    <tr>\n      <th>1</th>\n      <td>104</td>\n      <td>Debian</td>\n      <td>Operating systems</td>\n      <td>4</td>\n    </tr>\n    <tr>\n      <th>2</th>\n      <td>105</td>\n      <td>FreeBSD</td>\n      <td>Operating systems</td>\n      <td>3</td>\n    </tr>\n    <tr>\n      <th>3</th>\n      <td>106</td>\n      <td>CentOS</td>\n      <td>Operating systems</td>\n      <td>3</td>\n    </tr>\n    <tr>\n      <th>4</th>\n      <td>107</td>\n      <td>Windows Server</td>\n      <td>Operating systems</td>\n      <td>3</td>\n    </tr>\n    <tr>\n      <th>5</th>\n      <td>108</td>\n      <td>UNIX</td>\n      <td>Operating systems</td>\n      <td>1</td>\n    </tr>\n  </tbody>\n</table>\n</div>"
     },
     "execution_count": 10,
     "metadata": {},
     "output_type": "execute_result"
    }
   ],
   "source": [
    "df[df['Категория'] == 'Operating systems'].head(10).reset_index()"
   ],
   "metadata": {
    "collapsed": false,
    "pycharm": {
     "name": "#%%\n"
    }
   }
  },
  {
   "cell_type": "markdown",
   "source": [
    "Немного информации по предпочтениям коллег в JavaScript:"
   ],
   "metadata": {
    "collapsed": false
   }
  },
  {
   "cell_type": "code",
   "execution_count": 11,
   "outputs": [
    {
     "data": {
      "text/plain": "   index     Название              Категория  Количество\n0     48      Angular  JavaScript frameworks           6\n1     49       Vue.js  JavaScript frameworks           6\n2     50         GSAP  JavaScript frameworks           4\n3     51     MooTools  JavaScript frameworks           3\n4     52        React  JavaScript frameworks           2\n5     53          BEM  JavaScript frameworks           1\n6     54  Backbone.js  JavaScript frameworks           1\n7     55      Emotion  JavaScript frameworks           1\n8     56    AngularJS  JavaScript frameworks           1\n9     57      RightJS  JavaScript frameworks           1",
      "text/html": "<div>\n<style scoped>\n    .dataframe tbody tr th:only-of-type {\n        vertical-align: middle;\n    }\n\n    .dataframe tbody tr th {\n        vertical-align: top;\n    }\n\n    .dataframe thead th {\n        text-align: right;\n    }\n</style>\n<table border=\"1\" class=\"dataframe\">\n  <thead>\n    <tr style=\"text-align: right;\">\n      <th></th>\n      <th>index</th>\n      <th>Название</th>\n      <th>Категория</th>\n      <th>Количество</th>\n    </tr>\n  </thead>\n  <tbody>\n    <tr>\n      <th>0</th>\n      <td>48</td>\n      <td>Angular</td>\n      <td>JavaScript frameworks</td>\n      <td>6</td>\n    </tr>\n    <tr>\n      <th>1</th>\n      <td>49</td>\n      <td>Vue.js</td>\n      <td>JavaScript frameworks</td>\n      <td>6</td>\n    </tr>\n    <tr>\n      <th>2</th>\n      <td>50</td>\n      <td>GSAP</td>\n      <td>JavaScript frameworks</td>\n      <td>4</td>\n    </tr>\n    <tr>\n      <th>3</th>\n      <td>51</td>\n      <td>MooTools</td>\n      <td>JavaScript frameworks</td>\n      <td>3</td>\n    </tr>\n    <tr>\n      <th>4</th>\n      <td>52</td>\n      <td>React</td>\n      <td>JavaScript frameworks</td>\n      <td>2</td>\n    </tr>\n    <tr>\n      <th>5</th>\n      <td>53</td>\n      <td>BEM</td>\n      <td>JavaScript frameworks</td>\n      <td>1</td>\n    </tr>\n    <tr>\n      <th>6</th>\n      <td>54</td>\n      <td>Backbone.js</td>\n      <td>JavaScript frameworks</td>\n      <td>1</td>\n    </tr>\n    <tr>\n      <th>7</th>\n      <td>55</td>\n      <td>Emotion</td>\n      <td>JavaScript frameworks</td>\n      <td>1</td>\n    </tr>\n    <tr>\n      <th>8</th>\n      <td>56</td>\n      <td>AngularJS</td>\n      <td>JavaScript frameworks</td>\n      <td>1</td>\n    </tr>\n    <tr>\n      <th>9</th>\n      <td>57</td>\n      <td>RightJS</td>\n      <td>JavaScript frameworks</td>\n      <td>1</td>\n    </tr>\n  </tbody>\n</table>\n</div>"
     },
     "execution_count": 11,
     "metadata": {},
     "output_type": "execute_result"
    }
   ],
   "source": [
    "df[df['Категория'] == 'JavaScript frameworks'].head(10).reset_index()"
   ],
   "metadata": {
    "collapsed": false,
    "pycharm": {
     "name": "#%%\n"
    }
   }
  },
  {
   "cell_type": "code",
   "execution_count": 12,
   "outputs": [
    {
     "data": {
      "text/plain": "   index        Название             Категория  Количество\n0     63          jQuery  JavaScript libraries          96\n1     64         core-js  JavaScript libraries          37\n2     65       jQuery UI  JavaScript libraries          33\n3     66        FancyBox  JavaScript libraries          33\n4     67  jQuery Migrate  JavaScript libraries          17\n5     68           Slick  JavaScript libraries          15\n6     69       Modernizr  JavaScript libraries          12\n7     70       Moment.js  JavaScript libraries          11\n8     71         Select2  JavaScript libraries          11\n9     72      DataTables  JavaScript libraries           7",
      "text/html": "<div>\n<style scoped>\n    .dataframe tbody tr th:only-of-type {\n        vertical-align: middle;\n    }\n\n    .dataframe tbody tr th {\n        vertical-align: top;\n    }\n\n    .dataframe thead th {\n        text-align: right;\n    }\n</style>\n<table border=\"1\" class=\"dataframe\">\n  <thead>\n    <tr style=\"text-align: right;\">\n      <th></th>\n      <th>index</th>\n      <th>Название</th>\n      <th>Категория</th>\n      <th>Количество</th>\n    </tr>\n  </thead>\n  <tbody>\n    <tr>\n      <th>0</th>\n      <td>63</td>\n      <td>jQuery</td>\n      <td>JavaScript libraries</td>\n      <td>96</td>\n    </tr>\n    <tr>\n      <th>1</th>\n      <td>64</td>\n      <td>core-js</td>\n      <td>JavaScript libraries</td>\n      <td>37</td>\n    </tr>\n    <tr>\n      <th>2</th>\n      <td>65</td>\n      <td>jQuery UI</td>\n      <td>JavaScript libraries</td>\n      <td>33</td>\n    </tr>\n    <tr>\n      <th>3</th>\n      <td>66</td>\n      <td>FancyBox</td>\n      <td>JavaScript libraries</td>\n      <td>33</td>\n    </tr>\n    <tr>\n      <th>4</th>\n      <td>67</td>\n      <td>jQuery Migrate</td>\n      <td>JavaScript libraries</td>\n      <td>17</td>\n    </tr>\n    <tr>\n      <th>5</th>\n      <td>68</td>\n      <td>Slick</td>\n      <td>JavaScript libraries</td>\n      <td>15</td>\n    </tr>\n    <tr>\n      <th>6</th>\n      <td>69</td>\n      <td>Modernizr</td>\n      <td>JavaScript libraries</td>\n      <td>12</td>\n    </tr>\n    <tr>\n      <th>7</th>\n      <td>70</td>\n      <td>Moment.js</td>\n      <td>JavaScript libraries</td>\n      <td>11</td>\n    </tr>\n    <tr>\n      <th>8</th>\n      <td>71</td>\n      <td>Select2</td>\n      <td>JavaScript libraries</td>\n      <td>11</td>\n    </tr>\n    <tr>\n      <th>9</th>\n      <td>72</td>\n      <td>DataTables</td>\n      <td>JavaScript libraries</td>\n      <td>7</td>\n    </tr>\n  </tbody>\n</table>\n</div>"
     },
     "execution_count": 12,
     "metadata": {},
     "output_type": "execute_result"
    }
   ],
   "source": [
    "df[df['Категория'] == 'JavaScript libraries'].head(10).reset_index()"
   ],
   "metadata": {
    "collapsed": false,
    "pycharm": {
     "name": "#%%\n"
    }
   }
  },
  {
   "cell_type": "markdown",
   "source": [
    "Отсальное смотрите сами в [исходном файле](./data/resul.csv) или в [формате Excel](./data/resul.xls).\n",
    "\n",
    "Если у Вас есть вопросы, а ещё лучше улучшения к данному материалу приглашаю Вас к открытому обсуждению в Телеграм [группе](https://t.me/psalgroup) посвящённой «Приоритету 2030» или ещё лучше, **присылайте свои issues-ы** сразу [в репозиторий](https://github.com/psalru/analytics/issues)."
   ],
   "metadata": {
    "collapsed": false
   }
  }
 ],
 "metadata": {
  "kernelspec": {
   "display_name": "Python 3",
   "language": "python",
   "name": "python3"
  },
  "language_info": {
   "codemirror_mode": {
    "name": "ipython",
    "version": 2
   },
   "file_extension": ".py",
   "mimetype": "text/x-python",
   "name": "python",
   "nbconvert_exporter": "python",
   "pygments_lexer": "ipython2",
   "version": "2.7.6"
  }
 },
 "nbformat": 4,
 "nbformat_minor": 0
}