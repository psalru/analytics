{
 "cells": [
  {
   "cell_type": "code",
   "execution_count": 1,
   "metadata": {
    "ExecuteTime": {
     "end_time": "2023-07-12T16:04:45.392247616Z",
     "start_time": "2023-07-12T16:04:45.202921329Z"
    },
    "collapsed": true
   },
   "outputs": [],
   "source": [
    "import re\n",
    "import time\n",
    "import requests\n",
    "import numpy as np\n",
    "import pandas as pd\n",
    "from bs4 import BeautifulSoup"
   ]
  },
  {
   "cell_type": "markdown",
   "metadata": {},
   "source": [
    "# RAEX ТОП 100"
   ]
  },
  {
   "cell_type": "code",
   "execution_count": 4,
   "metadata": {
    "ExecuteTime": {
     "end_time": "2023-07-12T16:05:44.935755618Z",
     "start_time": "2023-07-12T16:05:40.258674335Z"
    }
   },
   "outputs": [
    {
     "data": {
      "text/html": [
       "<div>\n",
       "<style scoped>\n",
       "    .dataframe tbody tr th:only-of-type {\n",
       "        vertical-align: middle;\n",
       "    }\n",
       "\n",
       "    .dataframe tbody tr th {\n",
       "        vertical-align: top;\n",
       "    }\n",
       "\n",
       "    .dataframe thead th {\n",
       "        text-align: right;\n",
       "    }\n",
       "</style>\n",
       "<table border=\"1\" class=\"dataframe\">\n",
       "  <thead>\n",
       "    <tr style=\"text-align: right;\">\n",
       "      <th></th>\n",
       "      <th>year</th>\n",
       "      <th>rank</th>\n",
       "      <th>title</th>\n",
       "      <th>previous</th>\n",
       "      <th>points</th>\n",
       "      <th>quality</th>\n",
       "      <th>graduates</th>\n",
       "      <th>science</th>\n",
       "    </tr>\n",
       "  </thead>\n",
       "  <tbody>\n",
       "    <tr>\n",
       "      <th>0</th>\n",
       "      <td>2020</td>\n",
       "      <td>1</td>\n",
       "      <td>Московский государственный университет имени М...</td>\n",
       "      <td>1.0</td>\n",
       "      <td>4.8419</td>\n",
       "      <td>1</td>\n",
       "      <td>1</td>\n",
       "      <td>1</td>\n",
       "    </tr>\n",
       "    <tr>\n",
       "      <th>1</th>\n",
       "      <td>2020</td>\n",
       "      <td>2</td>\n",
       "      <td>Московский физико-технический институт (национ...</td>\n",
       "      <td>2.0</td>\n",
       "      <td>4.7734</td>\n",
       "      <td>2</td>\n",
       "      <td>7</td>\n",
       "      <td>2</td>\n",
       "    </tr>\n",
       "    <tr>\n",
       "      <th>2</th>\n",
       "      <td>2020</td>\n",
       "      <td>3</td>\n",
       "      <td>Национальный исследовательский ядерный универс...</td>\n",
       "      <td>3.0</td>\n",
       "      <td>4.5535</td>\n",
       "      <td>5</td>\n",
       "      <td>5</td>\n",
       "      <td>4</td>\n",
       "    </tr>\n",
       "    <tr>\n",
       "      <th>3</th>\n",
       "      <td>2020</td>\n",
       "      <td>4</td>\n",
       "      <td>Санкт-Петербургский государственный университет</td>\n",
       "      <td>4.0</td>\n",
       "      <td>4.5394</td>\n",
       "      <td>3</td>\n",
       "      <td>12</td>\n",
       "      <td>7</td>\n",
       "    </tr>\n",
       "    <tr>\n",
       "      <th>4</th>\n",
       "      <td>2020</td>\n",
       "      <td>5</td>\n",
       "      <td>Национальный исследовательский университет \"Вы...</td>\n",
       "      <td>5.0</td>\n",
       "      <td>4.4933</td>\n",
       "      <td>6</td>\n",
       "      <td>2</td>\n",
       "      <td>11</td>\n",
       "    </tr>\n",
       "  </tbody>\n",
       "</table>\n",
       "</div>"
      ],
      "text/plain": [
       "   year  rank                                              title  previous  \\\n",
       "0  2020     1  Московский государственный университет имени М...       1.0   \n",
       "1  2020     2  Московский физико-технический институт (национ...       2.0   \n",
       "2  2020     3  Национальный исследовательский ядерный универс...       3.0   \n",
       "3  2020     4    Санкт-Петербургский государственный университет       4.0   \n",
       "4  2020     5  Национальный исследовательский университет \"Вы...       5.0   \n",
       "\n",
       "   points  quality  graduates  science  \n",
       "0  4.8419        1          1        1  \n",
       "1  4.7734        2          7        2  \n",
       "2  4.5535        5          5        4  \n",
       "3  4.5394        3         12        7  \n",
       "4  4.4933        6          2       11  "
      ]
     },
     "execution_count": 4,
     "metadata": {},
     "output_type": "execute_result"
    }
   ],
   "source": [
    "years = list(range(2020, 2023 + 1))\n",
    "raex_list = []\n",
    "\n",
    "for y in years:\n",
    "    raex_url = f\"https://raex-rr.com/pro/education/russian_universities/top-100_universities/{y}/\"\n",
    "    raex_resp = requests.get(raex_url)\n",
    "\n",
    "    if raex_resp.status_code == 200:\n",
    "        raex_soup = BeautifulSoup(raex_resp.text)\n",
    "        raex_trs = raex_soup.select('#rrp_table_wrapper > table > tbody.list > tr')\n",
    "\n",
    "        for i, tr in enumerate(raex_trs):\n",
    "            th = tr.findChildren('th', recursive=False)\n",
    "            td = tr.findChildren('td', recursive=False)\n",
    "\n",
    "            raex_list.append({\n",
    "                'year': y,\n",
    "                'rank': int(th[0].text),\n",
    "                'title': re.sub(r'[\\s\\n]+', ' ', th[1].text).strip(),\n",
    "                'previous': float(td[0].text) if td[0].text != '-' else np.NaN,\n",
    "                'points': float(td[1].text),\n",
    "                'quality': int(td[2].text),\n",
    "                'graduates': int(td[3].text),\n",
    "                'science': int(td[4].text)\n",
    "            })\n",
    "    else:\n",
    "        print(f\"{raex_url} return status code {raex_resp.status_code}\")\n",
    "\n",
    "    # Бережём источник данных\n",
    "    time.sleep(1)\n",
    "\n",
    "raex_df = pd.DataFrame(raex_list)\n",
    "raex_df.to_csv(f\"data/raex_{min(years)}-{max(years)}.csv\", index=False)\n",
    "raex_df.to_excel(f\"data/raex_{min(years)}-{max(years)}.xlsx\", index=False)\n",
    "raex_df.head()"
   ]
  },
  {
   "cell_type": "markdown",
   "metadata": {},
   "source": [
    "В отличие от предыдущих рейтингов, в данном рейтинге каждому университету присваивается конкретная позиция в рейтинге. Давайте посмотрим ТОП 10 лидеров по средней позиции в рейтинге за скачанные года."
   ]
  },
  {
   "cell_type": "code",
   "execution_count": 6,
   "metadata": {
    "ExecuteTime": {
     "end_time": "2023-07-12T16:07:00.515270831Z",
     "start_time": "2023-07-12T16:07:00.480082525Z"
    }
   },
   "outputs": [
    {
     "data": {
      "text/html": [
       "<div>\n",
       "<style scoped>\n",
       "    .dataframe tbody tr th:only-of-type {\n",
       "        vertical-align: middle;\n",
       "    }\n",
       "\n",
       "    .dataframe tbody tr th {\n",
       "        vertical-align: top;\n",
       "    }\n",
       "\n",
       "    .dataframe thead th {\n",
       "        text-align: right;\n",
       "    }\n",
       "</style>\n",
       "<table border=\"1\" class=\"dataframe\">\n",
       "  <thead>\n",
       "    <tr style=\"text-align: right;\">\n",
       "      <th></th>\n",
       "      <th>rank</th>\n",
       "    </tr>\n",
       "    <tr>\n",
       "      <th>title</th>\n",
       "      <th></th>\n",
       "    </tr>\n",
       "  </thead>\n",
       "  <tbody>\n",
       "    <tr>\n",
       "      <th>Московский государственный университет имени М.В. Ломоносова</th>\n",
       "      <td>1.000000</td>\n",
       "    </tr>\n",
       "    <tr>\n",
       "      <th>Московский физико-технический институт (национальный исследовательский университет)</th>\n",
       "      <td>2.000000</td>\n",
       "    </tr>\n",
       "    <tr>\n",
       "      <th>Национальный исследовательский ядерный университет «МИФИ»</th>\n",
       "      <td>3.500000</td>\n",
       "    </tr>\n",
       "    <tr>\n",
       "      <th>Санкт-Петербургский государственный университет</th>\n",
       "      <td>3.500000</td>\n",
       "    </tr>\n",
       "    <tr>\n",
       "      <th>Национальный исследовательский университет \"Высшая школа экономики\"</th>\n",
       "      <td>5.250000</td>\n",
       "    </tr>\n",
       "    <tr>\n",
       "      <th>Московский государственный технический университет имени Н.Э. Баумана (национальный исследовательский университет)</th>\n",
       "      <td>6.000000</td>\n",
       "    </tr>\n",
       "    <tr>\n",
       "      <th>МГИМО МИД России</th>\n",
       "      <td>6.750000</td>\n",
       "    </tr>\n",
       "    <tr>\n",
       "      <th>Санкт-Петербургский политехнический университет Петра Великого</th>\n",
       "      <td>8.250000</td>\n",
       "    </tr>\n",
       "    <tr>\n",
       "      <th>Национальный исследовательский Томский политехнический университет</th>\n",
       "      <td>8.666667</td>\n",
       "    </tr>\n",
       "    <tr>\n",
       "      <th>Томский политехнический университет</th>\n",
       "      <td>9.000000</td>\n",
       "    </tr>\n",
       "  </tbody>\n",
       "</table>\n",
       "</div>"
      ],
      "text/plain": [
       "                                                        rank\n",
       "title                                                       \n",
       "Московский государственный университет имени М....  1.000000\n",
       "Московский физико-технический институт (национа...  2.000000\n",
       "Национальный исследовательский ядерный универси...  3.500000\n",
       "Санкт-Петербургский государственный университет     3.500000\n",
       "Национальный исследовательский университет \"Выс...  5.250000\n",
       "Московский государственный технический универси...  6.000000\n",
       "МГИМО МИД России                                    6.750000\n",
       "Санкт-Петербургский политехнический университет...  8.250000\n",
       "Национальный исследовательский Томский политехн...  8.666667\n",
       "Томский политехнический университет                 9.000000"
      ]
     },
     "execution_count": 6,
     "metadata": {},
     "output_type": "execute_result"
    }
   ],
   "source": [
    "raex_df[['title', 'rank']].groupby(by='title').mean().sort_values(by='rank').head(10)"
   ]
  },
  {
   "cell_type": "markdown",
   "metadata": {},
   "source": [
    "**Обратите внимание** на то, что рейтинговое агентство RAEX «богато» на рейтинги (полный список [тут](https://raex-rr.com/all_rankings/)). Для парсинга других рейтингов, механики будут +/- аналогичные."
   ]
  }
 ],
 "metadata": {
  "kernelspec": {
   "display_name": "Python 3 (ipykernel)",
   "language": "python",
   "name": "python3"
  },
  "language_info": {
   "codemirror_mode": {
    "name": "ipython",
    "version": 3
   },
   "file_extension": ".py",
   "mimetype": "text/x-python",
   "name": "python",
   "nbconvert_exporter": "python",
   "pygments_lexer": "ipython3",
   "version": "3.9.16"
  }
 },
 "nbformat": 4,
 "nbformat_minor": 1
}
