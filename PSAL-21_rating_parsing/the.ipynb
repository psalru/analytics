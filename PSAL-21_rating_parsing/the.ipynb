{
 "cells": [
  {
   "cell_type": "code",
   "execution_count": 8,
   "metadata": {
    "collapsed": true,
    "ExecuteTime": {
     "end_time": "2023-11-17T15:33:43.062393567Z",
     "start_time": "2023-11-17T15:33:43.018238272Z"
    }
   },
   "outputs": [],
   "source": [
    "import re\n",
    "import time\n",
    "import requests\n",
    "import pandas as pd\n",
    "from bs4 import BeautifulSoup"
   ]
  },
  {
   "cell_type": "markdown",
   "metadata": {},
   "source": [
    "# Times Higher Education\n",
    "\n",
    "## Общий рейтинг\n",
    "\n",
    "С этим рейтингом тоже создаём объект `session`."
   ]
  },
  {
   "cell_type": "code",
   "execution_count": 9,
   "metadata": {
    "ExecuteTime": {
     "end_time": "2023-11-17T15:33:45.415833320Z",
     "start_time": "2023-11-17T15:33:45.410403162Z"
    }
   },
   "outputs": [],
   "source": [
    "session = requests.session()\n",
    "session.headers.update({\n",
    "    'accept': 'text/html,application/xhtml+xml,application/xml;q=0.9,image/avif,image/webp,image/apng,*/*;q=0.8,application/signed-exchange;v=b3;q=0.9',\n",
    "    'accept-encoding': 'gzip, deflate, br',\n",
    "    'accept-language': 'ru',\n",
    "    'cache-control': 'no-cache',\n",
    "    'pragma': 'no-cache',\n",
    "    'sec-ch-ua': '\".Not/A)Brand\";v=\"99\", \"Google Chrome\";v=\"103\", \"Chromium\";v=\"103\"',\n",
    "    'sec-ch-ua-mobile': '?0',\n",
    "    'sec-ch-ua-platform': '\"Linux\"',\n",
    "    'sec-fetch-dest': 'document',\n",
    "    'sec-fetch-mode': 'navigate',\n",
    "    'sec-fetch-site': 'none',\n",
    "    'sec-fetch-user': '?1',\n",
    "    'upgrade-insecure-requests': '1',\n",
    "    'user-agent': 'Mozilla/5.0 (X11; Linux x86_64) AppleWebKit/537.36 (KHTML, like Gecko) Chrome/103.0.0.0 Safari/537.36'\n",
    "})\n",
    "years = range(2020, 2024 + 1)"
   ]
  },
  {
   "cell_type": "markdown",
   "metadata": {},
   "source": [
    "Дальше собираем данные по годам."
   ]
  },
  {
   "cell_type": "code",
   "execution_count": 3,
   "metadata": {
    "ExecuteTime": {
     "end_time": "2023-11-17T14:57:52.679416035Z",
     "start_time": "2023-11-17T14:57:29.071418258Z"
    }
   },
   "outputs": [
    {
     "name": "stderr",
     "output_type": "stream",
     "text": [
      "/tmp/ipykernel_218795/1317070433.py:32: FutureWarning: In a future version, object-dtype columns with all-bool values will not be included in reductions with bool_only=True. Explicitly cast to bool dtype instead.\n",
      "  ranking = pd.concat([ranking, chunk], ignore_index=True)\n",
      "/tmp/ipykernel_218795/1317070433.py:32: FutureWarning: In a future version, object-dtype columns with all-bool values will not be included in reductions with bool_only=True. Explicitly cast to bool dtype instead.\n",
      "  ranking = pd.concat([ranking, chunk], ignore_index=True)\n",
      "/tmp/ipykernel_218795/1317070433.py:32: FutureWarning: In a future version, object-dtype columns with all-bool values will not be included in reductions with bool_only=True. Explicitly cast to bool dtype instead.\n",
      "  ranking = pd.concat([ranking, chunk], ignore_index=True)\n",
      "/tmp/ipykernel_218795/1317070433.py:32: FutureWarning: In a future version, object-dtype columns with all-bool values will not be included in reductions with bool_only=True. Explicitly cast to bool dtype instead.\n",
      "  ranking = pd.concat([ranking, chunk], ignore_index=True)\n"
     ]
    },
    {
     "data": {
      "text/plain": "   year rank_order rank                                   name scores_overall  \\\n0  2020         10    1                   University of Oxford           95.4   \n1  2020         20    2     California Institute of Technology           94.5   \n2  2020         30    3                University of Cambridge           94.4   \n3  2020         40    4                    Stanford University           94.3   \n4  2020         50    5  Massachusetts Institute of Technology           93.6   \n\n  scores_overall_rank scores_teaching scores_teaching_rank scores_research  \\\n0                  10            90.5                    6            99.6   \n1                  20            92.1                    2            97.2   \n2                  30            91.4                    4            98.7   \n3                  40            92.8                    1            96.4   \n4                  50            90.5                    5            92.4   \n\n  scores_research_rank  ... stats_pc_intl_students stats_female_male_ratio  \\\n0                    1  ...                    41%                 46 : 54   \n1                    4  ...                    30%                 34 : 66   \n2                    2  ...                    37%                 47 : 53   \n3                    5  ...                    23%                 43 : 57   \n4                   10  ...                    34%                 39 : 61   \n\n                                      aliases  \\\n0                        University of Oxford   \n1  California Institute of Technology caltech   \n2                     University of Cambridge   \n3                         Stanford University   \n4       Massachusetts Institute of Technology   \n\n                                    subjects_offered closed unaccredited  \\\n0  Geography,Chemistry,Chemical Engineering,Biolo...  False        False   \n1  Computer Science,Chemistry,Chemical Engineerin...  False        False   \n2  Politics & International Studies (incl Develop...  False        False   \n3  Computer Science,Communication & Media Studies...  False        False   \n4  Architecture,Economics & Econometrics,Archaeol...  False        False   \n\n  disabled                                         apply_link  \\\n0    False  https://www.timeshighereducation.com/student/r...   \n1    False  https://www.timeshighereducation.com/student/r...   \n2    False  https://www.timeshighereducation.com/student/r...   \n3    False                                                NaN   \n4    False  https://www.timeshighereducation.com/student/r...   \n\n                                     cta_button.link     cta_button.text  \n0  https://www.timeshighereducation.com/student/r...  Admissions Support  \n1  https://www.timeshighereducation.com/student/r...  Admissions Support  \n2  https://www.timeshighereducation.com/student/r...  Admissions Support  \n3  https://www.timeshighereducation.com/student/r...  Admissions Support  \n4  https://www.timeshighereducation.com/student/r...  Admissions Support  \n\n[5 rows x 33 columns]",
      "text/html": "<div>\n<style scoped>\n    .dataframe tbody tr th:only-of-type {\n        vertical-align: middle;\n    }\n\n    .dataframe tbody tr th {\n        vertical-align: top;\n    }\n\n    .dataframe thead th {\n        text-align: right;\n    }\n</style>\n<table border=\"1\" class=\"dataframe\">\n  <thead>\n    <tr style=\"text-align: right;\">\n      <th></th>\n      <th>year</th>\n      <th>rank_order</th>\n      <th>rank</th>\n      <th>name</th>\n      <th>scores_overall</th>\n      <th>scores_overall_rank</th>\n      <th>scores_teaching</th>\n      <th>scores_teaching_rank</th>\n      <th>scores_research</th>\n      <th>scores_research_rank</th>\n      <th>...</th>\n      <th>stats_pc_intl_students</th>\n      <th>stats_female_male_ratio</th>\n      <th>aliases</th>\n      <th>subjects_offered</th>\n      <th>closed</th>\n      <th>unaccredited</th>\n      <th>disabled</th>\n      <th>apply_link</th>\n      <th>cta_button.link</th>\n      <th>cta_button.text</th>\n    </tr>\n  </thead>\n  <tbody>\n    <tr>\n      <th>0</th>\n      <td>2020</td>\n      <td>10</td>\n      <td>1</td>\n      <td>University of Oxford</td>\n      <td>95.4</td>\n      <td>10</td>\n      <td>90.5</td>\n      <td>6</td>\n      <td>99.6</td>\n      <td>1</td>\n      <td>...</td>\n      <td>41%</td>\n      <td>46 : 54</td>\n      <td>University of Oxford</td>\n      <td>Geography,Chemistry,Chemical Engineering,Biolo...</td>\n      <td>False</td>\n      <td>False</td>\n      <td>False</td>\n      <td>https://www.timeshighereducation.com/student/r...</td>\n      <td>https://www.timeshighereducation.com/student/r...</td>\n      <td>Admissions Support</td>\n    </tr>\n    <tr>\n      <th>1</th>\n      <td>2020</td>\n      <td>20</td>\n      <td>2</td>\n      <td>California Institute of Technology</td>\n      <td>94.5</td>\n      <td>20</td>\n      <td>92.1</td>\n      <td>2</td>\n      <td>97.2</td>\n      <td>4</td>\n      <td>...</td>\n      <td>30%</td>\n      <td>34 : 66</td>\n      <td>California Institute of Technology caltech</td>\n      <td>Computer Science,Chemistry,Chemical Engineerin...</td>\n      <td>False</td>\n      <td>False</td>\n      <td>False</td>\n      <td>https://www.timeshighereducation.com/student/r...</td>\n      <td>https://www.timeshighereducation.com/student/r...</td>\n      <td>Admissions Support</td>\n    </tr>\n    <tr>\n      <th>2</th>\n      <td>2020</td>\n      <td>30</td>\n      <td>3</td>\n      <td>University of Cambridge</td>\n      <td>94.4</td>\n      <td>30</td>\n      <td>91.4</td>\n      <td>4</td>\n      <td>98.7</td>\n      <td>2</td>\n      <td>...</td>\n      <td>37%</td>\n      <td>47 : 53</td>\n      <td>University of Cambridge</td>\n      <td>Politics &amp; International Studies (incl Develop...</td>\n      <td>False</td>\n      <td>False</td>\n      <td>False</td>\n      <td>https://www.timeshighereducation.com/student/r...</td>\n      <td>https://www.timeshighereducation.com/student/r...</td>\n      <td>Admissions Support</td>\n    </tr>\n    <tr>\n      <th>3</th>\n      <td>2020</td>\n      <td>40</td>\n      <td>4</td>\n      <td>Stanford University</td>\n      <td>94.3</td>\n      <td>40</td>\n      <td>92.8</td>\n      <td>1</td>\n      <td>96.4</td>\n      <td>5</td>\n      <td>...</td>\n      <td>23%</td>\n      <td>43 : 57</td>\n      <td>Stanford University</td>\n      <td>Computer Science,Communication &amp; Media Studies...</td>\n      <td>False</td>\n      <td>False</td>\n      <td>False</td>\n      <td>NaN</td>\n      <td>https://www.timeshighereducation.com/student/r...</td>\n      <td>Admissions Support</td>\n    </tr>\n    <tr>\n      <th>4</th>\n      <td>2020</td>\n      <td>50</td>\n      <td>5</td>\n      <td>Massachusetts Institute of Technology</td>\n      <td>93.6</td>\n      <td>50</td>\n      <td>90.5</td>\n      <td>5</td>\n      <td>92.4</td>\n      <td>10</td>\n      <td>...</td>\n      <td>34%</td>\n      <td>39 : 61</td>\n      <td>Massachusetts Institute of Technology</td>\n      <td>Architecture,Economics &amp; Econometrics,Archaeol...</td>\n      <td>False</td>\n      <td>False</td>\n      <td>False</td>\n      <td>https://www.timeshighereducation.com/student/r...</td>\n      <td>https://www.timeshighereducation.com/student/r...</td>\n      <td>Admissions Support</td>\n    </tr>\n  </tbody>\n</table>\n<p>5 rows × 33 columns</p>\n</div>"
     },
     "execution_count": 3,
     "metadata": {},
     "output_type": "execute_result"
    }
   ],
   "source": [
    "url_tpl = 'https://www.timeshighereducation.com/world-university-rankings/{year}/world-ranking'\n",
    "ranking = pd.DataFrame(columns=['year'])\n",
    "\n",
    "for year in years:\n",
    "    html_url = url_tpl.format(year=year)\n",
    "    html_resp = session.get(html_url)\n",
    "\n",
    "    if html_resp.status_code == 200:\n",
    "        html = html_resp.text\n",
    "        soup = BeautifulSoup(html)\n",
    "        scripts = soup.find_all('script')\n",
    "        search_words = 'init_drupal_core_settings'\n",
    "        drupal_settings_str = None\n",
    "\n",
    "        for script in scripts:\n",
    "            script_text = script.text\n",
    "\n",
    "            if script_text.find(search_words) > -1:\n",
    "                drupal_settings_str = script_text\n",
    "\n",
    "        if drupal_settings_str:\n",
    "            found = re.search(f\"world_university_rankings_{year}_0__[\\w\\d]+\\.json\", drupal_settings_str)\n",
    "\n",
    "            if found:\n",
    "                data_url = f'https://www.timeshighereducation.com/sites/default/files/the_data_rankings/{found[0]}'\n",
    "                data_resp = session.get(data_url)\n",
    "\n",
    "                if data_resp.status_code == 200:\n",
    "                    data = data_resp.json()\n",
    "                    chunk = pd.json_normalize(data['data'])\n",
    "                    chunk['year'] = year\n",
    "                    ranking = pd.concat([ranking, chunk], ignore_index=True)\n",
    "                else:\n",
    "                    print(f\"{data_url} return status code {data_resp.status_code}\")\n",
    "    else:\n",
    "        print(f\"{html_url} return status code {html_resp.status_code}\")\n",
    "\n",
    "    # Бережём источник данных\n",
    "    time.sleep(0.5)\n",
    "\n",
    "ranking.to_csv(f\"data/the_{min(years)}-{max(years)}.csv\", index=False)\n",
    "ranking.to_excel(f\"data/the_{min(years)}-{max(years)}.xlsx\", index=False)\n",
    "ranking.head()"
   ]
  },
  {
   "cell_type": "markdown",
   "metadata": {},
   "source": [
    "Из полученных данных соберём количество 🇷🇺 российских университетов в рейтинге по годам."
   ]
  },
  {
   "cell_type": "code",
   "execution_count": 5,
   "metadata": {
    "ExecuteTime": {
     "end_time": "2023-11-17T14:58:46.559156042Z",
     "start_time": "2023-11-17T14:58:46.512082775Z"
    }
   },
   "outputs": [
    {
     "data": {
      "text/plain": "      count\nyear       \n2020     39\n2021     48\n2022    100\n2023    103\n2024    108",
      "text/html": "<div>\n<style scoped>\n    .dataframe tbody tr th:only-of-type {\n        vertical-align: middle;\n    }\n\n    .dataframe tbody tr th {\n        vertical-align: top;\n    }\n\n    .dataframe thead th {\n        text-align: right;\n    }\n</style>\n<table border=\"1\" class=\"dataframe\">\n  <thead>\n    <tr style=\"text-align: right;\">\n      <th></th>\n      <th>count</th>\n    </tr>\n    <tr>\n      <th>year</th>\n      <th></th>\n    </tr>\n  </thead>\n  <tbody>\n    <tr>\n      <th>2020</th>\n      <td>39</td>\n    </tr>\n    <tr>\n      <th>2021</th>\n      <td>48</td>\n    </tr>\n    <tr>\n      <th>2022</th>\n      <td>100</td>\n    </tr>\n    <tr>\n      <th>2023</th>\n      <td>103</td>\n    </tr>\n    <tr>\n      <th>2024</th>\n      <td>108</td>\n    </tr>\n  </tbody>\n</table>\n</div>"
     },
     "execution_count": 5,
     "metadata": {},
     "output_type": "execute_result"
    }
   ],
   "source": [
    "ranking[ranking['location'] == 'Russian Federation'][['year', 'location']].\\\n",
    "    groupby(by='year').count().rename(columns={'location': 'count'})"
   ]
  },
  {
   "cell_type": "markdown",
   "source": [
    "## Предметные\n",
    "\n",
    "Код практически идентичен предыдущему, только появляется обход по каждому предмету (области)."
   ],
   "metadata": {
    "collapsed": false
   }
  },
  {
   "cell_type": "code",
   "execution_count": 10,
   "outputs": [
    {
     "name": "stderr",
     "output_type": "stream",
     "text": [
      "/tmp/ipykernel_218795/82309728.py:46: FutureWarning: In a future version, object-dtype columns with all-bool values will not be included in reductions with bool_only=True. Explicitly cast to bool dtype instead.\n",
      "  ranking_subject = pd.concat([ranking_subject, chunk], ignore_index=True)\n",
      "/tmp/ipykernel_218795/82309728.py:46: FutureWarning: In a future version, object-dtype columns with all-bool values will not be included in reductions with bool_only=True. Explicitly cast to bool dtype instead.\n",
      "  ranking_subject = pd.concat([ranking_subject, chunk], ignore_index=True)\n",
      "/tmp/ipykernel_218795/82309728.py:46: FutureWarning: In a future version, object-dtype columns with all-bool values will not be included in reductions with bool_only=True. Explicitly cast to bool dtype instead.\n",
      "  ranking_subject = pd.concat([ranking_subject, chunk], ignore_index=True)\n",
      "/tmp/ipykernel_218795/82309728.py:46: FutureWarning: In a future version, object-dtype columns with all-bool values will not be included in reductions with bool_only=True. Explicitly cast to bool dtype instead.\n",
      "  ranking_subject = pd.concat([ranking_subject, chunk], ignore_index=True)\n",
      "/tmp/ipykernel_218795/82309728.py:46: FutureWarning: In a future version, object-dtype columns with all-bool values will not be included in reductions with bool_only=True. Explicitly cast to bool dtype instead.\n",
      "  ranking_subject = pd.concat([ranking_subject, chunk], ignore_index=True)\n",
      "/tmp/ipykernel_218795/82309728.py:46: FutureWarning: In a future version, object-dtype columns with all-bool values will not be included in reductions with bool_only=True. Explicitly cast to bool dtype instead.\n",
      "  ranking_subject = pd.concat([ranking_subject, chunk], ignore_index=True)\n",
      "/tmp/ipykernel_218795/82309728.py:46: FutureWarning: In a future version, object-dtype columns with all-bool values will not be included in reductions with bool_only=True. Explicitly cast to bool dtype instead.\n",
      "  ranking_subject = pd.concat([ranking_subject, chunk], ignore_index=True)\n",
      "/tmp/ipykernel_218795/82309728.py:46: FutureWarning: In a future version, object-dtype columns with all-bool values will not be included in reductions with bool_only=True. Explicitly cast to bool dtype instead.\n",
      "  ranking_subject = pd.concat([ranking_subject, chunk], ignore_index=True)\n",
      "/tmp/ipykernel_218795/82309728.py:46: FutureWarning: In a future version, object-dtype columns with all-bool values will not be included in reductions with bool_only=True. Explicitly cast to bool dtype instead.\n",
      "  ranking_subject = pd.concat([ranking_subject, chunk], ignore_index=True)\n",
      "/tmp/ipykernel_218795/82309728.py:46: FutureWarning: In a future version, object-dtype columns with all-bool values will not be included in reductions with bool_only=True. Explicitly cast to bool dtype instead.\n",
      "  ranking_subject = pd.concat([ranking_subject, chunk], ignore_index=True)\n",
      "/tmp/ipykernel_218795/82309728.py:46: FutureWarning: In a future version, object-dtype columns with all-bool values will not be included in reductions with bool_only=True. Explicitly cast to bool dtype instead.\n",
      "  ranking_subject = pd.concat([ranking_subject, chunk], ignore_index=True)\n",
      "/tmp/ipykernel_218795/82309728.py:46: FutureWarning: In a future version, object-dtype columns with all-bool values will not be included in reductions with bool_only=True. Explicitly cast to bool dtype instead.\n",
      "  ranking_subject = pd.concat([ranking_subject, chunk], ignore_index=True)\n",
      "/tmp/ipykernel_218795/82309728.py:46: FutureWarning: In a future version, object-dtype columns with all-bool values will not be included in reductions with bool_only=True. Explicitly cast to bool dtype instead.\n",
      "  ranking_subject = pd.concat([ranking_subject, chunk], ignore_index=True)\n",
      "/tmp/ipykernel_218795/82309728.py:46: FutureWarning: In a future version, object-dtype columns with all-bool values will not be included in reductions with bool_only=True. Explicitly cast to bool dtype instead.\n",
      "  ranking_subject = pd.concat([ranking_subject, chunk], ignore_index=True)\n",
      "/tmp/ipykernel_218795/82309728.py:46: FutureWarning: In a future version, object-dtype columns with all-bool values will not be included in reductions with bool_only=True. Explicitly cast to bool dtype instead.\n",
      "  ranking_subject = pd.concat([ranking_subject, chunk], ignore_index=True)\n",
      "/tmp/ipykernel_218795/82309728.py:46: FutureWarning: In a future version, object-dtype columns with all-bool values will not be included in reductions with bool_only=True. Explicitly cast to bool dtype instead.\n",
      "  ranking_subject = pd.concat([ranking_subject, chunk], ignore_index=True)\n",
      "/tmp/ipykernel_218795/82309728.py:46: FutureWarning: In a future version, object-dtype columns with all-bool values will not be included in reductions with bool_only=True. Explicitly cast to bool dtype instead.\n",
      "  ranking_subject = pd.concat([ranking_subject, chunk], ignore_index=True)\n",
      "/tmp/ipykernel_218795/82309728.py:46: FutureWarning: In a future version, object-dtype columns with all-bool values will not be included in reductions with bool_only=True. Explicitly cast to bool dtype instead.\n",
      "  ranking_subject = pd.concat([ranking_subject, chunk], ignore_index=True)\n",
      "/tmp/ipykernel_218795/82309728.py:46: FutureWarning: In a future version, object-dtype columns with all-bool values will not be included in reductions with bool_only=True. Explicitly cast to bool dtype instead.\n",
      "  ranking_subject = pd.concat([ranking_subject, chunk], ignore_index=True)\n",
      "/tmp/ipykernel_218795/82309728.py:46: FutureWarning: In a future version, object-dtype columns with all-bool values will not be included in reductions with bool_only=True. Explicitly cast to bool dtype instead.\n",
      "  ranking_subject = pd.concat([ranking_subject, chunk], ignore_index=True)\n",
      "/tmp/ipykernel_218795/82309728.py:46: FutureWarning: In a future version, object-dtype columns with all-bool values will not be included in reductions with bool_only=True. Explicitly cast to bool dtype instead.\n",
      "  ranking_subject = pd.concat([ranking_subject, chunk], ignore_index=True)\n",
      "/tmp/ipykernel_218795/82309728.py:46: FutureWarning: In a future version, object-dtype columns with all-bool values will not be included in reductions with bool_only=True. Explicitly cast to bool dtype instead.\n",
      "  ranking_subject = pd.concat([ranking_subject, chunk], ignore_index=True)\n",
      "/tmp/ipykernel_218795/82309728.py:46: FutureWarning: In a future version, object-dtype columns with all-bool values will not be included in reductions with bool_only=True. Explicitly cast to bool dtype instead.\n",
      "  ranking_subject = pd.concat([ranking_subject, chunk], ignore_index=True)\n",
      "/tmp/ipykernel_218795/82309728.py:46: FutureWarning: In a future version, object-dtype columns with all-bool values will not be included in reductions with bool_only=True. Explicitly cast to bool dtype instead.\n",
      "  ranking_subject = pd.concat([ranking_subject, chunk], ignore_index=True)\n",
      "/tmp/ipykernel_218795/82309728.py:46: FutureWarning: In a future version, object-dtype columns with all-bool values will not be included in reductions with bool_only=True. Explicitly cast to bool dtype instead.\n",
      "  ranking_subject = pd.concat([ranking_subject, chunk], ignore_index=True)\n",
      "/tmp/ipykernel_218795/82309728.py:46: FutureWarning: In a future version, object-dtype columns with all-bool values will not be included in reductions with bool_only=True. Explicitly cast to bool dtype instead.\n",
      "  ranking_subject = pd.concat([ranking_subject, chunk], ignore_index=True)\n",
      "/tmp/ipykernel_218795/82309728.py:46: FutureWarning: In a future version, object-dtype columns with all-bool values will not be included in reductions with bool_only=True. Explicitly cast to bool dtype instead.\n",
      "  ranking_subject = pd.concat([ranking_subject, chunk], ignore_index=True)\n",
      "/tmp/ipykernel_218795/82309728.py:46: FutureWarning: In a future version, object-dtype columns with all-bool values will not be included in reductions with bool_only=True. Explicitly cast to bool dtype instead.\n",
      "  ranking_subject = pd.concat([ranking_subject, chunk], ignore_index=True)\n",
      "/tmp/ipykernel_218795/82309728.py:46: FutureWarning: In a future version, object-dtype columns with all-bool values will not be included in reductions with bool_only=True. Explicitly cast to bool dtype instead.\n",
      "  ranking_subject = pd.concat([ranking_subject, chunk], ignore_index=True)\n",
      "/tmp/ipykernel_218795/82309728.py:46: FutureWarning: In a future version, object-dtype columns with all-bool values will not be included in reductions with bool_only=True. Explicitly cast to bool dtype instead.\n",
      "  ranking_subject = pd.concat([ranking_subject, chunk], ignore_index=True)\n",
      "/tmp/ipykernel_218795/82309728.py:46: FutureWarning: In a future version, object-dtype columns with all-bool values will not be included in reductions with bool_only=True. Explicitly cast to bool dtype instead.\n",
      "  ranking_subject = pd.concat([ranking_subject, chunk], ignore_index=True)\n",
      "/tmp/ipykernel_218795/82309728.py:46: FutureWarning: In a future version, object-dtype columns with all-bool values will not be included in reductions with bool_only=True. Explicitly cast to bool dtype instead.\n",
      "  ranking_subject = pd.concat([ranking_subject, chunk], ignore_index=True)\n",
      "/tmp/ipykernel_218795/82309728.py:46: FutureWarning: In a future version, object-dtype columns with all-bool values will not be included in reductions with bool_only=True. Explicitly cast to bool dtype instead.\n",
      "  ranking_subject = pd.concat([ranking_subject, chunk], ignore_index=True)\n",
      "/tmp/ipykernel_218795/82309728.py:46: FutureWarning: In a future version, object-dtype columns with all-bool values will not be included in reductions with bool_only=True. Explicitly cast to bool dtype instead.\n",
      "  ranking_subject = pd.concat([ranking_subject, chunk], ignore_index=True)\n",
      "/tmp/ipykernel_218795/82309728.py:46: FutureWarning: In a future version, object-dtype columns with all-bool values will not be included in reductions with bool_only=True. Explicitly cast to bool dtype instead.\n",
      "  ranking_subject = pd.concat([ranking_subject, chunk], ignore_index=True)\n",
      "/tmp/ipykernel_218795/82309728.py:46: FutureWarning: In a future version, object-dtype columns with all-bool values will not be included in reductions with bool_only=True. Explicitly cast to bool dtype instead.\n",
      "  ranking_subject = pd.concat([ranking_subject, chunk], ignore_index=True)\n",
      "/tmp/ipykernel_218795/82309728.py:46: FutureWarning: In a future version, object-dtype columns with all-bool values will not be included in reductions with bool_only=True. Explicitly cast to bool dtype instead.\n",
      "  ranking_subject = pd.concat([ranking_subject, chunk], ignore_index=True)\n",
      "/tmp/ipykernel_218795/82309728.py:46: FutureWarning: In a future version, object-dtype columns with all-bool values will not be included in reductions with bool_only=True. Explicitly cast to bool dtype instead.\n",
      "  ranking_subject = pd.concat([ranking_subject, chunk], ignore_index=True)\n",
      "/tmp/ipykernel_218795/82309728.py:46: FutureWarning: In a future version, object-dtype columns with all-bool values will not be included in reductions with bool_only=True. Explicitly cast to bool dtype instead.\n",
      "  ranking_subject = pd.concat([ranking_subject, chunk], ignore_index=True)\n",
      "/tmp/ipykernel_218795/82309728.py:46: FutureWarning: In a future version, object-dtype columns with all-bool values will not be included in reductions with bool_only=True. Explicitly cast to bool dtype instead.\n",
      "  ranking_subject = pd.concat([ranking_subject, chunk], ignore_index=True)\n",
      "/tmp/ipykernel_218795/82309728.py:46: FutureWarning: In a future version, object-dtype columns with all-bool values will not be included in reductions with bool_only=True. Explicitly cast to bool dtype instead.\n",
      "  ranking_subject = pd.concat([ranking_subject, chunk], ignore_index=True)\n",
      "/tmp/ipykernel_218795/82309728.py:46: FutureWarning: In a future version, object-dtype columns with all-bool values will not be included in reductions with bool_only=True. Explicitly cast to bool dtype instead.\n",
      "  ranking_subject = pd.concat([ranking_subject, chunk], ignore_index=True)\n",
      "/tmp/ipykernel_218795/82309728.py:46: FutureWarning: In a future version, object-dtype columns with all-bool values will not be included in reductions with bool_only=True. Explicitly cast to bool dtype instead.\n",
      "  ranking_subject = pd.concat([ranking_subject, chunk], ignore_index=True)\n",
      "/tmp/ipykernel_218795/82309728.py:46: FutureWarning: In a future version, object-dtype columns with all-bool values will not be included in reductions with bool_only=True. Explicitly cast to bool dtype instead.\n",
      "  ranking_subject = pd.concat([ranking_subject, chunk], ignore_index=True)\n",
      "/tmp/ipykernel_218795/82309728.py:46: FutureWarning: In a future version, object-dtype columns with all-bool values will not be included in reductions with bool_only=True. Explicitly cast to bool dtype instead.\n",
      "  ranking_subject = pd.concat([ranking_subject, chunk], ignore_index=True)\n",
      "/tmp/ipykernel_218795/82309728.py:46: FutureWarning: In a future version, object-dtype columns with all-bool values will not be included in reductions with bool_only=True. Explicitly cast to bool dtype instead.\n",
      "  ranking_subject = pd.concat([ranking_subject, chunk], ignore_index=True)\n",
      "/tmp/ipykernel_218795/82309728.py:46: FutureWarning: In a future version, object-dtype columns with all-bool values will not be included in reductions with bool_only=True. Explicitly cast to bool dtype instead.\n",
      "  ranking_subject = pd.concat([ranking_subject, chunk], ignore_index=True)\n",
      "/tmp/ipykernel_218795/82309728.py:46: FutureWarning: In a future version, object-dtype columns with all-bool values will not be included in reductions with bool_only=True. Explicitly cast to bool dtype instead.\n",
      "  ranking_subject = pd.concat([ranking_subject, chunk], ignore_index=True)\n",
      "/tmp/ipykernel_218795/82309728.py:46: FutureWarning: In a future version, object-dtype columns with all-bool values will not be included in reductions with bool_only=True. Explicitly cast to bool dtype instead.\n",
      "  ranking_subject = pd.concat([ranking_subject, chunk], ignore_index=True)\n",
      "/tmp/ipykernel_218795/82309728.py:46: FutureWarning: In a future version, object-dtype columns with all-bool values will not be included in reductions with bool_only=True. Explicitly cast to bool dtype instead.\n",
      "  ranking_subject = pd.concat([ranking_subject, chunk], ignore_index=True)\n",
      "/tmp/ipykernel_218795/82309728.py:46: FutureWarning: In a future version, object-dtype columns with all-bool values will not be included in reductions with bool_only=True. Explicitly cast to bool dtype instead.\n",
      "  ranking_subject = pd.concat([ranking_subject, chunk], ignore_index=True)\n",
      "/tmp/ipykernel_218795/82309728.py:46: FutureWarning: In a future version, object-dtype columns with all-bool values will not be included in reductions with bool_only=True. Explicitly cast to bool dtype instead.\n",
      "  ranking_subject = pd.concat([ranking_subject, chunk], ignore_index=True)\n",
      "/tmp/ipykernel_218795/82309728.py:46: FutureWarning: In a future version, object-dtype columns with all-bool values will not be included in reductions with bool_only=True. Explicitly cast to bool dtype instead.\n",
      "  ranking_subject = pd.concat([ranking_subject, chunk], ignore_index=True)\n",
      "/tmp/ipykernel_218795/82309728.py:46: FutureWarning: In a future version, object-dtype columns with all-bool values will not be included in reductions with bool_only=True. Explicitly cast to bool dtype instead.\n",
      "  ranking_subject = pd.concat([ranking_subject, chunk], ignore_index=True)\n"
     ]
    },
    {
     "data": {
      "text/plain": "   year            subject rank_order rank  \\\n0  2020  Arts & humanities         10    1   \n1  2020  Arts & humanities         20    2   \n2  2020  Arts & humanities         30    3   \n3  2020  Arts & humanities         40    4   \n4  2020  Arts & humanities         50    5   \n\n                                    name scores_overall scores_overall_rank  \\\n0                    Stanford University           89.9                  10   \n1                University of Cambridge           86.7                  20   \n2                   University of Oxford           86.4                  30   \n3  Massachusetts Institute of Technology           85.8                  40   \n4                     Harvard University           84.3                  50   \n\n  scores_citations scores_citations_rank scores_industry_income  ...  \\\n0             80.9                     6                   72.4  ...   \n1             62.8                   144                   58.8  ...   \n2             68.1                    85                   35.2  ...   \n3             76.3                    18                   56.5  ...   \n4             68.3                    84                   36.0  ...   \n\n  stats_pc_intl_students stats_female_male_ratio  \\\n0                    23%                 43 : 57   \n1                    37%                 47 : 53   \n2                    41%                 46 : 54   \n3                    34%                 39 : 61   \n4                    24%                 49 : 51   \n\n                                 aliases  \\\n0                    Stanford University   \n1                University of Cambridge   \n2                   University of Oxford   \n3  Massachusetts Institute of Technology   \n4                     Harvard University   \n\n                                    subjects_offered closed unaccredited  \\\n0  History, Philosophy & Theology,Art, Performing...  False        False   \n1  History, Philosophy & Theology,Architecture,Ar...  False        False   \n2  Art, Performing Arts & Design,History, Philoso...  False        False   \n3  Architecture,Archaeology,Languages, Literature...  False        False   \n4  Architecture,History, Philosophy & Theology,La...  False        False   \n\n  disabled                                    cta_button.link  \\\n0    False  https://www.timeshighereducation.com/student/r...   \n1    False  https://www.timeshighereducation.com/student/r...   \n2    False  https://www.timeshighereducation.com/student/r...   \n3    False  https://www.timeshighereducation.com/student/r...   \n4    False  https://www.timeshighereducation.com/student/r...   \n\n      cta_button.text                                         apply_link  \n0  Admissions Support                                                NaN  \n1  Admissions Support  https://www.timeshighereducation.com/student/r...  \n2  Admissions Support  https://www.timeshighereducation.com/student/r...  \n3  Admissions Support  https://www.timeshighereducation.com/student/r...  \n4  Admissions Support  https://www.timeshighereducation.com/student/r...  \n\n[5 rows x 34 columns]",
      "text/html": "<div>\n<style scoped>\n    .dataframe tbody tr th:only-of-type {\n        vertical-align: middle;\n    }\n\n    .dataframe tbody tr th {\n        vertical-align: top;\n    }\n\n    .dataframe thead th {\n        text-align: right;\n    }\n</style>\n<table border=\"1\" class=\"dataframe\">\n  <thead>\n    <tr style=\"text-align: right;\">\n      <th></th>\n      <th>year</th>\n      <th>subject</th>\n      <th>rank_order</th>\n      <th>rank</th>\n      <th>name</th>\n      <th>scores_overall</th>\n      <th>scores_overall_rank</th>\n      <th>scores_citations</th>\n      <th>scores_citations_rank</th>\n      <th>scores_industry_income</th>\n      <th>...</th>\n      <th>stats_pc_intl_students</th>\n      <th>stats_female_male_ratio</th>\n      <th>aliases</th>\n      <th>subjects_offered</th>\n      <th>closed</th>\n      <th>unaccredited</th>\n      <th>disabled</th>\n      <th>cta_button.link</th>\n      <th>cta_button.text</th>\n      <th>apply_link</th>\n    </tr>\n  </thead>\n  <tbody>\n    <tr>\n      <th>0</th>\n      <td>2020</td>\n      <td>Arts &amp; humanities</td>\n      <td>10</td>\n      <td>1</td>\n      <td>Stanford University</td>\n      <td>89.9</td>\n      <td>10</td>\n      <td>80.9</td>\n      <td>6</td>\n      <td>72.4</td>\n      <td>...</td>\n      <td>23%</td>\n      <td>43 : 57</td>\n      <td>Stanford University</td>\n      <td>History, Philosophy &amp; Theology,Art, Performing...</td>\n      <td>False</td>\n      <td>False</td>\n      <td>False</td>\n      <td>https://www.timeshighereducation.com/student/r...</td>\n      <td>Admissions Support</td>\n      <td>NaN</td>\n    </tr>\n    <tr>\n      <th>1</th>\n      <td>2020</td>\n      <td>Arts &amp; humanities</td>\n      <td>20</td>\n      <td>2</td>\n      <td>University of Cambridge</td>\n      <td>86.7</td>\n      <td>20</td>\n      <td>62.8</td>\n      <td>144</td>\n      <td>58.8</td>\n      <td>...</td>\n      <td>37%</td>\n      <td>47 : 53</td>\n      <td>University of Cambridge</td>\n      <td>History, Philosophy &amp; Theology,Architecture,Ar...</td>\n      <td>False</td>\n      <td>False</td>\n      <td>False</td>\n      <td>https://www.timeshighereducation.com/student/r...</td>\n      <td>Admissions Support</td>\n      <td>https://www.timeshighereducation.com/student/r...</td>\n    </tr>\n    <tr>\n      <th>2</th>\n      <td>2020</td>\n      <td>Arts &amp; humanities</td>\n      <td>30</td>\n      <td>3</td>\n      <td>University of Oxford</td>\n      <td>86.4</td>\n      <td>30</td>\n      <td>68.1</td>\n      <td>85</td>\n      <td>35.2</td>\n      <td>...</td>\n      <td>41%</td>\n      <td>46 : 54</td>\n      <td>University of Oxford</td>\n      <td>Art, Performing Arts &amp; Design,History, Philoso...</td>\n      <td>False</td>\n      <td>False</td>\n      <td>False</td>\n      <td>https://www.timeshighereducation.com/student/r...</td>\n      <td>Admissions Support</td>\n      <td>https://www.timeshighereducation.com/student/r...</td>\n    </tr>\n    <tr>\n      <th>3</th>\n      <td>2020</td>\n      <td>Arts &amp; humanities</td>\n      <td>40</td>\n      <td>4</td>\n      <td>Massachusetts Institute of Technology</td>\n      <td>85.8</td>\n      <td>40</td>\n      <td>76.3</td>\n      <td>18</td>\n      <td>56.5</td>\n      <td>...</td>\n      <td>34%</td>\n      <td>39 : 61</td>\n      <td>Massachusetts Institute of Technology</td>\n      <td>Architecture,Archaeology,Languages, Literature...</td>\n      <td>False</td>\n      <td>False</td>\n      <td>False</td>\n      <td>https://www.timeshighereducation.com/student/r...</td>\n      <td>Admissions Support</td>\n      <td>https://www.timeshighereducation.com/student/r...</td>\n    </tr>\n    <tr>\n      <th>4</th>\n      <td>2020</td>\n      <td>Arts &amp; humanities</td>\n      <td>50</td>\n      <td>5</td>\n      <td>Harvard University</td>\n      <td>84.3</td>\n      <td>50</td>\n      <td>68.3</td>\n      <td>84</td>\n      <td>36.0</td>\n      <td>...</td>\n      <td>24%</td>\n      <td>49 : 51</td>\n      <td>Harvard University</td>\n      <td>Architecture,History, Philosophy &amp; Theology,La...</td>\n      <td>False</td>\n      <td>False</td>\n      <td>False</td>\n      <td>https://www.timeshighereducation.com/student/r...</td>\n      <td>Admissions Support</td>\n      <td>https://www.timeshighereducation.com/student/r...</td>\n    </tr>\n  </tbody>\n</table>\n<p>5 rows × 34 columns</p>\n</div>"
     },
     "execution_count": 10,
     "metadata": {},
     "output_type": "execute_result"
    }
   ],
   "source": [
    "url_subject_tpl = 'https://www.timeshighereducation.com/world-university-rankings/{year}/subject-ranking/{subject}'\n",
    "ranking_subject = pd.DataFrame(columns=['year', 'subject'])\n",
    "subject_map = [\n",
    "    {'title': 'Arts & humanities', 'url_suffix': 'arts-and-humanities', 'file_prefix': 'arts_humanities_rankings'},\n",
    "    {'title': 'Business & economics', 'url_suffix': 'business-and-economics', 'file_prefix': 'business_economics_rankings'},\n",
    "    {'title': 'Clinical & health', 'url_suffix': 'clinical-pre-clinical-health', 'file_prefix': 'clinical_pre_clinical_health_ran'},\n",
    "    {'title': 'Computer science', 'url_suffix': 'computer-science', 'file_prefix': 'computer_science_rankings'},\n",
    "    {'title': 'Education', 'url_suffix': 'education', 'file_prefix': 'education_rankings'},\n",
    "    {'title': 'Engineering', 'url_suffix': 'engineering-and-it', 'file_prefix': 'engineering_technology_rankings'},\n",
    "    {'title': 'Law', 'url_suffix': 'law', 'file_prefix': 'law_rankings'},\n",
    "    {'title': 'Life sciences', 'url_suffix': 'life-sciences', 'file_prefix': 'life_sciences_rankings'},\n",
    "    {'title': 'Physical sciences', 'url_suffix': 'physical-sciences', 'file_prefix': 'physical_sciences_rankings'},\n",
    "    {'title': 'Psychology', 'url_suffix': 'psychology', 'file_prefix': 'psychology_rankings'},\n",
    "    {'title': 'Social sciences', 'url_suffix': 'social-sciences', 'file_prefix': 'social_sciences_rankings'}\n",
    "]\n",
    "\n",
    "for year in years:\n",
    "    for subject in subject_map:\n",
    "        html_url = url_subject_tpl.format(year=year, subject=subject['url_suffix'])\n",
    "        html_resp = session.get(html_url)\n",
    "\n",
    "        if html_resp.status_code == 200:\n",
    "            html = html_resp.text\n",
    "            soup = BeautifulSoup(html)\n",
    "            scripts = soup.find_all('script')\n",
    "            search_words = 'init_drupal_core_settings'\n",
    "            drupal_settings_str = None\n",
    "\n",
    "            for script in scripts:\n",
    "                script_text = script.text\n",
    "\n",
    "                if script_text.find(search_words) > -1:\n",
    "                    drupal_settings_str = script_text\n",
    "\n",
    "            if drupal_settings_str:\n",
    "                found = re.search(f\"{subject['file_prefix']}_{year}_0__[\\w\\d]+\\.json\", drupal_settings_str)\n",
    "\n",
    "                if found:\n",
    "                    data_url = f'https://www.timeshighereducation.com/sites/default/files/the_data_rankings/{found[0]}'\n",
    "                    data_resp = session.get(data_url)\n",
    "\n",
    "                    if data_resp.status_code == 200:\n",
    "                        data = data_resp.json()\n",
    "                        chunk = pd.json_normalize(data['data'])\n",
    "                        chunk[['year', 'subject']] = year, subject['title']\n",
    "                        ranking_subject = pd.concat([ranking_subject, chunk], ignore_index=True)\n",
    "                    else:\n",
    "                        print(f\"{data_url} return status code {data_resp.status_code}\")\n",
    "        else:\n",
    "            print(f\"{html_url} return status code {html_resp.status_code}\")\n",
    "\n",
    "        # Бережём источник данных\n",
    "        time.sleep(0.5)\n",
    "\n",
    "ranking_subject.to_csv(f\"data/the_{min(years)}-{max(years)}_subject.csv\", index=False)\n",
    "ranking_subject.to_excel(f\"data/the_{min(years)}-{max(years)}_subject.xlsx\", index=False)\n",
    "ranking_subject.head()"
   ],
   "metadata": {
    "collapsed": false,
    "ExecuteTime": {
     "end_time": "2023-11-17T15:37:08.479770401Z",
     "start_time": "2023-11-17T15:33:49.139610649Z"
    }
   }
  },
  {
   "cell_type": "markdown",
   "source": [
    "Для пример давайте посмотрим динамику университетов некоторых стран в предметных рейтингах."
   ],
   "metadata": {
    "collapsed": false
   }
  },
  {
   "cell_type": "code",
   "execution_count": 21,
   "outputs": [
    {
     "data": {
      "text/plain": "year                2020  2021  2022  2023  2024\nlocation                                        \nUnited States       1385  1470  1499  1495  1447\nUnited Kingdom       695   737   757   785   793\nChina                396   468   513   528   499\nJapan                322   331   351   347   360\nItaly                271   288   319   336   352\nBrazil               243   287   307   341   332\nGermany              284   286   310   320   320\nTurkey               122   145   181   216   271\nIndia                153   172   195   221   270\nFrance               219   235   231   228   243\nRussian Federation   130   166   196   230   241\nIran                 107   128   146   167   185\nPakistan              36    50    65    89   120\nIndonesia             23    40    62    79   106\nThailand              58    65    74    85    97",
      "text/html": "<div>\n<style scoped>\n    .dataframe tbody tr th:only-of-type {\n        vertical-align: middle;\n    }\n\n    .dataframe tbody tr th {\n        vertical-align: top;\n    }\n\n    .dataframe thead th {\n        text-align: right;\n    }\n</style>\n<table border=\"1\" class=\"dataframe\">\n  <thead>\n    <tr style=\"text-align: right;\">\n      <th>year</th>\n      <th>2020</th>\n      <th>2021</th>\n      <th>2022</th>\n      <th>2023</th>\n      <th>2024</th>\n    </tr>\n    <tr>\n      <th>location</th>\n      <th></th>\n      <th></th>\n      <th></th>\n      <th></th>\n      <th></th>\n    </tr>\n  </thead>\n  <tbody>\n    <tr>\n      <th>United States</th>\n      <td>1385</td>\n      <td>1470</td>\n      <td>1499</td>\n      <td>1495</td>\n      <td>1447</td>\n    </tr>\n    <tr>\n      <th>United Kingdom</th>\n      <td>695</td>\n      <td>737</td>\n      <td>757</td>\n      <td>785</td>\n      <td>793</td>\n    </tr>\n    <tr>\n      <th>China</th>\n      <td>396</td>\n      <td>468</td>\n      <td>513</td>\n      <td>528</td>\n      <td>499</td>\n    </tr>\n    <tr>\n      <th>Japan</th>\n      <td>322</td>\n      <td>331</td>\n      <td>351</td>\n      <td>347</td>\n      <td>360</td>\n    </tr>\n    <tr>\n      <th>Italy</th>\n      <td>271</td>\n      <td>288</td>\n      <td>319</td>\n      <td>336</td>\n      <td>352</td>\n    </tr>\n    <tr>\n      <th>Brazil</th>\n      <td>243</td>\n      <td>287</td>\n      <td>307</td>\n      <td>341</td>\n      <td>332</td>\n    </tr>\n    <tr>\n      <th>Germany</th>\n      <td>284</td>\n      <td>286</td>\n      <td>310</td>\n      <td>320</td>\n      <td>320</td>\n    </tr>\n    <tr>\n      <th>Turkey</th>\n      <td>122</td>\n      <td>145</td>\n      <td>181</td>\n      <td>216</td>\n      <td>271</td>\n    </tr>\n    <tr>\n      <th>India</th>\n      <td>153</td>\n      <td>172</td>\n      <td>195</td>\n      <td>221</td>\n      <td>270</td>\n    </tr>\n    <tr>\n      <th>France</th>\n      <td>219</td>\n      <td>235</td>\n      <td>231</td>\n      <td>228</td>\n      <td>243</td>\n    </tr>\n    <tr>\n      <th>Russian Federation</th>\n      <td>130</td>\n      <td>166</td>\n      <td>196</td>\n      <td>230</td>\n      <td>241</td>\n    </tr>\n    <tr>\n      <th>Iran</th>\n      <td>107</td>\n      <td>128</td>\n      <td>146</td>\n      <td>167</td>\n      <td>185</td>\n    </tr>\n    <tr>\n      <th>Pakistan</th>\n      <td>36</td>\n      <td>50</td>\n      <td>65</td>\n      <td>89</td>\n      <td>120</td>\n    </tr>\n    <tr>\n      <th>Indonesia</th>\n      <td>23</td>\n      <td>40</td>\n      <td>62</td>\n      <td>79</td>\n      <td>106</td>\n    </tr>\n    <tr>\n      <th>Thailand</th>\n      <td>58</td>\n      <td>65</td>\n      <td>74</td>\n      <td>85</td>\n      <td>97</td>\n    </tr>\n  </tbody>\n</table>\n</div>"
     },
     "execution_count": 21,
     "metadata": {},
     "output_type": "execute_result"
    }
   ],
   "source": [
    "pd.pivot_table(\n",
    "    ranking_subject[ranking_subject['location'].isin([\n",
    "        'Russian Federation', 'China',\n",
    "        'India', 'Germany', 'Turkey',\n",
    "        'United Kingdom', 'United States',\n",
    "        'France', 'Brazil', 'Iran', \n",
    "        'Indonesia', 'Pakistan', 'Japan',\n",
    "        'Thailand', 'Italy'\n",
    "    ])],\n",
    "    index='location',\n",
    "    columns='year',\n",
    "    values='name',\n",
    "    aggfunc='count'\n",
    ").sort_values(by=[2024], ascending=False)"
   ],
   "metadata": {
    "collapsed": false,
    "ExecuteTime": {
     "end_time": "2023-11-17T16:08:48.201579956Z",
     "start_time": "2023-11-17T16:08:48.150050246Z"
    }
   }
  }
 ],
 "metadata": {
  "kernelspec": {
   "display_name": "Python 3 (ipykernel)",
   "language": "python",
   "name": "python3"
  },
  "language_info": {
   "codemirror_mode": {
    "name": "ipython",
    "version": 3
   },
   "file_extension": ".py",
   "mimetype": "text/x-python",
   "name": "python",
   "nbconvert_exporter": "python",
   "pygments_lexer": "ipython3",
   "version": "3.9.16"
  }
 },
 "nbformat": 4,
 "nbformat_minor": 1
}
