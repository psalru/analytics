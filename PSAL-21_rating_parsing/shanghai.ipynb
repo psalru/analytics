{
 "cells": [
  {
   "cell_type": "code",
   "execution_count": 2,
   "metadata": {
    "ExecuteTime": {
     "end_time": "2023-07-13T06:59:08.391616640Z",
     "start_time": "2023-07-13T06:59:07.731329584Z"
    },
    "collapsed": true
   },
   "outputs": [],
   "source": [
    "import os\n",
    "import re\n",
    "import json\n",
    "import time\n",
    "import js2py\n",
    "import requests\n",
    "import pandas as pd"
   ]
  },
  {
   "cell_type": "markdown",
   "metadata": {},
   "source": [
    "# Шанхайский рейтинг университетов\n",
    "\n",
    "## Общий рейтинг"
   ]
  },
  {
   "cell_type": "code",
   "execution_count": 31,
   "metadata": {
    "ExecuteTime": {
     "end_time": "2023-07-13T08:18:40.808570160Z",
     "start_time": "2023-07-13T08:18:38.433371501Z"
    }
   },
   "outputs": [
    {
     "data": {
      "text/html": [
       "<div>\n",
       "<style scoped>\n",
       "    .dataframe tbody tr th:only-of-type {\n",
       "        vertical-align: middle;\n",
       "    }\n",
       "\n",
       "    .dataframe tbody tr th {\n",
       "        vertical-align: top;\n",
       "    }\n",
       "\n",
       "    .dataframe thead th {\n",
       "        text-align: right;\n",
       "    }\n",
       "</style>\n",
       "<table border=\"1\" class=\"dataframe\">\n",
       "  <thead>\n",
       "    <tr style=\"text-align: right;\">\n",
       "      <th></th>\n",
       "      <th>nameEn</th>\n",
       "      <th>univLogo</th>\n",
       "      <th>univUp</th>\n",
       "      <th>region</th>\n",
       "      <th>rankingInfo</th>\n",
       "      <th>ranking</th>\n",
       "    </tr>\n",
       "  </thead>\n",
       "  <tbody>\n",
       "    <tr>\n",
       "      <th>0</th>\n",
       "      <td>Harvard University</td>\n",
       "      <td>logo/032bd1b77.png</td>\n",
       "      <td>harvard-university</td>\n",
       "      <td>United States</td>\n",
       "      <td>ARWU 2022</td>\n",
       "      <td>1</td>\n",
       "    </tr>\n",
       "    <tr>\n",
       "      <th>1</th>\n",
       "      <td>Stanford University</td>\n",
       "      <td>logo/13de8913b.png</td>\n",
       "      <td>stanford-university</td>\n",
       "      <td>United States</td>\n",
       "      <td>ARWU 2022</td>\n",
       "      <td>2</td>\n",
       "    </tr>\n",
       "    <tr>\n",
       "      <th>2</th>\n",
       "      <td>Massachusetts Institute of Technology (MIT)</td>\n",
       "      <td>logo/79165fd8b.png</td>\n",
       "      <td>massachusetts-institute-of-technology-mit</td>\n",
       "      <td>United States</td>\n",
       "      <td>ARWU 2022</td>\n",
       "      <td>3</td>\n",
       "    </tr>\n",
       "    <tr>\n",
       "      <th>3</th>\n",
       "      <td>University of Cambridge</td>\n",
       "      <td>logo/8d9861b69.png</td>\n",
       "      <td>university-of-cambridge</td>\n",
       "      <td>United Kingdom</td>\n",
       "      <td>ARWU 2022</td>\n",
       "      <td>4</td>\n",
       "    </tr>\n",
       "    <tr>\n",
       "      <th>4</th>\n",
       "      <td>University of California, Berkeley</td>\n",
       "      <td>logo/0ff179fb8.png</td>\n",
       "      <td>university-of-california-berkeley</td>\n",
       "      <td>United States</td>\n",
       "      <td>ARWU 2022</td>\n",
       "      <td>5</td>\n",
       "    </tr>\n",
       "  </tbody>\n",
       "</table>\n",
       "</div>"
      ],
      "text/plain": [
       "                                        nameEn            univLogo  \\\n",
       "0                           Harvard University  logo/032bd1b77.png   \n",
       "1                          Stanford University  logo/13de8913b.png   \n",
       "2  Massachusetts Institute of Technology (MIT)  logo/79165fd8b.png   \n",
       "3                      University of Cambridge  logo/8d9861b69.png   \n",
       "4           University of California, Berkeley  logo/0ff179fb8.png   \n",
       "\n",
       "                                      univUp          region rankingInfo  \\\n",
       "0                         harvard-university   United States   ARWU 2022   \n",
       "1                        stanford-university   United States   ARWU 2022   \n",
       "2  massachusetts-institute-of-technology-mit   United States   ARWU 2022   \n",
       "3                    university-of-cambridge  United Kingdom   ARWU 2022   \n",
       "4          university-of-california-berkeley   United States   ARWU 2022   \n",
       "\n",
       "  ranking  \n",
       "0       1  \n",
       "1       2  \n",
       "2       3  \n",
       "3       4  \n",
       "4       5  "
      ]
     },
     "execution_count": 31,
     "metadata": {},
     "output_type": "execute_result"
    }
   ],
   "source": [
    "url_ranking = 'https://www.shanghairanking.com/api/pub/v1/inst'\n",
    "resp_ranking = requests.get(url_ranking)\n",
    "ranking = pd.DataFrame()\n",
    "\n",
    "if resp_ranking.status_code == 200:\n",
    "    json_data = resp_ranking.json()\n",
    "    ranking = pd.json_normalize(json_data['data'])\n",
    "else:\n",
    "    print(f\"{url_ranking} return status code {resp_ranking.status_code}\")\n",
    "\n",
    "ranking.to_csv('data/shanghai.csv', index=False)\n",
    "ranking.to_excel('data/shanghai.xlsx', index=False)\n",
    "ranking.head()"
   ]
  },
  {
   "cell_type": "markdown",
   "metadata": {},
   "source": [
    "Пока данные не много, можно, для примера, посмотреть ТОП 10 🇷🇺 российских университетов в рейтинге."
   ]
  },
  {
   "cell_type": "code",
   "execution_count": 7,
   "metadata": {
    "ExecuteTime": {
     "end_time": "2023-07-12T18:12:12.503548123Z",
     "start_time": "2023-07-12T18:12:12.461551709Z"
    }
   },
   "outputs": [
    {
     "data": {
      "text/html": [
       "<div>\n",
       "<style scoped>\n",
       "    .dataframe tbody tr th:only-of-type {\n",
       "        vertical-align: middle;\n",
       "    }\n",
       "\n",
       "    .dataframe tbody tr th {\n",
       "        vertical-align: top;\n",
       "    }\n",
       "\n",
       "    .dataframe thead th {\n",
       "        text-align: right;\n",
       "    }\n",
       "</style>\n",
       "<table border=\"1\" class=\"dataframe\">\n",
       "  <thead>\n",
       "    <tr style=\"text-align: right;\">\n",
       "      <th></th>\n",
       "      <th>nameEn</th>\n",
       "      <th>ranking</th>\n",
       "    </tr>\n",
       "  </thead>\n",
       "  <tbody>\n",
       "    <tr>\n",
       "      <th>114</th>\n",
       "      <td>Moscow State University</td>\n",
       "      <td>101-150</td>\n",
       "    </tr>\n",
       "    <tr>\n",
       "      <th>347</th>\n",
       "      <td>Saint Petersburg State University</td>\n",
       "      <td>301-400</td>\n",
       "    </tr>\n",
       "    <tr>\n",
       "      <th>529</th>\n",
       "      <td>Moscow Institute of Physics and Technology</td>\n",
       "      <td>501-600</td>\n",
       "    </tr>\n",
       "    <tr>\n",
       "      <th>626</th>\n",
       "      <td>HSE University</td>\n",
       "      <td>601-700</td>\n",
       "    </tr>\n",
       "    <tr>\n",
       "      <th>654</th>\n",
       "      <td>Sechenov University</td>\n",
       "      <td>601-700</td>\n",
       "    </tr>\n",
       "    <tr>\n",
       "      <th>742</th>\n",
       "      <td>Novosibirsk State University</td>\n",
       "      <td>701-800</td>\n",
       "    </tr>\n",
       "    <tr>\n",
       "      <th>753</th>\n",
       "      <td>Skolkovo Institute of Science and Technology</td>\n",
       "      <td>701-800</td>\n",
       "    </tr>\n",
       "    <tr>\n",
       "      <th>761</th>\n",
       "      <td>Tomsk State University</td>\n",
       "      <td>701-800</td>\n",
       "    </tr>\n",
       "    <tr>\n",
       "      <th>797</th>\n",
       "      <td>Ural Federal University</td>\n",
       "      <td>701-800</td>\n",
       "    </tr>\n",
       "    <tr>\n",
       "      <th>847</th>\n",
       "      <td>National Research Nuclear University MEPhI (Mo...</td>\n",
       "      <td>801-900</td>\n",
       "    </tr>\n",
       "  </tbody>\n",
       "</table>\n",
       "</div>"
      ],
      "text/plain": [
       "                                                nameEn  ranking\n",
       "114                            Moscow State University  101-150\n",
       "347                  Saint Petersburg State University  301-400\n",
       "529         Moscow Institute of Physics and Technology  501-600\n",
       "626                                     HSE University  601-700\n",
       "654                                Sechenov University  601-700\n",
       "742                       Novosibirsk State University  701-800\n",
       "753       Skolkovo Institute of Science and Technology  701-800\n",
       "761                             Tomsk State University  701-800\n",
       "797                            Ural Federal University  701-800\n",
       "847  National Research Nuclear University MEPhI (Mo...  801-900"
      ]
     },
     "execution_count": 7,
     "metadata": {},
     "output_type": "execute_result"
    }
   ],
   "source": [
    "ranking[ranking['region'] == 'Russia'][['nameEn', 'ranking']].head(10)"
   ]
  },
  {
   "cell_type": "markdown",
   "metadata": {},
   "source": [
    "Для того чтобы получить данные по предметным рейтингам, а также получить ретроспективные данные, потребуется обойти все страницы университетов на сайте. Рейтинг большой (более 3 тыс. записей), поэтому запасаемся терпением и ждём, переодически проверяем содержимое папки `data/downloads/shanghai`."
   ]
  },
  {
   "cell_type": "code",
   "execution_count": 16,
   "metadata": {
    "ExecuteTime": {
     "end_time": "2023-07-12T19:39:20.726020422Z",
     "start_time": "2023-07-12T18:30:16.134292011Z"
    }
   },
   "outputs": [],
   "source": [
    "data_folder = 'data/downloads/shanghai'\n",
    "\n",
    "for i, r in ranking.iterrows():\n",
    "    file_path = f\"{data_folder}/{i+1}.json\"\n",
    "\n",
    "    if not os.path.isfile(file_path):\n",
    "        university_path = r['univUp']\n",
    "        university_url = f'https://www.shanghairanking.com/institution/{university_path}'\n",
    "        html_resp = requests.get(university_url)\n",
    "\n",
    "        if html_resp.status_code == 200:\n",
    "            html = html_resp.text\n",
    "            reg = f\"\\/_nuxt\\/static\\/\\d+\\/institution\\/{university_path}\\/payload\\.js\"\n",
    "            payload = re.search(f\"/_nuxt/static/\\d+/institution/{university_path}/payload\\.js\", html)[0]\n",
    "            university_id = payload.replace('/_nuxt/static/', '').replace(f\"/{university_path}/institution/payload.js\", '')\n",
    "            js_url = f\"https://www.shanghairanking.com/{payload}\"\n",
    "            js_resp = requests.get(js_url)\n",
    "\n",
    "            if js_resp.status_code == 200:\n",
    "                js_data = js_resp.text\n",
    "                js_data = js2py.eval_js(js_data.replace(f'__NUXT_JSONP__(\"/institution/{university_path}\", ', '')[:-2])\n",
    "                university_data = js_data.data[0].univData.to_dict()\n",
    "\n",
    "                with open(file_path, 'w') as f:\n",
    "                    f.write(json.dumps(university_data, ensure_ascii=False, indent=4))\n",
    "            else:\n",
    "                print(f\"{university_url} return status code {html_resp.status_code}\")\n",
    "        else:\n",
    "            print(f\"{university_url} return status code {html_resp.status_code}\")\n",
    "\n",
    "        # Бережём источник данных\n",
    "        time.sleep(0.5)"
   ]
  },
  {
   "cell_type": "markdown",
   "metadata": {},
   "source": [
    "Каждый скачанный файл университета содержит намного больше данных, чем просто позиция в рейтинге. Для примера, посмотрим на первый университет из списка."
   ]
  },
  {
   "cell_type": "code",
   "execution_count": 3,
   "metadata": {
    "ExecuteTime": {
     "end_time": "2023-07-12T21:59:02.627596221Z",
     "start_time": "2023-07-12T21:59:02.584459899Z"
    }
   },
   "outputs": [
    {
     "data": {
      "text/plain": [
       "{'address': 'Trg Republike Hrvatske 14',\n",
       " 'detail': {'arwu': {'datasetId': 1,\n",
       "   'intro': 'The Academic Ranking of World Universities (ARWU) was first published in June 2003 by the Center for World-Class Universities (CWCU), Graduate School of Education (formerly the Institute of Higher Education) of Shanghai Jiao Tong University, China, and updated on an annual basis. Since 2009 the Academic Ranking of World Universities (ARWU) has been published and copyrighted by ShanghaiRanking Consultancy. ShanghaiRanking Consultancy is a fully independent organization on higher education intelligence and not legally subordinated to any universities or government agencies. ARWU uses six objective indicators to rank world universities, including the number of alumni and staff winning Nobel Prizes and Fields Medals, number of highly cited researchers selected by Clarivate, number of articles published in journals of Nature and Science, number of articles indexed in Science Citation Index Expanded™ and Social Sciences Citation Index™ in the Web of Science™, and per capita performance of a university. More than 2500 universities are actually ranked by ARWU every year and the best 1000 are published.',\n",
       "   'latestVerNo': 2022,\n",
       "   'nameId': 'ARWU',\n",
       "   'rkHistory': [{'ranking': '401-500', 'yr': 2020},\n",
       "    {'ranking': '601-700', 'yr': 2021},\n",
       "    {'ranking': '401-500', 'yr': 2022}],\n",
       "   'rkLatest': {'name': 'Academic Ranking of World Universities',\n",
       "    'ranking': '401-500'}},\n",
       "  'bcur': None,\n",
       "  'gras': {'latestVerNo': 2022,\n",
       "   'nameId': 'GRAS',\n",
       "   'subjAdva': [{'categoryCode': 'RS02',\n",
       "     'categoryNameShort': 'ENG',\n",
       "     'code': 'RS0222',\n",
       "     'name': 'Marine_Ocean Engineering',\n",
       "     'ranking': '44'},\n",
       "    {'categoryCode': 'RS02',\n",
       "     'categoryNameShort': 'ENG',\n",
       "     'code': 'RS0219',\n",
       "     'name': 'Food Science & Technology',\n",
       "     'ranking': '101-150'},\n",
       "    {'categoryCode': 'RS03',\n",
       "     'categoryNameShort': 'LIFE',\n",
       "     'code': 'RS0304',\n",
       "     'name': 'Veterinary Sciences',\n",
       "     'ranking': '201-300'},\n",
       "    {'categoryCode': 'RS04',\n",
       "     'categoryNameShort': 'MED',\n",
       "     'code': 'RS0403',\n",
       "     'name': 'Dentistry & Oral Sciences',\n",
       "     'ranking': '201-300'},\n",
       "    {'categoryCode': 'RS05',\n",
       "     'categoryNameShort': 'SOC',\n",
       "     'code': 'RS0513',\n",
       "     'name': 'Hospitality & Tourism Management',\n",
       "     'ranking': '201-300'},\n",
       "    {'categoryCode': 'RS01',\n",
       "     'categoryNameShort': 'SCI',\n",
       "     'code': 'RS0101',\n",
       "     'name': 'Mathematics',\n",
       "     'ranking': '301-400'},\n",
       "    {'categoryCode': 'RS04',\n",
       "     'categoryNameShort': 'MED',\n",
       "     'code': 'RS0402',\n",
       "     'name': 'Public Health',\n",
       "     'ranking': '301-400'},\n",
       "    {'categoryCode': 'RS04',\n",
       "     'categoryNameShort': 'MED',\n",
       "     'code': 'RS0405',\n",
       "     'name': 'Medical Technology',\n",
       "     'ranking': '301-400'}],\n",
       "   'subjCategory': [{'code': 'RS01',\n",
       "     'name': 'Natural Sciences',\n",
       "     'nameShort': 'SCI',\n",
       "     'subj': [{'code': 'RS0101',\n",
       "       'name': 'Mathematics',\n",
       "       'ranking': '301-400'}]},\n",
       "    {'code': 'RS02',\n",
       "     'name': 'Engineering\\n',\n",
       "     'nameShort': 'ENG',\n",
       "     'subj': [{'code': 'RS0219',\n",
       "       'name': 'Food Science & Technology',\n",
       "       'ranking': '101-150'},\n",
       "      {'code': 'RS0220', 'name': 'Biotechnology', 'ranking': '401-500'},\n",
       "      {'code': 'RS0222',\n",
       "       'name': 'Marine_Ocean Engineering',\n",
       "       'ranking': '44'}]},\n",
       "    {'code': 'RS03',\n",
       "     'name': 'Life Sciences',\n",
       "     'nameShort': 'LIFE',\n",
       "     'subj': [{'code': 'RS0304',\n",
       "       'name': 'Veterinary Sciences',\n",
       "       'ranking': '201-300'}]},\n",
       "    {'code': 'RS04',\n",
       "     'name': 'Medical Sciences',\n",
       "     'nameShort': 'MED',\n",
       "     'subj': [{'code': 'RS0401',\n",
       "       'name': 'Clinical Medicine',\n",
       "       'ranking': '401-500'},\n",
       "      {'code': 'RS0402', 'name': 'Public Health', 'ranking': '301-400'},\n",
       "      {'code': 'RS0403',\n",
       "       'name': 'Dentistry & Oral Sciences',\n",
       "       'ranking': '201-300'},\n",
       "      {'code': 'RS0405', 'name': 'Medical Technology', 'ranking': '301-400'},\n",
       "      {'code': 'RS0406',\n",
       "       'name': 'Pharmacy & Pharmaceutical Sciences',\n",
       "       'ranking': '401-500'}]},\n",
       "    {'code': 'RS05',\n",
       "     'name': 'Social Sciences\\n',\n",
       "     'nameShort': 'SOC',\n",
       "     'subj': [{'code': 'RS0508', 'name': 'Psychology', 'ranking': '301-400'},\n",
       "      {'code': 'RS0513',\n",
       "       'name': 'Hospitality & Tourism Management',\n",
       "       'ranking': '201-300'}]}]}},\n",
       " 'foundYear': 1669,\n",
       " 'introEn': \"Set up in 1669, the University of Zagreb is the oldest Croatian university, and one of the oldest in South East Europe. It was founded by Emperor and King Leopold I Habsburg as he gave the status and privileges of a university to the Jesuit Academy of Zagreb. The academy was run by Jesuits until 1773, when their rule got dissolved by Pope Clement XIV. It then started teaching Law alongside Philosophy and Theology, being the main institution to educate the Croatian intelligentsia until the end of the nineteenth century.\\r\\nNow the university offers a wide range of degrees including science, architecture, engineering, biomedical sciences, biotechnology, social sciences, humanities and the arts. Some of these courses get taught in English, such as the BA in Business, Economics, Engineering; MAs in Medicine, Managerial Informatics, Economics, Business, Environment, Agriculture.\\r\\nThe university has international agreements with the Macquarie University Sydney in Australia, the University of Toronto in Canada, the Charles University in Prague, Czech Republic, the University of Helsinki in Finland, University Panthéon-Assas in France, Dresden University of Technology, Humboldt University in Berlin and Heidelberg University in Germany, Lomonosov Moscow State University in Russia, University of California in the US and many others.\\r\\nZagreb is the capital city of Croatia, with a population of 800,000. Its culture echoes both its Austro-Hungarian and Croatian past. The city often hosts international music artists. It is also home to one of the biggest open air festivals in Europe, the INmusic festival, as well as the Zagreb Jazz Festival. Zagreb's resident are easily able to also visit cities such as Vienna and Budapest, along with many other famous places in central and eastern Europe.\",\n",
       " 'nameEn': 'University of Zagreb',\n",
       " 'programs': [],\n",
       " 'ranking': '401-500',\n",
       " 'rankingInfo': 'ARWU 2022',\n",
       " 'region': 'Croatia',\n",
       " 'regionDetail': 'Southern Europe',\n",
       " 'studentsStatis': [[{'nameEn': 'Total Enrollment',\n",
       "    'ratio': '',\n",
       "    'value': '56853'},\n",
       "   {'nameEn': 'International Students', 'ratio': '1.2%', 'value': '655'}],\n",
       "  [{'nameEn': 'Undergraduate Enrollment', 'ratio': '', 'value': '22964'},\n",
       "   {'nameEn': 'International Students', 'ratio': '0.6%', 'value': '128'}],\n",
       "  [{'nameEn': 'Graduate Enrollment', 'ratio': '', 'value': '33889'},\n",
       "   {'nameEn': 'International Students', 'ratio': '1.6%', 'value': '527'}]],\n",
       " 'univLogo': 'logo/e5217fb84.png',\n",
       " 'univUp': 'university-of-zagreb',\n",
       " 'website': 'http://www.unizg.hr/homepage/'}"
      ]
     },
     "execution_count": 3,
     "metadata": {},
     "output_type": "execute_result"
    }
   ],
   "source": [
    "example = json.load(open(f\"{data_folder}/493.json\", 'r'))\n",
    "example"
   ]
  },
  {
   "cell_type": "markdown",
   "metadata": {},
   "source": [
    "Для упрощения возьмём только данные связанные с ретроспективой по основному рейтингу и предметные рейтинги."
   ]
  },
  {
   "cell_type": "code",
   "execution_count": 30,
   "metadata": {
    "ExecuteTime": {
     "end_time": "2023-07-13T08:17:37.840067226Z",
     "start_time": "2023-07-13T08:17:34.908631179Z"
    }
   },
   "outputs": [],
   "source": [
    "file_numbers = sorted(list([int(x.replace('.json', '')) for x in os.listdir(data_folder)]))\n",
    "rating_retro = pd.DataFrame()\n",
    "rating_subject = pd.DataFrame()\n",
    "\n",
    "for fn in file_numbers:\n",
    "    file_path = f\"{data_folder}/{fn}.json\"\n",
    "    json_data = json.load(open(file_path, 'r'))\n",
    "\n",
    "    try:\n",
    "        if json_data['detail']['arwu'] and 'rkHistory' in json_data['detail']['arwu'].keys():\n",
    "            chunk_retro = pd.json_normalize(json_data['detail']['arwu']['rkHistory'])\n",
    "            chunk_retro['nameEn'], chunk_retro['region']  = json_data['nameEn'], json_data['region']\n",
    "            rating_retro = pd.concat([rating_retro, chunk_retro], ignore_index=True)\n",
    "\n",
    "        if json_data['detail']['gras']['subjAdva']:\n",
    "            chunk_subject = pd.json_normalize(json_data['detail']['gras']['subjAdva'])\n",
    "            chunk_subject['nameEn'], chunk_subject['region'] = json_data['nameEn'], json_data['region']\n",
    "            rating_subject = pd.concat([rating_subject, chunk_subject], ignore_index=True)\n",
    "    except Exception as e:\n",
    "        print(file_path, json_data['detail']['gras']['rkHistory'], json_data['detail']['gras']['subjAdva'])\n",
    "\n",
    "retro_years = list(rating_retro['yr'].unique())\n",
    "rating_retro.to_csv(f\"data/shanghai_retro_{min(retro_years)}-{max(retro_years)}.csv\", index=False)\n",
    "rating_retro.to_excel(f\"data/shanghai_retro_{min(retro_years)}-{max(retro_years)}.xlsx\", index=False)\n",
    "rating_subject.to_csv('data/shanghai_subject.csv', index=False)\n",
    "rating_retro.to_excel('data/shanghai_subject.xlsx', index=False)"
   ]
  },
  {
   "cell_type": "markdown",
   "metadata": {},
   "source": [
    "В качестве результатов по ретроспективе, давайте посмотрим количество российских университетов по годам."
   ]
  },
  {
   "cell_type": "code",
   "execution_count": 25,
   "metadata": {
    "ExecuteTime": {
     "end_time": "2023-07-13T08:10:26.326998555Z",
     "start_time": "2023-07-13T08:10:26.265748492Z"
    }
   },
   "outputs": [
    {
     "data": {
      "text/html": [
       "<div>\n",
       "<style scoped>\n",
       "    .dataframe tbody tr th:only-of-type {\n",
       "        vertical-align: middle;\n",
       "    }\n",
       "\n",
       "    .dataframe tbody tr th {\n",
       "        vertical-align: top;\n",
       "    }\n",
       "\n",
       "    .dataframe thead th {\n",
       "        text-align: right;\n",
       "    }\n",
       "</style>\n",
       "<table border=\"1\" class=\"dataframe\">\n",
       "  <thead>\n",
       "    <tr style=\"text-align: right;\">\n",
       "      <th></th>\n",
       "      <th>count</th>\n",
       "    </tr>\n",
       "    <tr>\n",
       "      <th>yr</th>\n",
       "      <th></th>\n",
       "    </tr>\n",
       "  </thead>\n",
       "  <tbody>\n",
       "    <tr>\n",
       "      <th>2020</th>\n",
       "      <td>13</td>\n",
       "    </tr>\n",
       "    <tr>\n",
       "      <th>2021</th>\n",
       "      <td>13</td>\n",
       "    </tr>\n",
       "    <tr>\n",
       "      <th>2022</th>\n",
       "      <td>13</td>\n",
       "    </tr>\n",
       "  </tbody>\n",
       "</table>\n",
       "</div>"
      ],
      "text/plain": [
       "      count\n",
       "yr         \n",
       "2020     13\n",
       "2021     13\n",
       "2022     13"
      ]
     },
     "execution_count": 25,
     "metadata": {},
     "output_type": "execute_result"
    }
   ],
   "source": [
    "rating_retro[rating_retro['region'] == 'Russia'][['yr', 'nameEn']].\\\n",
    "    groupby(by='yr').count().rename(columns={'nameEn': 'count'})"
   ]
  },
  {
   "cell_type": "markdown",
   "metadata": {},
   "source": [
    "А в предметных рейтингах выделим самые представленные области университетами 🇷🇺 России."
   ]
  },
  {
   "cell_type": "code",
   "execution_count": 32,
   "metadata": {
    "ExecuteTime": {
     "end_time": "2023-07-13T09:07:29.370387912Z",
     "start_time": "2023-07-13T09:07:29.327405929Z"
    }
   },
   "outputs": [
    {
     "data": {
      "text/plain": "                                    count\nname                                     \nPhysics                                 6\nMetallurgical Engineering               6\nBiological Sciences                     4\nNanoscience & Nanotechnology            4\nMathematics                             4\nMaterials Science & Engineering         3\nAgricultural Sciences                   2\nEconomics                               2\nPharmacy & Pharmaceutical Sciences      2\nMechanical Engineering                  2",
      "text/html": "<div>\n<style scoped>\n    .dataframe tbody tr th:only-of-type {\n        vertical-align: middle;\n    }\n\n    .dataframe tbody tr th {\n        vertical-align: top;\n    }\n\n    .dataframe thead th {\n        text-align: right;\n    }\n</style>\n<table border=\"1\" class=\"dataframe\">\n  <thead>\n    <tr style=\"text-align: right;\">\n      <th></th>\n      <th>count</th>\n    </tr>\n    <tr>\n      <th>name</th>\n      <th></th>\n    </tr>\n  </thead>\n  <tbody>\n    <tr>\n      <th>Physics</th>\n      <td>6</td>\n    </tr>\n    <tr>\n      <th>Metallurgical Engineering</th>\n      <td>6</td>\n    </tr>\n    <tr>\n      <th>Biological Sciences</th>\n      <td>4</td>\n    </tr>\n    <tr>\n      <th>Nanoscience &amp; Nanotechnology</th>\n      <td>4</td>\n    </tr>\n    <tr>\n      <th>Mathematics</th>\n      <td>4</td>\n    </tr>\n    <tr>\n      <th>Materials Science &amp; Engineering</th>\n      <td>3</td>\n    </tr>\n    <tr>\n      <th>Agricultural Sciences</th>\n      <td>2</td>\n    </tr>\n    <tr>\n      <th>Economics</th>\n      <td>2</td>\n    </tr>\n    <tr>\n      <th>Pharmacy &amp; Pharmaceutical Sciences</th>\n      <td>2</td>\n    </tr>\n    <tr>\n      <th>Mechanical Engineering</th>\n      <td>2</td>\n    </tr>\n  </tbody>\n</table>\n</div>"
     },
     "execution_count": 32,
     "metadata": {},
     "output_type": "execute_result"
    }
   ],
   "source": [
    "rating_subject[rating_subject['region'] == 'Russia'][['name', 'nameEn']].\\\n",
    "    groupby(by='name').count().rename(columns={'nameEn': 'count'}).\\\n",
    "    sort_values(by='count', ascending=False).head(10)"
   ]
  }
 ],
 "metadata": {
  "kernelspec": {
   "display_name": "Python 3 (ipykernel)",
   "language": "python",
   "name": "python3"
  },
  "language_info": {
   "codemirror_mode": {
    "name": "ipython",
    "version": 3
   },
   "file_extension": ".py",
   "mimetype": "text/x-python",
   "name": "python",
   "nbconvert_exporter": "python",
   "pygments_lexer": "ipython3",
   "version": "3.9.16"
  }
 },
 "nbformat": 4,
 "nbformat_minor": 1
}
