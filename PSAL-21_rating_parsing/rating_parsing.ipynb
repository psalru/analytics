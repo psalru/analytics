{
 "cells": [
  {
   "cell_type": "code",
   "execution_count": 12,
   "outputs": [],
   "source": [
    "import time\n",
    "import json\n",
    "import requests\n",
    "import pandas as pd\n",
    "from bs4 import BeautifulSoup"
   ],
   "metadata": {
    "collapsed": false,
    "ExecuteTime": {
     "end_time": "2023-05-26T14:30:59.860043820Z",
     "start_time": "2023-05-26T14:30:59.816533639Z"
    }
   }
  },
  {
   "cell_type": "markdown",
   "source": [
    "# Парсинг рейтингов университетов\n",
    "\n",
    "Одна из самых популярных пузомерок — рейтинги университетов. Есть российские, есть зарубежные. В данном материале собраны «рецепты» парсинга следующих рейтингов:\n",
    "\n",
    "1. Московский рейтинг университетов — три миссии университета\n",
    "2. Рейтинг университетов Интерфакса\n",
    "3. RAEX 100, в т.ч. по предметам\n",
    "4. Рейтинг Best Global Universities, в т.ч. по предметам\n",
    "5. QS-рейтинг университетов, в т.ч. по предметам\n",
    "6. Шанхайский рейтинг университетов\n",
    "7. Рейтинг университетов от Times Higher Education\n",
    "\n",
    "Рейтинги выходят в разное время года. Какие-то уже обновились и есть данные за 2023 год, а какие-то заканчиваются 2022 годом. Чтобы исключить лишнюю вариативность в данном обучающем материале ограничим диапазон тремя календарными годами."
   ],
   "metadata": {
    "collapsed": false
   }
  },
  {
   "cell_type": "code",
   "execution_count": 5,
   "outputs": [
    {
     "data": {
      "text/plain": "[2020, 2021, 2022]"
     },
     "execution_count": 5,
     "metadata": {},
     "output_type": "execute_result"
    }
   ],
   "source": [
    "years = list(range(2020, 2022 + 1))\n",
    "years"
   ],
   "metadata": {
    "collapsed": false,
    "ExecuteTime": {
     "end_time": "2023-05-26T13:49:57.731865245Z",
     "start_time": "2023-05-26T13:49:57.691586246Z"
    }
   }
  },
  {
   "cell_type": "markdown",
   "source": [
    "## Московский рейтинг университетов"
   ],
   "metadata": {
    "collapsed": false
   }
  },
  {
   "cell_type": "code",
   "execution_count": 16,
   "outputs": [
    {
     "data": {
      "text/plain": "   year rank                             university         country\n0  2020    1                     Harvard University             США\n1  2020    2  Massachusetts Institute of Technology             США\n2  2020    3                University of Cambridge  Великобритания\n3  2020    4                   University of Oxford  Великобритания\n4  2020    5             University of Pennsylvania             США",
      "text/html": "<div>\n<style scoped>\n    .dataframe tbody tr th:only-of-type {\n        vertical-align: middle;\n    }\n\n    .dataframe tbody tr th {\n        vertical-align: top;\n    }\n\n    .dataframe thead th {\n        text-align: right;\n    }\n</style>\n<table border=\"1\" class=\"dataframe\">\n  <thead>\n    <tr style=\"text-align: right;\">\n      <th></th>\n      <th>year</th>\n      <th>rank</th>\n      <th>university</th>\n      <th>country</th>\n    </tr>\n  </thead>\n  <tbody>\n    <tr>\n      <th>0</th>\n      <td>2020</td>\n      <td>1</td>\n      <td>Harvard University</td>\n      <td>США</td>\n    </tr>\n    <tr>\n      <th>1</th>\n      <td>2020</td>\n      <td>2</td>\n      <td>Massachusetts Institute of Technology</td>\n      <td>США</td>\n    </tr>\n    <tr>\n      <th>2</th>\n      <td>2020</td>\n      <td>3</td>\n      <td>University of Cambridge</td>\n      <td>Великобритания</td>\n    </tr>\n    <tr>\n      <th>3</th>\n      <td>2020</td>\n      <td>4</td>\n      <td>University of Oxford</td>\n      <td>Великобритания</td>\n    </tr>\n    <tr>\n      <th>4</th>\n      <td>2020</td>\n      <td>5</td>\n      <td>University of Pennsylvania</td>\n      <td>США</td>\n    </tr>\n  </tbody>\n</table>\n</div>"
     },
     "execution_count": 16,
     "metadata": {},
     "output_type": "execute_result"
    }
   ],
   "source": [
    "msk_home_url = 'https://mosiur.org'\n",
    "msk_last_year = 2022\n",
    "msk_data = []\n",
    "\n",
    "for y in years:\n",
    "    msk_url = f\"{msk_home_url}/{'ranking' if y == msk_last_year else 'ranking' + str(y)}/\"\n",
    "    msk_resp = requests.get(msk_url)\n",
    "\n",
    "    if msk_resp.status_code == 200:\n",
    "        msk_soup = BeautifulSoup(msk_resp.text)\n",
    "\n",
    "        for tr in msk_soup.select('#top_table tbody tr'):\n",
    "            tds = tr.find_all('td')\n",
    "            msk_data.append({\n",
    "                'year': y,\n",
    "                'rank': tds[0].text,\n",
    "                'university': tds[1].text,\n",
    "                'country': tds[2].text\n",
    "            })\n",
    "    else:\n",
    "        print(f\"{msk_url} return status code {msk_resp.status_code}\")\n",
    "\n",
    "    # Бережём источник данных\n",
    "    time.sleep(1)\n",
    "\n",
    "msk_df = pd.DataFrame(msk_data)\n",
    "msk_df.to_csv('data/msk.csv', index=False)\n",
    "msk_df.to_excel('data/msk.xlsx', index=False)\n",
    "msk_df.head(5)"
   ],
   "metadata": {
    "collapsed": false,
    "ExecuteTime": {
     "end_time": "2023-05-26T14:33:58.400512622Z",
     "start_time": "2023-05-26T14:33:53.856316064Z"
    }
   }
  },
  {
   "cell_type": "markdown",
   "source": [
    "Данные Московского рейтинга получены. Давайте посмотрим представительство стран по годам (ТОП 10):"
   ],
   "metadata": {
    "collapsed": false
   }
  },
  {
   "cell_type": "code",
   "execution_count": 21,
   "outputs": [
    {
     "data": {
      "text/plain": "year             2020   2021   2022    sum\ncountry                                   \nСША             220.0  239.0  253.0  712.0\nКитай           122.0  144.0  173.0  439.0\nРоссия          101.0  112.0  146.0  359.0\nВеликобритания   98.0  106.0  108.0  312.0\nЯпония           93.0  102.0  101.0  296.0\nГермания         69.0   73.0   74.0  216.0\nИталия           50.0   54.0   54.0  158.0\nИндия            45.0   51.0   58.0  154.0\nИспания          42.0   55.0   56.0  153.0\nФранция          40.0   45.0   54.0  139.0",
      "text/html": "<div>\n<style scoped>\n    .dataframe tbody tr th:only-of-type {\n        vertical-align: middle;\n    }\n\n    .dataframe tbody tr th {\n        vertical-align: top;\n    }\n\n    .dataframe thead th {\n        text-align: right;\n    }\n</style>\n<table border=\"1\" class=\"dataframe\">\n  <thead>\n    <tr style=\"text-align: right;\">\n      <th>year</th>\n      <th>2020</th>\n      <th>2021</th>\n      <th>2022</th>\n      <th>sum</th>\n    </tr>\n    <tr>\n      <th>country</th>\n      <th></th>\n      <th></th>\n      <th></th>\n      <th></th>\n    </tr>\n  </thead>\n  <tbody>\n    <tr>\n      <th>США</th>\n      <td>220.0</td>\n      <td>239.0</td>\n      <td>253.0</td>\n      <td>712.0</td>\n    </tr>\n    <tr>\n      <th>Китай</th>\n      <td>122.0</td>\n      <td>144.0</td>\n      <td>173.0</td>\n      <td>439.0</td>\n    </tr>\n    <tr>\n      <th>Россия</th>\n      <td>101.0</td>\n      <td>112.0</td>\n      <td>146.0</td>\n      <td>359.0</td>\n    </tr>\n    <tr>\n      <th>Великобритания</th>\n      <td>98.0</td>\n      <td>106.0</td>\n      <td>108.0</td>\n      <td>312.0</td>\n    </tr>\n    <tr>\n      <th>Япония</th>\n      <td>93.0</td>\n      <td>102.0</td>\n      <td>101.0</td>\n      <td>296.0</td>\n    </tr>\n    <tr>\n      <th>Германия</th>\n      <td>69.0</td>\n      <td>73.0</td>\n      <td>74.0</td>\n      <td>216.0</td>\n    </tr>\n    <tr>\n      <th>Италия</th>\n      <td>50.0</td>\n      <td>54.0</td>\n      <td>54.0</td>\n      <td>158.0</td>\n    </tr>\n    <tr>\n      <th>Индия</th>\n      <td>45.0</td>\n      <td>51.0</td>\n      <td>58.0</td>\n      <td>154.0</td>\n    </tr>\n    <tr>\n      <th>Испания</th>\n      <td>42.0</td>\n      <td>55.0</td>\n      <td>56.0</td>\n      <td>153.0</td>\n    </tr>\n    <tr>\n      <th>Франция</th>\n      <td>40.0</td>\n      <td>45.0</td>\n      <td>54.0</td>\n      <td>139.0</td>\n    </tr>\n  </tbody>\n</table>\n</div>"
     },
     "execution_count": 21,
     "metadata": {},
     "output_type": "execute_result"
    }
   ],
   "source": [
    "msk_pivot = pd.pivot_table(\n",
    "    msk_df,\n",
    "    index='country',\n",
    "    columns='year',\n",
    "    values='university',\n",
    "    aggfunc='count'\n",
    ")\n",
    "msk_pivot['sum'] = msk_pivot.sum(axis=1)\n",
    "msk_pivot.sort_values(by='sum', ascending=False).head(10)"
   ],
   "metadata": {
    "collapsed": false,
    "ExecuteTime": {
     "end_time": "2023-05-26T14:46:59.130868765Z",
     "start_time": "2023-05-26T14:46:59.113860583Z"
    }
   }
  },
  {
   "cell_type": "markdown",
   "source": [
    "## Рейтинг Интерфакса"
   ],
   "metadata": {
    "collapsed": false
   }
  },
  {
   "cell_type": "code",
   "execution_count": 24,
   "outputs": [
    {
     "data": {
      "text/plain": "   change description  is_close  point rank  \\\n0       0        None     False   1000    1   \n1       0        None     False    963    2   \n2       0        None     False    961    3   \n3       0        None     False    857    4   \n4       1        None     False    848    5   \n\n                                                name  id  \\\n0  Московский государственный университет имени М...   1   \n1  Национальный исследовательский ядерный универс...   2   \n2  Московский физико-технический институт (госуда...   4   \n3  Национальный исследовательский университет «Вы...   6   \n4  Новосибирский национальный исследовательский г...   3   \n\n                          url  year  \n0          https://www.msu.ru  2020  \n1            https://mephi.ru  2020  \n2             https://mipt.ru  2020  \n3          https://www.hse.ru  2020  \n4  http://www.nsu.ru/?lang=ru  2020  ",
      "text/html": "<div>\n<style scoped>\n    .dataframe tbody tr th:only-of-type {\n        vertical-align: middle;\n    }\n\n    .dataframe tbody tr th {\n        vertical-align: top;\n    }\n\n    .dataframe thead th {\n        text-align: right;\n    }\n</style>\n<table border=\"1\" class=\"dataframe\">\n  <thead>\n    <tr style=\"text-align: right;\">\n      <th></th>\n      <th>change</th>\n      <th>description</th>\n      <th>is_close</th>\n      <th>point</th>\n      <th>rank</th>\n      <th>name</th>\n      <th>id</th>\n      <th>url</th>\n      <th>year</th>\n    </tr>\n  </thead>\n  <tbody>\n    <tr>\n      <th>0</th>\n      <td>0</td>\n      <td>None</td>\n      <td>False</td>\n      <td>1000</td>\n      <td>1</td>\n      <td>Московский государственный университет имени М...</td>\n      <td>1</td>\n      <td>https://www.msu.ru</td>\n      <td>2020</td>\n    </tr>\n    <tr>\n      <th>1</th>\n      <td>0</td>\n      <td>None</td>\n      <td>False</td>\n      <td>963</td>\n      <td>2</td>\n      <td>Национальный исследовательский ядерный универс...</td>\n      <td>2</td>\n      <td>https://mephi.ru</td>\n      <td>2020</td>\n    </tr>\n    <tr>\n      <th>2</th>\n      <td>0</td>\n      <td>None</td>\n      <td>False</td>\n      <td>961</td>\n      <td>3</td>\n      <td>Московский физико-технический институт (госуда...</td>\n      <td>4</td>\n      <td>https://mipt.ru</td>\n      <td>2020</td>\n    </tr>\n    <tr>\n      <th>3</th>\n      <td>0</td>\n      <td>None</td>\n      <td>False</td>\n      <td>857</td>\n      <td>4</td>\n      <td>Национальный исследовательский университет «Вы...</td>\n      <td>6</td>\n      <td>https://www.hse.ru</td>\n      <td>2020</td>\n    </tr>\n    <tr>\n      <th>4</th>\n      <td>1</td>\n      <td>None</td>\n      <td>False</td>\n      <td>848</td>\n      <td>5</td>\n      <td>Новосибирский национальный исследовательский г...</td>\n      <td>3</td>\n      <td>http://www.nsu.ru/?lang=ru</td>\n      <td>2020</td>\n    </tr>\n  </tbody>\n</table>\n</div>"
     },
     "execution_count": 24,
     "metadata": {},
     "output_type": "execute_result"
    }
   ],
   "source": [
    "def get_interfax_list_by_year(year, page=1):\n",
    "    url = f\"https://academia.interfax.ru/data/rating/?rating=1&year={year}&page={page}\"\n",
    "    result = []\n",
    "    resp = requests.get(url)\n",
    "\n",
    "    # Бережём источник данных\n",
    "    time.sleep(1)\n",
    "\n",
    "    if resp.status_code == 200:\n",
    "        json_data = resp.json()\n",
    "        result += json_data['universities']\n",
    "        page_count = json_data['page_count']\n",
    "\n",
    "        if page != page_count:\n",
    "            result += get_interfax_list_by_year(year, page + 1)\n",
    "    else:\n",
    "        print(f\"{url} return status code {resp.status_code}\")\n",
    "\n",
    "    return result\n",
    "\n",
    "\n",
    "interfax_df = pd.DataFrame()\n",
    "\n",
    "for y in years:\n",
    "    interfax_df_by_year = pd.DataFrame(get_interfax_list_by_year(y))\n",
    "    interfax_df_by_year['year'] = y\n",
    "    interfax_df = pd.concat([interfax_df, interfax_df_by_year], ignore_index=True)\n",
    "\n",
    "interfax_df.to_csv('data/interfax.csv', index=False)\n",
    "interfax_df.to_excel('data/interfax.xlsx', index=False)\n",
    "interfax_df.head()"
   ],
   "metadata": {
    "collapsed": false,
    "ExecuteTime": {
     "end_time": "2023-05-26T15:54:21.707434326Z",
     "start_time": "2023-05-26T15:53:21.857892119Z"
    }
   }
  },
  {
   "cell_type": "markdown",
   "source": [
    "В данных рейтинга Интерфакса уже есть данные про движения в рамках рейтинга. Давайте посмотрим на ТОП 10 университетов, которые поднялись в рейтинге за 3 последних года больше всех."
   ],
   "metadata": {
    "collapsed": false
   }
  },
  {
   "cell_type": "code",
   "execution_count": 27,
   "outputs": [
    {
     "data": {
      "text/plain": "year                                                2020  2021   2022    sum\nname                                                                        \nУральский государственный аграрный университет     -21.0  40.0  104.0  123.0\nМосковский институт психоанализа                    -8.0   3.0  128.0  123.0\nУниверситет Синергия                                -1.0  78.0   43.0  120.0\nЧеченский государственный университет имени А.А... -22.0  83.0   58.0  119.0\nМосковский государственный психолого-педагогиче...  15.0  78.0   18.0  111.0\nКрасноярский государственный аграрный университет   -1.0 -12.0  122.0  109.0\nБашкирский государственный педагогический униве... -34.0  45.0   93.0  104.0\nКубанский государственный технологический униве...  24.0  18.0   61.0  103.0\nМосковский государственный областной университет     5.0  28.0   51.0   84.0\nВолгоградский государственный аграрный университет  -1.0  46.0   33.0   78.0",
      "text/html": "<div>\n<style scoped>\n    .dataframe tbody tr th:only-of-type {\n        vertical-align: middle;\n    }\n\n    .dataframe tbody tr th {\n        vertical-align: top;\n    }\n\n    .dataframe thead th {\n        text-align: right;\n    }\n</style>\n<table border=\"1\" class=\"dataframe\">\n  <thead>\n    <tr style=\"text-align: right;\">\n      <th>year</th>\n      <th>2020</th>\n      <th>2021</th>\n      <th>2022</th>\n      <th>sum</th>\n    </tr>\n    <tr>\n      <th>name</th>\n      <th></th>\n      <th></th>\n      <th></th>\n      <th></th>\n    </tr>\n  </thead>\n  <tbody>\n    <tr>\n      <th>Уральский государственный аграрный университет</th>\n      <td>-21.0</td>\n      <td>40.0</td>\n      <td>104.0</td>\n      <td>123.0</td>\n    </tr>\n    <tr>\n      <th>Московский институт психоанализа</th>\n      <td>-8.0</td>\n      <td>3.0</td>\n      <td>128.0</td>\n      <td>123.0</td>\n    </tr>\n    <tr>\n      <th>Университет Синергия</th>\n      <td>-1.0</td>\n      <td>78.0</td>\n      <td>43.0</td>\n      <td>120.0</td>\n    </tr>\n    <tr>\n      <th>Чеченский государственный университет имени А.А.Кадырова</th>\n      <td>-22.0</td>\n      <td>83.0</td>\n      <td>58.0</td>\n      <td>119.0</td>\n    </tr>\n    <tr>\n      <th>Московский государственный психолого-педагогический университет</th>\n      <td>15.0</td>\n      <td>78.0</td>\n      <td>18.0</td>\n      <td>111.0</td>\n    </tr>\n    <tr>\n      <th>Красноярский государственный аграрный университет</th>\n      <td>-1.0</td>\n      <td>-12.0</td>\n      <td>122.0</td>\n      <td>109.0</td>\n    </tr>\n    <tr>\n      <th>Башкирский государственный педагогический университет имени М.Акмуллы</th>\n      <td>-34.0</td>\n      <td>45.0</td>\n      <td>93.0</td>\n      <td>104.0</td>\n    </tr>\n    <tr>\n      <th>Кубанский государственный технологический университет</th>\n      <td>24.0</td>\n      <td>18.0</td>\n      <td>61.0</td>\n      <td>103.0</td>\n    </tr>\n    <tr>\n      <th>Московский государственный областной университет</th>\n      <td>5.0</td>\n      <td>28.0</td>\n      <td>51.0</td>\n      <td>84.0</td>\n    </tr>\n    <tr>\n      <th>Волгоградский государственный аграрный университет</th>\n      <td>-1.0</td>\n      <td>46.0</td>\n      <td>33.0</td>\n      <td>78.0</td>\n    </tr>\n  </tbody>\n</table>\n</div>"
     },
     "execution_count": 27,
     "metadata": {},
     "output_type": "execute_result"
    }
   ],
   "source": [
    "interfax_pivot = pd.pivot_table(\n",
    "    interfax_df,\n",
    "    index='name',\n",
    "    columns='year',\n",
    "    values='change',\n",
    "    aggfunc='sum'\n",
    ")\n",
    "interfax_pivot['sum'] = interfax_pivot.sum(axis=1)\n",
    "interfax_pivot.sort_values(by='sum', ascending=False).head(10)"
   ],
   "metadata": {
    "collapsed": false,
    "ExecuteTime": {
     "end_time": "2023-05-26T16:00:14.365686901Z",
     "start_time": "2023-05-26T16:00:14.348077469Z"
    }
   }
  }
 ],
 "metadata": {
  "kernelspec": {
   "display_name": "Python 3",
   "language": "python",
   "name": "python3"
  },
  "language_info": {
   "codemirror_mode": {
    "name": "ipython",
    "version": 2
   },
   "file_extension": ".py",
   "mimetype": "text/x-python",
   "name": "python",
   "nbconvert_exporter": "python",
   "pygments_lexer": "ipython2",
   "version": "2.7.6"
  }
 },
 "nbformat": 4,
 "nbformat_minor": 0
}
