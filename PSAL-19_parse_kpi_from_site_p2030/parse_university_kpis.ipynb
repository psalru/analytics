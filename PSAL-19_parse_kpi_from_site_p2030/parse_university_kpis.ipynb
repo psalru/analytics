{
 "cells": [
  {
   "cell_type": "code",
   "execution_count": 4,
   "outputs": [],
   "source": [
    "import time\n",
    "import requests\n",
    "import pandas as pd"
   ],
   "metadata": {
    "collapsed": false,
    "ExecuteTime": {
     "end_time": "2023-11-08T20:20:53.729445544Z",
     "start_time": "2023-11-08T20:20:53.711820323Z"
    }
   }
  },
  {
   "cell_type": "markdown",
   "source": [
    "# Парсинг показателей университетов с сайта [«Приоритета 2030»](https://priority2030.ru/analytics/)\n",
    "\n",
    "Для разных целей может понадобиться сводная таблица с текущими значениями, отражающими показатели университетов — участников программы «Приоритет 2030». Ниже представленное позволяет собрать всё в один файл.\n",
    "\n",
    "## Список университетов\n",
    "\n",
    "Для начал сформируем список университетов:"
   ],
   "metadata": {
    "collapsed": false
   }
  },
  {
   "cell_type": "code",
   "execution_count": 5,
   "outputs": [
    {
     "data": {
      "text/plain": "           id                                               name  \\\n0  rmpvygmvxo  Федеральное государственное автономное образов...   \n1  qkaxxbqxbm  Федеральное государственное бюджетное образова...   \n2  vbclqozcgs  Федеральное государственное бюджетное образова...   \n3  krdeociohk  Федеральное государственное бюджетное образова...   \n4  fgnzen3sxz  Федеральное государственное бюджетное образова...   \n5  7mzkpv35zl  Федеральное государственное бюджетное образова...   \n6  ezg3l1cmfo  Федеральное государственное бюджетное образова...   \n7  tj72fyldee  Федеральное государственное бюджетное образова...   \n8  heo0www7bu  Федеральное государственное бюджетное образова...   \n9  vt81dqczsu  Федеральное государственное бюджетное образова...   \n\n                           shortName             city               location  \\\n0                               МФТИ           Москва                 Москва   \n1                                ОГУ         Оренбург   Оренбургская область   \n2                              ВятГУ            Киров      Кировская область   \n3                         ЮРГПУ(НПИ)     Новочеркасск     Ростовская область   \n4           ТГУ имени Г.Р. Державина           Тамбов     Тамбовская область   \n5                           НИУ МГСУ           Москва                 Москва   \n6                              ТулГУ             Тула       Тульская область   \n7                           СПбГУПТД  Санкт-Петербург        Санкт-Петербург   \n8   ФГБОУ ВО Вавиловский университет          Саратов    Саратовская область   \n9   ФГБОУ ВО \"ПИМУ\" Минздрава России  Нижний Новгород  Нижегородская область   \n\n            region regionCode  \\\n0      Центральный    central   \n1      Приволжский      volga   \n2      Приволжский      volga   \n3            Южный      south   \n4      Центральный    central   \n5      Центральный    central   \n6      Центральный    central   \n7  Северо-Западный      north   \n8      Приволжский      volga   \n9      Приволжский      volga   \n\n                                             founder        state level  \\\n0  Министерство науки и высшего образования Росси...  participant     1   \n1  Министерство науки и высшего образования Росси...  participant  base   \n2  Министерство науки и высшего образования Росси...  participant  base   \n3  Министерство науки и высшего образования Росси...  participant  base   \n4  Министерство науки и высшего образования Росси...  participant  base   \n5  Министерство науки и высшего образования Росси...  participant     2   \n6  Министерство науки и высшего образования Росси...  participant  base   \n7  Министерство науки и высшего образования Росси...  participant  base   \n8  Министерство сельского хозяйства Российской Фе...  participant  base   \n9  Министерство здравоохранения Российской Федерации  participant     2   \n\n                                 group  \n0  Участники программы (основной трек)  \n1  Участники программы (основной трек)  \n2  Участники программы (основной трек)  \n3  Участники программы (основной трек)  \n4  Участники программы (основной трек)  \n5  Участники программы (основной трек)  \n6  Участники программы (основной трек)  \n7  Участники программы (основной трек)  \n8  Участники программы (основной трек)  \n9  Участники программы (основной трек)  ",
      "text/html": "<div>\n<style scoped>\n    .dataframe tbody tr th:only-of-type {\n        vertical-align: middle;\n    }\n\n    .dataframe tbody tr th {\n        vertical-align: top;\n    }\n\n    .dataframe thead th {\n        text-align: right;\n    }\n</style>\n<table border=\"1\" class=\"dataframe\">\n  <thead>\n    <tr style=\"text-align: right;\">\n      <th></th>\n      <th>id</th>\n      <th>name</th>\n      <th>shortName</th>\n      <th>city</th>\n      <th>location</th>\n      <th>region</th>\n      <th>regionCode</th>\n      <th>founder</th>\n      <th>state</th>\n      <th>level</th>\n      <th>group</th>\n    </tr>\n  </thead>\n  <tbody>\n    <tr>\n      <th>0</th>\n      <td>rmpvygmvxo</td>\n      <td>Федеральное государственное автономное образов...</td>\n      <td>МФТИ</td>\n      <td>Москва</td>\n      <td>Москва</td>\n      <td>Центральный</td>\n      <td>central</td>\n      <td>Министерство науки и высшего образования Росси...</td>\n      <td>participant</td>\n      <td>1</td>\n      <td>Участники программы (основной трек)</td>\n    </tr>\n    <tr>\n      <th>1</th>\n      <td>qkaxxbqxbm</td>\n      <td>Федеральное государственное бюджетное образова...</td>\n      <td>ОГУ</td>\n      <td>Оренбург</td>\n      <td>Оренбургская область</td>\n      <td>Приволжский</td>\n      <td>volga</td>\n      <td>Министерство науки и высшего образования Росси...</td>\n      <td>participant</td>\n      <td>base</td>\n      <td>Участники программы (основной трек)</td>\n    </tr>\n    <tr>\n      <th>2</th>\n      <td>vbclqozcgs</td>\n      <td>Федеральное государственное бюджетное образова...</td>\n      <td>ВятГУ</td>\n      <td>Киров</td>\n      <td>Кировская область</td>\n      <td>Приволжский</td>\n      <td>volga</td>\n      <td>Министерство науки и высшего образования Росси...</td>\n      <td>participant</td>\n      <td>base</td>\n      <td>Участники программы (основной трек)</td>\n    </tr>\n    <tr>\n      <th>3</th>\n      <td>krdeociohk</td>\n      <td>Федеральное государственное бюджетное образова...</td>\n      <td>ЮРГПУ(НПИ)</td>\n      <td>Новочеркасск</td>\n      <td>Ростовская область</td>\n      <td>Южный</td>\n      <td>south</td>\n      <td>Министерство науки и высшего образования Росси...</td>\n      <td>participant</td>\n      <td>base</td>\n      <td>Участники программы (основной трек)</td>\n    </tr>\n    <tr>\n      <th>4</th>\n      <td>fgnzen3sxz</td>\n      <td>Федеральное государственное бюджетное образова...</td>\n      <td>ТГУ имени Г.Р. Державина</td>\n      <td>Тамбов</td>\n      <td>Тамбовская область</td>\n      <td>Центральный</td>\n      <td>central</td>\n      <td>Министерство науки и высшего образования Росси...</td>\n      <td>participant</td>\n      <td>base</td>\n      <td>Участники программы (основной трек)</td>\n    </tr>\n    <tr>\n      <th>5</th>\n      <td>7mzkpv35zl</td>\n      <td>Федеральное государственное бюджетное образова...</td>\n      <td>НИУ МГСУ</td>\n      <td>Москва</td>\n      <td>Москва</td>\n      <td>Центральный</td>\n      <td>central</td>\n      <td>Министерство науки и высшего образования Росси...</td>\n      <td>participant</td>\n      <td>2</td>\n      <td>Участники программы (основной трек)</td>\n    </tr>\n    <tr>\n      <th>6</th>\n      <td>ezg3l1cmfo</td>\n      <td>Федеральное государственное бюджетное образова...</td>\n      <td>ТулГУ</td>\n      <td>Тула</td>\n      <td>Тульская область</td>\n      <td>Центральный</td>\n      <td>central</td>\n      <td>Министерство науки и высшего образования Росси...</td>\n      <td>participant</td>\n      <td>base</td>\n      <td>Участники программы (основной трек)</td>\n    </tr>\n    <tr>\n      <th>7</th>\n      <td>tj72fyldee</td>\n      <td>Федеральное государственное бюджетное образова...</td>\n      <td>СПбГУПТД</td>\n      <td>Санкт-Петербург</td>\n      <td>Санкт-Петербург</td>\n      <td>Северо-Западный</td>\n      <td>north</td>\n      <td>Министерство науки и высшего образования Росси...</td>\n      <td>participant</td>\n      <td>base</td>\n      <td>Участники программы (основной трек)</td>\n    </tr>\n    <tr>\n      <th>8</th>\n      <td>heo0www7bu</td>\n      <td>Федеральное государственное бюджетное образова...</td>\n      <td>ФГБОУ ВО Вавиловский университет</td>\n      <td>Саратов</td>\n      <td>Саратовская область</td>\n      <td>Приволжский</td>\n      <td>volga</td>\n      <td>Министерство сельского хозяйства Российской Фе...</td>\n      <td>participant</td>\n      <td>base</td>\n      <td>Участники программы (основной трек)</td>\n    </tr>\n    <tr>\n      <th>9</th>\n      <td>vt81dqczsu</td>\n      <td>Федеральное государственное бюджетное образова...</td>\n      <td>ФГБОУ ВО \"ПИМУ\" Минздрава России</td>\n      <td>Нижний Новгород</td>\n      <td>Нижегородская область</td>\n      <td>Приволжский</td>\n      <td>volga</td>\n      <td>Министерство здравоохранения Российской Федерации</td>\n      <td>participant</td>\n      <td>2</td>\n      <td>Участники программы (основной трек)</td>\n    </tr>\n  </tbody>\n</table>\n</div>"
     },
     "execution_count": 5,
     "metadata": {},
     "output_type": "execute_result"
    }
   ],
   "source": [
    "data_folder = '../data/PSAL-19'\n",
    "url_base = 'https://api.socio.center/public/priority'\n",
    "url_list = f\"{url_base}/list\"\n",
    "university_list_resp = requests.get(url_list)\n",
    "university_list = pd.DataFrame()\n",
    "\n",
    "if university_list_resp.status_code == 200:\n",
    "    university_list_json_data = university_list_resp.json()\n",
    "\n",
    "    if university_list_json_data['status'] == 'success':\n",
    "        university_list = pd.DataFrame(university_list_json_data['data']['participants'])\n",
    "        university_list['group'] = university_list['group'].apply(lambda x: university_list_json_data['data']['group'][x])\n",
    "        \n",
    "        # Сохраняем полученный список университетов\n",
    "        university_list.to_csv(f\"{data_folder}/university_list.csv\", index=False)\n",
    "        university_list.to_excel(f\"{data_folder}/university_list.xlsx\", index=False)\n",
    "else:\n",
    "    raise Exception(f\"{url_list} return status code {university_list_resp.status_code}\")\n",
    "\n",
    "# Выводим первые 10 записей\n",
    "university_list.head(10)"
   ],
   "metadata": {
    "collapsed": false,
    "ExecuteTime": {
     "end_time": "2023-11-08T20:20:54.094640630Z",
     "start_time": "2023-11-08T20:20:53.734973518Z"
    }
   }
  },
  {
   "cell_type": "markdown",
   "source": [
    "## Собираем список показателей\n",
    "\n",
    "Чтобы не мучить сильно сайт, по каждому университету данный собираются с задержкой в 0,5 секунды, соответственно собирается всё около 1 минуты."
   ],
   "metadata": {
    "collapsed": false
   }
  },
  {
   "cell_type": "code",
   "execution_count": 7,
   "outputs": [
    {
     "data": {
      "text/plain": "  ID университета Университет   Город  Регион  \\\n0      rmpvygmvxo        МФТИ  Москва  Москва   \n1      rmpvygmvxo        МФТИ  Москва  Москва   \n2      rmpvygmvxo        МФТИ  Москва  Москва   \n3      rmpvygmvxo        МФТИ  Москва  Москва   \n4      rmpvygmvxo        МФТИ  Москва  Москва   \n5      rmpvygmvxo        МФТИ  Москва  Москва   \n6      rmpvygmvxo        МФТИ  Москва  Москва   \n7      rmpvygmvxo        МФТИ  Москва  Москва   \n8      rmpvygmvxo        МФТИ  Москва  Москва   \n9      rmpvygmvxo        МФТИ  Москва  Москва   \n\n                                           Ведомство  \\\n0  Министерство науки и высшего образования Росси...   \n1  Министерство науки и высшего образования Росси...   \n2  Министерство науки и высшего образования Росси...   \n3  Министерство науки и высшего образования Росси...   \n4  Министерство науки и высшего образования Росси...   \n5  Министерство науки и высшего образования Росси...   \n6  Министерство науки и высшего образования Росси...   \n7  Министерство науки и высшего образования Росси...   \n8  Министерство науки и высшего образования Росси...   \n9  Министерство науки и высшего образования Росси...   \n\n                                              Группа   Год Индикатор  \\\n0  Показатели, необходимые для достижения результ...  2021      ПРГ2   \n1  Показатели, необходимые для достижения результ...  2022      ПРГ2   \n2  Показатели, необходимые для достижения результ...  2023      ПРГ2   \n3  Показатели, необходимые для достижения результ...  2024      ПРГ2   \n4  Показатели, необходимые для достижения результ...  2025      ПРГ2   \n5  Показатели, необходимые для достижения результ...  2026      ПРГ2   \n6  Показатели, необходимые для достижения результ...  2027      ПРГ2   \n7  Показатели, необходимые для достижения результ...  2028      ПРГ2   \n8  Показатели, необходимые для достижения результ...  2029      ПРГ2   \n9  Показатели, необходимые для достижения результ...  2030      ПРГ2   \n\n   Отражение факта  План  Факт  \n0             56.0  37.0   NaN  \n1             67.0  44.0   NaN  \n2             62.0  54.0   NaN  \n3              NaN  60.0   NaN  \n4              NaN  60.0   NaN  \n5              NaN  60.0   NaN  \n6              NaN  59.0   NaN  \n7              NaN  59.0   NaN  \n8              NaN  56.0   NaN  \n9              NaN  55.0   NaN  ",
      "text/html": "<div>\n<style scoped>\n    .dataframe tbody tr th:only-of-type {\n        vertical-align: middle;\n    }\n\n    .dataframe tbody tr th {\n        vertical-align: top;\n    }\n\n    .dataframe thead th {\n        text-align: right;\n    }\n</style>\n<table border=\"1\" class=\"dataframe\">\n  <thead>\n    <tr style=\"text-align: right;\">\n      <th></th>\n      <th>ID университета</th>\n      <th>Университет</th>\n      <th>Город</th>\n      <th>Регион</th>\n      <th>Ведомство</th>\n      <th>Группа</th>\n      <th>Год</th>\n      <th>Индикатор</th>\n      <th>Отражение факта</th>\n      <th>План</th>\n      <th>Факт</th>\n    </tr>\n  </thead>\n  <tbody>\n    <tr>\n      <th>0</th>\n      <td>rmpvygmvxo</td>\n      <td>МФТИ</td>\n      <td>Москва</td>\n      <td>Москва</td>\n      <td>Министерство науки и высшего образования Росси...</td>\n      <td>Показатели, необходимые для достижения результ...</td>\n      <td>2021</td>\n      <td>ПРГ2</td>\n      <td>56.0</td>\n      <td>37.0</td>\n      <td>NaN</td>\n    </tr>\n    <tr>\n      <th>1</th>\n      <td>rmpvygmvxo</td>\n      <td>МФТИ</td>\n      <td>Москва</td>\n      <td>Москва</td>\n      <td>Министерство науки и высшего образования Росси...</td>\n      <td>Показатели, необходимые для достижения результ...</td>\n      <td>2022</td>\n      <td>ПРГ2</td>\n      <td>67.0</td>\n      <td>44.0</td>\n      <td>NaN</td>\n    </tr>\n    <tr>\n      <th>2</th>\n      <td>rmpvygmvxo</td>\n      <td>МФТИ</td>\n      <td>Москва</td>\n      <td>Москва</td>\n      <td>Министерство науки и высшего образования Росси...</td>\n      <td>Показатели, необходимые для достижения результ...</td>\n      <td>2023</td>\n      <td>ПРГ2</td>\n      <td>62.0</td>\n      <td>54.0</td>\n      <td>NaN</td>\n    </tr>\n    <tr>\n      <th>3</th>\n      <td>rmpvygmvxo</td>\n      <td>МФТИ</td>\n      <td>Москва</td>\n      <td>Москва</td>\n      <td>Министерство науки и высшего образования Росси...</td>\n      <td>Показатели, необходимые для достижения результ...</td>\n      <td>2024</td>\n      <td>ПРГ2</td>\n      <td>NaN</td>\n      <td>60.0</td>\n      <td>NaN</td>\n    </tr>\n    <tr>\n      <th>4</th>\n      <td>rmpvygmvxo</td>\n      <td>МФТИ</td>\n      <td>Москва</td>\n      <td>Москва</td>\n      <td>Министерство науки и высшего образования Росси...</td>\n      <td>Показатели, необходимые для достижения результ...</td>\n      <td>2025</td>\n      <td>ПРГ2</td>\n      <td>NaN</td>\n      <td>60.0</td>\n      <td>NaN</td>\n    </tr>\n    <tr>\n      <th>5</th>\n      <td>rmpvygmvxo</td>\n      <td>МФТИ</td>\n      <td>Москва</td>\n      <td>Москва</td>\n      <td>Министерство науки и высшего образования Росси...</td>\n      <td>Показатели, необходимые для достижения результ...</td>\n      <td>2026</td>\n      <td>ПРГ2</td>\n      <td>NaN</td>\n      <td>60.0</td>\n      <td>NaN</td>\n    </tr>\n    <tr>\n      <th>6</th>\n      <td>rmpvygmvxo</td>\n      <td>МФТИ</td>\n      <td>Москва</td>\n      <td>Москва</td>\n      <td>Министерство науки и высшего образования Росси...</td>\n      <td>Показатели, необходимые для достижения результ...</td>\n      <td>2027</td>\n      <td>ПРГ2</td>\n      <td>NaN</td>\n      <td>59.0</td>\n      <td>NaN</td>\n    </tr>\n    <tr>\n      <th>7</th>\n      <td>rmpvygmvxo</td>\n      <td>МФТИ</td>\n      <td>Москва</td>\n      <td>Москва</td>\n      <td>Министерство науки и высшего образования Росси...</td>\n      <td>Показатели, необходимые для достижения результ...</td>\n      <td>2028</td>\n      <td>ПРГ2</td>\n      <td>NaN</td>\n      <td>59.0</td>\n      <td>NaN</td>\n    </tr>\n    <tr>\n      <th>8</th>\n      <td>rmpvygmvxo</td>\n      <td>МФТИ</td>\n      <td>Москва</td>\n      <td>Москва</td>\n      <td>Министерство науки и высшего образования Росси...</td>\n      <td>Показатели, необходимые для достижения результ...</td>\n      <td>2029</td>\n      <td>ПРГ2</td>\n      <td>NaN</td>\n      <td>56.0</td>\n      <td>NaN</td>\n    </tr>\n    <tr>\n      <th>9</th>\n      <td>rmpvygmvxo</td>\n      <td>МФТИ</td>\n      <td>Москва</td>\n      <td>Москва</td>\n      <td>Министерство науки и высшего образования Росси...</td>\n      <td>Показатели, необходимые для достижения результ...</td>\n      <td>2030</td>\n      <td>ПРГ2</td>\n      <td>NaN</td>\n      <td>55.0</td>\n      <td>NaN</td>\n    </tr>\n  </tbody>\n</table>\n</div>"
     },
     "execution_count": 7,
     "metadata": {},
     "output_type": "execute_result"
    }
   ],
   "source": [
    "university_columns = ['ID университета', 'Университет', 'Город', 'Регион', 'Ведомство']\n",
    "university_kpis = pd.DataFrame(columns=university_columns)\n",
    "university_kpis_components = pd.DataFrame(columns=university_columns)   \n",
    "\n",
    "def get_df_by_indicator(d: dict) -> pd.DataFrame:\n",
    "    result = pd.DataFrame(index=[str(x) for x in d['labels']], columns=['Индикатор'])\n",
    "    \n",
    "    for el in d['data']:\n",
    "        chunk = pd.DataFrame({'year': [str(x) for x in el['data'].keys()], f\"{el['description']}\": el['data'].values()}).set_index('year')\n",
    "        result = result.merge(chunk, how='left', left_index=True, right_index=True)\n",
    "        \n",
    "    result['Индикатор'] = d['indicator']\n",
    "    \n",
    "    return result.reset_index().rename(columns={'index': 'Год'})\n",
    "\n",
    "\n",
    "def get_df_by_group(d: dict) -> pd.DataFrame:\n",
    "    result = pd.DataFrame(columns=['Группа'])\n",
    "    \n",
    "    for indicator in d['elements']:\n",
    "        result = pd.concat([result, get_df_by_indicator(indicator)], ignore_index=True)\n",
    "        \n",
    "    result['Группа'] = d['name']\n",
    "    \n",
    "    return result\n",
    "\n",
    "\n",
    "for idx, r in university_list.iterrows():\n",
    "    university_id, university_short_name = r['id'], r['shortName']\n",
    "    url_kpi = f\"{url_base}/{university_id}/indicators\"\n",
    "    resp = requests.get(url_kpi)\n",
    "    \n",
    "    if resp.status_code == 200:\n",
    "        json_data = resp.json()\n",
    "\n",
    "        if json_data['status'] == 'success':\n",
    "            for group in json_data['data']:\n",
    "                df_by_group = get_df_by_group(group)\n",
    "                df_by_group[['ID университета', 'Университет', 'Город', 'Регион', 'Ведомство']] = r[['id', 'shortName', 'city', 'location', 'founder']]\n",
    "                university_kpis = pd.concat([university_kpis, df_by_group])\n",
    "            \n",
    "    else:\n",
    "        raise Exception(f\"{url_kpi} return status code {resp.status_code}\")\n",
    "        \n",
    "    time.sleep(0.5)\n",
    "\n",
    "# Сохраняем полученный список университетов\n",
    "university_kpis.to_csv(f\"{data_folder}/university_kpis.csv\", index=False)\n",
    "university_kpis.to_excel(f\"{data_folder}/university_kpis.xlsx\", index=False)"
   ],
   "metadata": {
    "collapsed": false,
    "ExecuteTime": {
     "end_time": "2023-11-08T20:28:41.033678426Z",
     "start_time": "2023-11-08T20:21:31.833047954Z"
    }
   }
  },
  {
   "cell_type": "markdown",
   "source": [
    "Вроде бы всё 👍"
   ],
   "metadata": {
    "collapsed": false
   }
  }
 ],
 "metadata": {
  "kernelspec": {
   "display_name": "Python 3",
   "language": "python",
   "name": "python3"
  },
  "language_info": {
   "codemirror_mode": {
    "name": "ipython",
    "version": 2
   },
   "file_extension": ".py",
   "mimetype": "text/x-python",
   "name": "python",
   "nbconvert_exporter": "python",
   "pygments_lexer": "ipython2",
   "version": "2.7.6"
  }
 },
 "nbformat": 4,
 "nbformat_minor": 0
}
