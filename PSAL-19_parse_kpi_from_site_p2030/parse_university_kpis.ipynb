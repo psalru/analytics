{
 "cells": [
  {
   "cell_type": "code",
   "execution_count": 1,
   "outputs": [],
   "source": [
    "import time\n",
    "import requests\n",
    "import pandas as pd\n",
    "\n",
    "# Создаём объект сессии для работы с сайтом\n",
    "session = requests.session()\n",
    "# На всякий случай зайдём на главную за печеньками\n",
    "home_resp = session.get('https://priority2030.ru/')\n",
    "is_everything_okay = home_resp.status_code == 200"
   ],
   "metadata": {
    "collapsed": false
   }
  },
  {
   "cell_type": "markdown",
   "source": [
    "# Парсинг показателей университетов с сайта [«Приоритета 2030»](https://priority2030.ru/analytics/)\n",
    "\n",
    "Для разных нужд может понадобиться сводная таблица с текущими значениями показателей университетов, участников программы «Приоритет 2030». Ниже представленное позволяет собрать всё в один файл.\n",
    "\n",
    "Надо оговориться, что полученная сборка **не содержит данные по треку «Дальний восток»**, т.к. на начало мая 2023 года, университеты по данному треку отсутствуют на сайте.\n",
    "\n",
    "## Список университетов\n",
    "\n",
    "Для начал сформируем список университетов:"
   ],
   "metadata": {
    "collapsed": false
   }
  },
  {
   "cell_type": "code",
   "execution_count": 2,
   "outputs": [
    {
     "data": {
      "text/plain": "                                      count\ntype                                       \nБазовая часть                            73\nИсследовательское лидерство              17\nТерриториальное/отраслевое лидерство     31",
      "text/html": "<div>\n<style scoped>\n    .dataframe tbody tr th:only-of-type {\n        vertical-align: middle;\n    }\n\n    .dataframe tbody tr th {\n        vertical-align: top;\n    }\n\n    .dataframe thead th {\n        text-align: right;\n    }\n</style>\n<table border=\"1\" class=\"dataframe\">\n  <thead>\n    <tr style=\"text-align: right;\">\n      <th></th>\n      <th>count</th>\n    </tr>\n    <tr>\n      <th>type</th>\n      <th></th>\n    </tr>\n  </thead>\n  <tbody>\n    <tr>\n      <th>Базовая часть</th>\n      <td>73</td>\n    </tr>\n    <tr>\n      <th>Исследовательское лидерство</th>\n      <td>17</td>\n    </tr>\n    <tr>\n      <th>Территориальное/отраслевое лидерство</th>\n      <td>31</td>\n    </tr>\n  </tbody>\n</table>\n</div>"
     },
     "execution_count": 2,
     "metadata": {},
     "output_type": "execute_result"
    }
   ],
   "source": [
    "university_list_resp = session.get('https://lk.priority2030.ru/api/v0/priority/list')\n",
    "university_list = pd.DataFrame()\n",
    "\n",
    "if is_everything_okay and university_list_resp.status_code == 200:\n",
    "    university_list_json = university_list_resp.json()\n",
    "\n",
    "    if university_list_json['status'] == 'success':\n",
    "        university_list = pd.json_normalize(university_list_json['data']['participants'])\n",
    "\n",
    "# Небольшие улучшения данных\n",
    "university_list = university_list.rename(columns={'special': 'type'})\n",
    "university_list['type'] = university_list['type'].apply(lambda x: x if x != '' else 'Базовая часть')\n",
    "\n",
    "# Сохраняем полученный список университетов\n",
    "university_list.to_csv('data/university_list.csv', index=False)\n",
    "# Посмотрим количество по трекам\n",
    "university_list[['type', 'id']].groupby(by='type').count().rename(columns={'id': 'count'})"
   ],
   "metadata": {
    "collapsed": false
   }
  },
  {
   "cell_type": "markdown",
   "source": [
    "## Собираем список показателей\n",
    "\n",
    "Чтобы не мучить сильно сайт, по каждому университету данный собираются с задержкой в 0,5 секунды, соответственно собирается всё около 1 минуты."
   ],
   "metadata": {
    "collapsed": false
   }
  },
  {
   "cell_type": "code",
   "execution_count": 6,
   "outputs": [],
   "source": [
    "university_kpis = pd.DataFrame()\n",
    "\n",
    "for i, university in university_list.iterrows():\n",
    "    university_id = university['id']\n",
    "    resp = session.get(f\"https://lk.priority2030.ru/api/v0/priority/{university_id}/indicator\")\n",
    "\n",
    "    if is_everything_okay and resp.status_code == 200:\n",
    "        json_data = resp.json()\n",
    "\n",
    "        if json_data['status'] == 'success':\n",
    "            kpi_list = list(range(0, len(json_data['data'])))\n",
    "\n",
    "            for kpi_index in kpi_list:\n",
    "                kpi_type = 'Базовая часть'\n",
    "                elements = pd.json_normalize(json_data['data'][kpi_index]['elements'])\n",
    "\n",
    "                for j, kpi in elements.sort_values(by='indicator').iterrows():\n",
    "                        data_ids = {}\n",
    "\n",
    "                        # В API какая-то дичь творится...\n",
    "                        # Далее будет использоваться только «Отражение факта» и «План», но есть ещё и «Факт» 🤷‍♂️\n",
    "                        for data_id, data_item in enumerate(kpi['data']):\n",
    "                            data_ids[data_item['description']] = data_id\n",
    "\n",
    "                        for key, value in kpi['data'][data_ids['Отражение факта']]['data'].items():\n",
    "                            if value is not None:\n",
    "                                plan = kpi['data'][data_ids['План']]['data'][key]\n",
    "\n",
    "                                # Выясняем трек по спец. части\n",
    "                                if kpi_index > 0:\n",
    "                                    kpi_postfix = kpi['indicator'].split('_')[1]\n",
    "                                    kpi_type = 'Исследовательское лидерство' if kpi_postfix == 'с1' else 'Территориальное/отраслевое лидерство'\n",
    "\n",
    "                                university_kpis = pd.concat([university_kpis, pd.DataFrame([{\n",
    "                                    'id': university_id,\n",
    "                                    'university': university['shortName'],\n",
    "                                    'type': kpi_type,\n",
    "                                    'indicator': kpi['indicator'],\n",
    "                                    'unit': kpi['unit'],\n",
    "                                    'year': key,\n",
    "                                    'plan': plan,\n",
    "                                    'fact': value,\n",
    "                                    'percent': round(value / plan, 2) if plan else 0,\n",
    "                                    'description': kpi['description'],\n",
    "                                    'formula': kpi['formula'],\n",
    "                                    'calculation_method': kpi['calculationMethod']\n",
    "                                }])])\n",
    "\n",
    "    time.sleep(0.5)\n",
    "\n",
    "# Сохраняем получившуюся сборку\n",
    "university_kpis.to_csv('data/university_kpis.csv', index=False)"
   ],
   "metadata": {
    "collapsed": false
   }
  },
  {
   "cell_type": "markdown",
   "source": [
    "Вроде бы всё 👍"
   ],
   "metadata": {
    "collapsed": false
   }
  }
 ],
 "metadata": {
  "kernelspec": {
   "display_name": "Python 3",
   "language": "python",
   "name": "python3"
  },
  "language_info": {
   "codemirror_mode": {
    "name": "ipython",
    "version": 2
   },
   "file_extension": ".py",
   "mimetype": "text/x-python",
   "name": "python",
   "nbconvert_exporter": "python",
   "pygments_lexer": "ipython2",
   "version": "2.7.6"
  }
 },
 "nbformat": 4,
 "nbformat_minor": 0
}
