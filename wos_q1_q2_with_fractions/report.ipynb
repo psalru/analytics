{
 "cells": [
  {
   "cell_type": "code",
   "execution_count": 1,
   "outputs": [],
   "source": [
    "import pandas as pd\n",
    "from functions import *"
   ],
   "metadata": {
    "collapsed": false,
    "pycharm": {
     "name": "#%%\n"
    }
   }
  },
  {
   "cell_type": "markdown",
   "source": [
    "# Фракционный счёт по данным WoS\n",
    "\n",
    "В данном документе проиллюстрированы механики, которые позволяют посчитать один из показателей программы «Приоритет\n",
    "2030», а именно:\n",
    "\n",
    "> Количество публикаций в научных изданиях I и II квартилей, а также научных изданиях, включенных в индексы Arts and\n",
    "> Humanities Citation Index (A&HCI) и Book Citation Index - Social Sciences & Humanities (BKCI-SSH), индексируемых в\n",
    "> базе данных Web of Science Core Collection, в расчете на одного научно-педагогического работника (далее — НПР)\n",
    "\n",
    "Исходный приказ *(актуален на момент создание данного документа 11.07.2021)*, в котором фигурирует показатель можно\n",
    "найти по [ссылке](http://publication.pravo.gov.ru/Document/View/0001202106230024), в т.ч. в документе описана методика\n",
    "расчёта показателя.\n",
    "\n",
    "## Уточнение задачи\n",
    "\n",
    "1. Для примера возьмём один из вузов — [Университет ИТМО](https://itmo.ru/) (почему именно этот университет я упомяну ниже в блоке про IT конференции)\n",
    "1. Ограничимся одним годом для анализа — 2019\n",
    "1. Используем относительно легко доступные данные — интерфейсы и выгрузки WoS доступные университетам по нац. подписке\n",
    "\n",
    "## Аккаунты университетов в WoS\n",
    "\n",
    "**Обратите внимание!** На момент написания WoS обновляло свои интерфейсы и последующие инструкции могут не сработать в\n",
    "полном объёме через какое-то время.\n",
    "\n",
    "1. Переходим к [интерфейсу поиска](https://apps.webofknowledge.com/WOS_GeneralSearch_input.do?product=WOS&search_mode=GeneralSearch&SID=E2IlyQDP2bZHZP9dgMJ&preferencesSaved=)\n",
    "1. Далее переключаемся на [«Расширенный поиск»](https://apps.webofknowledge.com/WOS_AdvancedSearch_input.do?SID=E2IlyQDP2bZHZP9dgMJ&product=WOS&search_mode=AdvancedSearch)\n",
    "1. В блоке обозначение полей ищем «OG= Профили организаций» и переходим по ссылке «[Указатель]».\n",
    "1. В блоке поиска вбиваем какую-то часть официального названия университета на английском языке и наживаем на «Find»\n",
    "(например для ИТМО хватило «ITMO»).\n",
    "1. В списке найденного находим нашу организацию и нажав на «D» в гругляшке (старый UI WoS конечно «шикарен» 🤦‍),\n",
    "переходим к расширенному списку названий организации.\n",
    "1. Нажимаем на «Add» рядом с «Organization Name», что добавит основное название организации UI элемент, где написано\n",
    "«Transfer your selected organization(s) below to the Organizations - Enhanced field on the search page.» и больше здесь,\n",
    "пока, **ничего не нажимайте**.\n",
    "1. Далее формируем исчерпывающий список названий университета для фракционного счёта, чтобы не возвращаться больше на\n",
    "данную страницу. Я сохранил в файл `2021_07_07_wos_q1_q2_with_fractions/data/itmo_names.csv`.\n",
    "1. В завершении нажимаем «Ok» внизу страницы и переходим к поиску публикаций по организации.\n",
    "\n",
    "Теперь можно сформировать список названий и проверять произвольные строки на вхождение в конечный список названий:"
   ],
   "metadata": {
    "collapsed": false
   }
  },
  {
   "cell_type": "code",
   "execution_count": 2,
   "outputs": [
    {
     "name": "stdout",
     "output_type": "stream",
     "text": [
      "True False\n"
     ]
    }
   ],
   "source": [
    "itmo_names = pd.read_csv('data/itmo-names.csv', header=None, squeeze=True)\n",
    "print(('ITMO' in itmo_names.unique()), ('Not ITMO' in itmo_names.unique()))"
   ],
   "metadata": {
    "collapsed": false,
    "pycharm": {
     "name": "#%%\n"
    }
   }
  },
  {
   "cell_type": "markdown",
   "source": [
    "---\n",
    "\n",
    "Тем, кто знаком с консолью DevTools браузера (например в Chrome открывается по `F12`) упростит формирование списка\n",
    "названий из **пункта № 7**, если вы введёте и запустите ниже представленный код:\n",
    "\n",
    "```js\n",
    "$('#SAOuterTable > tbody > tr:nth-child(1) > td > table > tbody > tr > td > table:nth-child(2) > tbody > tr > td > table > tbody > tr:nth-child(2) > td.SAContent > table tr').each(function() {\n",
    "    console.log($(this).find('td:last > span').html())\n",
    "})\n",
    "```\n",
    "\n",
    "В консоль выведется список, который можно скопировать в любой текстовый редактор и довольно быстро почистить с помощью\n",
    "функции «Найти и заменить». Останется только вручную взять варианты названия из «Other Names».\n",
    "\n",
    "---\n",
    "\n",
    "## Работа с публикациями\n",
    "\n",
    "Если в предыдущем блоке +/- всё было сделано правильно Вас должно перебросить на страницу расширенного поиска, с\n",
    "указанным профилем организации (в моём случае `OG=(ITMO University)`).\n",
    "\n",
    "1. Нажимаем кнопку «Поиск».\n",
    "1. Ниже на странице в «Истории поиска» появится подборка с каким-то количеством результатов (в моём случае было найдено\n",
    "15 563 документа).\n",
    "1. Далее **Министерство придумало для нас квест**, который вынуждает нас не просто выгрузить выдачу полученную в предыдущем\n",
    "пункте, а формировать несколько выборок с помощью фильтров и выгружать их.\n",
    "\n",
    "Прежде чем мы перейдём к описанию решения квеста, опишем общие правила выгрузок, которые мы будем воспроизводить каждый\n",
    "раз после решения части загадок (формирования удовлетворяющих выборок):\n",
    "\n",
    "1. Нажимаем кнопку «Экспорт»\n",
    "1. В выпадающем меню выбираем «Другие форматы файлов»\n",
    "1. В сплывающем окне вводим следующие данные:\n",
    "    * Записи с *такой-то* по *такую-то* (максимально за раз можно выгрузить по 500 записей, возможно Вам придётся\n",
    "    сделать это несколько раз, что бы сформировать весь объём Ваших публикаций)\n",
    "    * «Содержимое записи» устанавливаем в «Полная запись»\n",
    "    * «Формат файла» выбираем «С разделителями табуляции (Win, UTF-8)»\n",
    "1. Нажимаем на кнопку «Экспорт» и сохраняем файл в папку `2021_07_07_wos_q1_q2_with_fractions/data` данного проекта\n",
    "(чтобы было понятней, рекомендую сохранять файлы по следующему шаблону `[publication_type]-[year]-[start]-[end].csv`,\n",
    "например для научных статей для 2020 года название файла может выглядеть так:\n",
    "`articles-and-reviews-2020-1-500.csv`)\n",
    "\n",
    "### Статьи и обзоры за 2019 год\n",
    "\n",
    "Работаем с блоком «Уточнение результатов» в нашей исходной выдаче по организации:\n",
    "\n",
    "1. Нажимаем «Просмотреть все параметры» внизу блока «Уточнение результатов».\n",
    "1. В блоке «Web of Science Index» нажимаем «дополнительные параметры / значения...».\n",
    "1. В открывшемся интерфейсе проставляем галочки рядом с:\n",
    "    * Science Citation Index Expanded\n",
    "    * Social Sciences Citation Index\n",
    "    * Arts and Humanities Citation Index\n",
    "1. Нажимаем кнопку «Уточнить». Вас перебросит обратно сузив результаты выдачи.\n",
    "1. Ставим галочки напротив интересующего нас года (2019) и нажимаем кнопку «Уточнить»\n",
    "1. В блоке «Типы документов» ставим галочки напротив «ARTICLE» и «REVIEW», и наживаем на кнопку «Уточнить»\n",
    "\n",
    "**Обратите внимание!** В процессе сужения результатов поиска по Вашему университету может отличаться\n",
    "количество/вариативность сущностей с описанным выше. Это связано с тем, что система даёт работать, после каждого шага,\n",
    "с сущностями, в которых есть статьи с аффилиацией Вашего университета.\n",
    "\n",
    "**Ура!** Мы сформировали первую выборку для работы 😊\n",
    "\n",
    "**Есть альтернативный вариант**, который мне более приятен, т.к. меньше переходов по интерфейсу и нажатий на кнопочки.\n",
    "Но было важно показать все варианты использования интерфейса WoS.\n",
    "\n",
    "1. Переходим на страницу [расширенного поиска](https://apps.webofknowledge.com/WOS_AdvancedSearch_input.do?SID=E2IlyQDP2bZHZP9dgMJ&product=WOS&search_mode=AdvancedSearch).\n",
    "1. Вставляем в строку поиска следующий запрос:\n",
    "```\n",
    "OG=(ITMO University)\n",
    "```\n",
    "1. В блоке «Ограничить результаты по языкам и типам документов» с зажатым `Ctrl` отмечаем «Article» и «Review»,\n",
    "дискриминацию по языкам не устраиваем.\n",
    "1. В блоке «Период» выбираем «Настраиваемый диапазон лет» и с 2019 по 2019.\n",
    "1. Выведем дополнительные настройки нажав на «ДУРУГИЕ ПАРАМЕТРЫ»\n",
    "1. Web of Science Core Collection: указатели цитирования оставляем следующие галочки:\n",
    "    * Science Citation Index Expanded (SCI-EXPANDED) --1975-по настоящее время\n",
    "    * Social Sciences Citation Index (SSCI) --1975-по настоящее время\n",
    "    * Arts & Humanities Citation Index (A&HCI) --1975-по настоящее время\n",
    "1. Нажимаем на кнопку «Поиск» и переходим к результатам поиска.\n",
    "\n",
    "У [выбранного мной университета](http://itmo.ru/) в конечном счёте осталось 1 025 публикаций удовлетворяющих\n",
    "описанным выше ограничениям и фильтрам. Результаты экспортированы в файлы:\n",
    "\n",
    "* `2021_07_07_wos_q1_q2_with_fractions/data/articles-and-reviews-2019-2018-1-500.csv`\n",
    "* `2021_07_07_wos_q1_q2_with_fractions/data/articles-and-reviews-2019-2018-501-1000.csv`\n",
    "* `2021_07_07_wos_q1_q2_with_fractions/data/articles-and-reviews-2019-2018-1001-1025.csv`\n",
    "\n",
    "Соберём это в один dataframe и посмотрим на первые 5 строк:"
   ],
   "metadata": {
    "collapsed": false,
    "pycharm": {
     "name": "#%% md\n"
    }
   }
  },
  {
   "cell_type": "code",
   "execution_count": 3,
   "outputs": [
    {
     "data": {
      "text/plain": "  PT                                                 AU  BA   BE  GP  \\\n0  J  Tenishchev, SS; Kiselev, AD; Ivanov, AV; Uzdin... NaN  NaN NaN   \n1  J  Bai, M; Huang, H; Liu, Z; Zhan, TT; Xia, SF; L... NaN  NaN NaN   \n2  J  Mamontov, OV; Kozlenok, AV; Kamshilin, MA; Shl... NaN  NaN NaN   \n3  J  Pozina, G; Hemmingsson, C; Belonovskii, AV; Le... NaN  NaN NaN   \n4  J  Smirnov, AM; Young, EC; Bougrov, VE; Speck, JS... NaN  NaN NaN   \n\n                                                  AF  BF  CA  \\\n0  Tenishchev, Semen S.; Kiselev, Alexei D.; Ivan... NaN NaN   \n1  Bai, Min; Huang, Hui; Liu, Zhe; Zhan, Tingting... NaN NaN   \n2  Mamontov, Oleg, V; Kozlenok, Andrey, V; Kamshi... NaN NaN   \n3  Pozina, Galia; Hemmingsson, Carl; Belonovskii,... NaN NaN   \n4  Smirnov, A. M.; Young, E. C.; Bougrov, V. E.; ... NaN NaN   \n\n                                                  TI  \\\n0  Multiple minimum-energy paths and scenarios of...   \n1  InAs/InP core/shell nanowire gas sensor: Effec...   \n2  The Autonomic Regulation of Circulation and Ad...   \n3  Emission Properties of GaN Planar Hexagonal Mi...   \n4  Stress relaxation in semipolar and nonpolar II...   \n\n                                                  SO  ...  PG  \\\n0                                  PHYSICAL REVIEW E  ...  11   \n1                            APPLIED SURFACE SCIENCE  ...   7   \n2                   CARDIOLOGY RESEARCH AND PRACTICE  ...   6   \n3  PHYSICA STATUS SOLIDI A-APPLICATIONS AND MATER...  ...   5   \n4                         JOURNAL OF APPLIED PHYSICS  ...  11   \n\n                                                  WC  \\\n0   Physics, Fluids & Plasmas; Physics, Mathematical   \n1  Chemistry, Physical; Materials Science, Coatin...   \n2                   Cardiac & Cardiovascular Systems   \n3  Materials Science, Multidisciplinary; Physics,...   \n4                                   Physics, Applied   \n\n                                      SC     GA                   UT  \\\n0                                Physics  JZ3EB  WOS:000504984100002   \n1  Chemistry; Materials Science; Physics  JA4ZH  WOS:000487851700017   \n2     Cardiovascular System & Cardiology  KC6FG  WOS:000507270500001   \n3             Materials Science; Physics  MV8SO  WOS:000504787900001   \n4                                Physics  KA1CY  WOS:000505538100009   \n\n           PM                          OA   HC   HP          DA  \n0  31962453.0                         NaN  NaN  NaN  2021-07-20  \n1         NaN                         NaN  NaN  NaN  2021-07-20  \n2  32082622.0  DOAJ Gold, Green Published  NaN  NaN  2021-07-20  \n3         NaN                         NaN  NaN  NaN  2021-07-20  \n4         NaN                         NaN  NaN  NaN  2021-07-20  \n\n[5 rows x 67 columns]",
      "text/html": "<div>\n<style scoped>\n    .dataframe tbody tr th:only-of-type {\n        vertical-align: middle;\n    }\n\n    .dataframe tbody tr th {\n        vertical-align: top;\n    }\n\n    .dataframe thead th {\n        text-align: right;\n    }\n</style>\n<table border=\"1\" class=\"dataframe\">\n  <thead>\n    <tr style=\"text-align: right;\">\n      <th></th>\n      <th>PT</th>\n      <th>AU</th>\n      <th>BA</th>\n      <th>BE</th>\n      <th>GP</th>\n      <th>AF</th>\n      <th>BF</th>\n      <th>CA</th>\n      <th>TI</th>\n      <th>SO</th>\n      <th>...</th>\n      <th>PG</th>\n      <th>WC</th>\n      <th>SC</th>\n      <th>GA</th>\n      <th>UT</th>\n      <th>PM</th>\n      <th>OA</th>\n      <th>HC</th>\n      <th>HP</th>\n      <th>DA</th>\n    </tr>\n  </thead>\n  <tbody>\n    <tr>\n      <th>0</th>\n      <td>J</td>\n      <td>Tenishchev, SS; Kiselev, AD; Ivanov, AV; Uzdin...</td>\n      <td>NaN</td>\n      <td>NaN</td>\n      <td>NaN</td>\n      <td>Tenishchev, Semen S.; Kiselev, Alexei D.; Ivan...</td>\n      <td>NaN</td>\n      <td>NaN</td>\n      <td>Multiple minimum-energy paths and scenarios of...</td>\n      <td>PHYSICAL REVIEW E</td>\n      <td>...</td>\n      <td>11</td>\n      <td>Physics, Fluids &amp; Plasmas; Physics, Mathematical</td>\n      <td>Physics</td>\n      <td>JZ3EB</td>\n      <td>WOS:000504984100002</td>\n      <td>31962453.0</td>\n      <td>NaN</td>\n      <td>NaN</td>\n      <td>NaN</td>\n      <td>2021-07-20</td>\n    </tr>\n    <tr>\n      <th>1</th>\n      <td>J</td>\n      <td>Bai, M; Huang, H; Liu, Z; Zhan, TT; Xia, SF; L...</td>\n      <td>NaN</td>\n      <td>NaN</td>\n      <td>NaN</td>\n      <td>Bai, Min; Huang, Hui; Liu, Zhe; Zhan, Tingting...</td>\n      <td>NaN</td>\n      <td>NaN</td>\n      <td>InAs/InP core/shell nanowire gas sensor: Effec...</td>\n      <td>APPLIED SURFACE SCIENCE</td>\n      <td>...</td>\n      <td>7</td>\n      <td>Chemistry, Physical; Materials Science, Coatin...</td>\n      <td>Chemistry; Materials Science; Physics</td>\n      <td>JA4ZH</td>\n      <td>WOS:000487851700017</td>\n      <td>NaN</td>\n      <td>NaN</td>\n      <td>NaN</td>\n      <td>NaN</td>\n      <td>2021-07-20</td>\n    </tr>\n    <tr>\n      <th>2</th>\n      <td>J</td>\n      <td>Mamontov, OV; Kozlenok, AV; Kamshilin, MA; Shl...</td>\n      <td>NaN</td>\n      <td>NaN</td>\n      <td>NaN</td>\n      <td>Mamontov, Oleg, V; Kozlenok, Andrey, V; Kamshi...</td>\n      <td>NaN</td>\n      <td>NaN</td>\n      <td>The Autonomic Regulation of Circulation and Ad...</td>\n      <td>CARDIOLOGY RESEARCH AND PRACTICE</td>\n      <td>...</td>\n      <td>6</td>\n      <td>Cardiac &amp; Cardiovascular Systems</td>\n      <td>Cardiovascular System &amp; Cardiology</td>\n      <td>KC6FG</td>\n      <td>WOS:000507270500001</td>\n      <td>32082622.0</td>\n      <td>DOAJ Gold, Green Published</td>\n      <td>NaN</td>\n      <td>NaN</td>\n      <td>2021-07-20</td>\n    </tr>\n    <tr>\n      <th>3</th>\n      <td>J</td>\n      <td>Pozina, G; Hemmingsson, C; Belonovskii, AV; Le...</td>\n      <td>NaN</td>\n      <td>NaN</td>\n      <td>NaN</td>\n      <td>Pozina, Galia; Hemmingsson, Carl; Belonovskii,...</td>\n      <td>NaN</td>\n      <td>NaN</td>\n      <td>Emission Properties of GaN Planar Hexagonal Mi...</td>\n      <td>PHYSICA STATUS SOLIDI A-APPLICATIONS AND MATER...</td>\n      <td>...</td>\n      <td>5</td>\n      <td>Materials Science, Multidisciplinary; Physics,...</td>\n      <td>Materials Science; Physics</td>\n      <td>MV8SO</td>\n      <td>WOS:000504787900001</td>\n      <td>NaN</td>\n      <td>NaN</td>\n      <td>NaN</td>\n      <td>NaN</td>\n      <td>2021-07-20</td>\n    </tr>\n    <tr>\n      <th>4</th>\n      <td>J</td>\n      <td>Smirnov, AM; Young, EC; Bougrov, VE; Speck, JS...</td>\n      <td>NaN</td>\n      <td>NaN</td>\n      <td>NaN</td>\n      <td>Smirnov, A. M.; Young, E. C.; Bougrov, V. E.; ...</td>\n      <td>NaN</td>\n      <td>NaN</td>\n      <td>Stress relaxation in semipolar and nonpolar II...</td>\n      <td>JOURNAL OF APPLIED PHYSICS</td>\n      <td>...</td>\n      <td>11</td>\n      <td>Physics, Applied</td>\n      <td>Physics</td>\n      <td>KA1CY</td>\n      <td>WOS:000505538100009</td>\n      <td>NaN</td>\n      <td>NaN</td>\n      <td>NaN</td>\n      <td>NaN</td>\n      <td>2021-07-20</td>\n    </tr>\n  </tbody>\n</table>\n<p>5 rows × 67 columns</p>\n</div>"
     },
     "execution_count": 3,
     "metadata": {},
     "output_type": "execute_result"
    }
   ],
   "source": [
    "ar = pd.concat([\n",
    "    pd.read_csv('data/articles-and-reviews-2019-1-500.csv', sep='\\t', index_col=False),\n",
    "    pd.read_csv('data/articles-and-reviews-2019-501-1000.csv', sep='\\t', index_col=False),\n",
    "    pd.read_csv('data/articles-and-reviews-2019-1001-1025.csv', sep='\\t', index_col=False),\n",
    "]).reset_index(drop=True)\n",
    "ar.head()"
   ],
   "metadata": {
    "collapsed": false,
    "pycharm": {
     "name": "#%%\n"
    }
   }
  },
  {
   "cell_type": "markdown",
   "source": [
    "### Книжки за 2019 год\n",
    "\n",
    "1. Переходим на страницу [расширенного поиска](https://apps.webofknowledge.com/WOS_AdvancedSearch_input.do?SID=E2IlyQDP2bZHZP9dgMJ&product=WOS&search_mode=AdvancedSearch).\n",
    "1. Вставляем в строку поиска следующий запрос:\n",
    "```\n",
    "OG=(ITMO University)\n",
    "```\n",
    "1. В блоке «Ограничить результаты по языкам и типам документов» с зажатым `Ctrl` отмечаем «Book»,\n",
    "дискриминацию по языкам не устраиваем.\n",
    "1. В блоке «Период» выбираем «Настраиваемый диапазон лет» и с 2019 по 2019.\n",
    "1. Web of Science Core Collection: указатели цитирования оставляем следующие галочки:\n",
    "    * Book Citation Index– Social Sciences & Humanities (BKCI-SSH) --2005-по настоящее время\n",
    "1. Нажимаем на кнопку «Поиск» и переходим к результатам поиска.\n",
    "\n",
    "К сожалению у [ИТМО](http://itmo.ru/) таких документов не оказалось, экспортировать не с чем 🤷 **Но даже больше!** Я не\n",
    "смог найти такого рода документов по всей стране за 2018-2020 года, вместо `OG=(ITMO University)` вбивал `CU=(RUSSIA)`,\n",
    "т.е осуществлял поиск по всей стране, но результат аналогичный. Видимо что-то на перспективу заложено 🤔\n",
    "\n",
    "### Бонусная IT-выборка\n",
    "\n",
    "Данная выборка далась тяжело, возможно мне не повезло, но пришлось перебрать 7-10 университетов, прежде чем в выдаче\n",
    "появились публикации, на которых можно было проиллюстрировать механику подсчёта показателя (даже вузы из\n",
    "[5-100](https://www.5top100.ru/) не подходили).\n",
    "\n",
    "1. Переходим на страницу [расширенного поиска](https://apps.webofknowledge.com/WOS_AdvancedSearch_input.do?SID=E2IlyQDP2bZHZP9dgMJ&product=WOS&search_mode=AdvancedSearch).\n",
    "1. Вставляем в строку поиска следующий запрос:\n",
    "```\n",
    "OG=(ITMO University) AND\n",
    "WC=(COMPUTER SCIENCE INFORMATION SYSTEMS OR COMPUTER SCIENCE ARTIFICIAL INTELLIGENCE OR COMPUTER SCIENCE THEORY METHODS OR COMPUTER SCIENCE INTERDISCIPLINARY APPLICATIONS OR COMPUTER SCIENCE SOFTWARE ENGINEERING OR COMPUTER SCIENCE CYBERNETICS OR COMPUTER SCIENCE HARDWARE ARCHITECTURE)\n",
    "```\n",
    "1. В блоке «Ограничить результаты по языкам и типам документов» с зажатым `Ctrl` отмечаем «Proceedings Paper»,\n",
    "дискриминацию по языкам не устраиваем.\n",
    "1. В блоке «Период» выбираем «Настраиваемый диапазон лет» и с 2018 по 2020.\n",
    "1. Web of Science Core Collection: указатели цитирования оставляем следующие галочки:\n",
    "    * Conference Proceedings Citation Index- Science (CPCI-S) --1990-по настоящее время\n",
    "1. Нажимаем на кнопку «Поиск» и переходим к результатам поиска.\n",
    "\n",
    "У меня найдено 234 документа, результаты экспортированы в файлы:\n",
    "\n",
    "* `2021_07_07_wos_q1_q2_with_fractions/data/it-conf-2019-1-234.csv`\n",
    "\n",
    "**Отлично!** Сформирован комплект публикаций в конференциях. Давайте посмотрим на пример данных."
   ],
   "metadata": {
    "collapsed": false,
    "pycharm": {
     "name": "#%% md\n"
    }
   }
  },
  {
   "cell_type": "code",
   "execution_count": 4,
   "outputs": [
    {
     "data": {
      "text/plain": "  PT                                                 AU  BA  \\\n0  J                               Khartov, AA; Zani, M NaN   \n1  J  Kovalchuk, SV; Krzhizhanovskaya, VV; Shi, Y; F... NaN   \n2  J      Bates, S; Leonenko, V; Rineer, J; Bobashev, G NaN   \n3  J  Bocharova, IE; Kudryashov, BD; Skachek, V; Yak... NaN   \n4  B     Akhtiamov, O; Siegert, I; Karpov, A; Minker, W NaN   \n\n                                                  BE   GP  \\\n0                                                NaN  NaN   \n1                                                NaN  NaN   \n2                                                NaN  NaN   \n3                                                NaN  NaN   \n4  Nakamura, S; Gasic, M; Zuckerman, I; Skantze, ...  NaN   \n\n                                                  AF  BF  CA  \\\n0                           Khartov, A. A.; Zani, M. NaN NaN   \n1  Kovalchuk, Sergey V.; Krzhizhanovskaya, Valeri... NaN NaN   \n2  Bates, Savannah; Leonenko, Vasiliy; Rineer, Ja... NaN NaN   \n3  Bocharova, Irina E.; Kudryashov, Boris D.; Ska... NaN NaN   \n4  Akhtiamov, Oleg; Siegert, Ingo; Karpov, Alexey... NaN NaN   \n\n                                                  TI  \\\n0  Asymptotic analysis of average case approximat...   \n1  Science at the intersection of data, modelling...   \n2  Using synthetic populations to understand geos...   \n3  BP-LED Decoding Algorithm for LDPC Codes Over ...   \n4  Cross-Corpus Data Augmentation for Acoustic Ad...   \n\n                                                  SO  ...  PG  \\\n0                              JOURNAL OF COMPLEXITY  ...  21   \n1                   JOURNAL OF COMPUTATIONAL SCIENCE  ...   3   \n2  COMPUTATIONAL AND MATHEMATICAL ORGANIZATION TH...  ...  12   \n3            IEEE TRANSACTIONS ON INFORMATION THEORY  ...  17   \n4  20TH ANNUAL MEETING OF THE SPECIAL INTEREST GR...  ...  10   \n\n                                                  WC  \\\n0  Computer Science, Theory & Methods; Mathematic...   \n1  Computer Science, Interdisciplinary Applicatio...   \n2  Computer Science, Interdisciplinary Applicatio...   \n3  Computer Science, Information Systems; Enginee...   \n4  Computer Science, Interdisciplinary Applicatio...   \n\n                                                  SC     GA  \\\n0                      Computer Science; Mathematics  HT3UY   \n1                                   Computer Science  IM3TH   \n2  Computer Science; Mathematics; Mathematical Me...  HQ2BV   \n3                      Computer Science; Engineering  HM5BO   \n4                      Computer Science; Linguistics  BQ4NT   \n\n                    UT  PM   OA  HC  HP          DA  \n0  WOS:000464489900003 NaN  NaN NaN NaN  2021-07-20  \n1  WOS:000477917200009 NaN  NaN NaN NaN  2021-07-20  \n2  WOS:000462205200004 NaN  NaN NaN NaN  2021-07-20  \n3  WOS:000459489600023 NaN  NaN NaN NaN  2021-07-20  \n4  WOS:000591510500033 NaN  NaN NaN NaN  2021-07-20  \n\n[5 rows x 67 columns]",
      "text/html": "<div>\n<style scoped>\n    .dataframe tbody tr th:only-of-type {\n        vertical-align: middle;\n    }\n\n    .dataframe tbody tr th {\n        vertical-align: top;\n    }\n\n    .dataframe thead th {\n        text-align: right;\n    }\n</style>\n<table border=\"1\" class=\"dataframe\">\n  <thead>\n    <tr style=\"text-align: right;\">\n      <th></th>\n      <th>PT</th>\n      <th>AU</th>\n      <th>BA</th>\n      <th>BE</th>\n      <th>GP</th>\n      <th>AF</th>\n      <th>BF</th>\n      <th>CA</th>\n      <th>TI</th>\n      <th>SO</th>\n      <th>...</th>\n      <th>PG</th>\n      <th>WC</th>\n      <th>SC</th>\n      <th>GA</th>\n      <th>UT</th>\n      <th>PM</th>\n      <th>OA</th>\n      <th>HC</th>\n      <th>HP</th>\n      <th>DA</th>\n    </tr>\n  </thead>\n  <tbody>\n    <tr>\n      <th>0</th>\n      <td>J</td>\n      <td>Khartov, AA; Zani, M</td>\n      <td>NaN</td>\n      <td>NaN</td>\n      <td>NaN</td>\n      <td>Khartov, A. A.; Zani, M.</td>\n      <td>NaN</td>\n      <td>NaN</td>\n      <td>Asymptotic analysis of average case approximat...</td>\n      <td>JOURNAL OF COMPLEXITY</td>\n      <td>...</td>\n      <td>21</td>\n      <td>Computer Science, Theory &amp; Methods; Mathematic...</td>\n      <td>Computer Science; Mathematics</td>\n      <td>HT3UY</td>\n      <td>WOS:000464489900003</td>\n      <td>NaN</td>\n      <td>NaN</td>\n      <td>NaN</td>\n      <td>NaN</td>\n      <td>2021-07-20</td>\n    </tr>\n    <tr>\n      <th>1</th>\n      <td>J</td>\n      <td>Kovalchuk, SV; Krzhizhanovskaya, VV; Shi, Y; F...</td>\n      <td>NaN</td>\n      <td>NaN</td>\n      <td>NaN</td>\n      <td>Kovalchuk, Sergey V.; Krzhizhanovskaya, Valeri...</td>\n      <td>NaN</td>\n      <td>NaN</td>\n      <td>Science at the intersection of data, modelling...</td>\n      <td>JOURNAL OF COMPUTATIONAL SCIENCE</td>\n      <td>...</td>\n      <td>3</td>\n      <td>Computer Science, Interdisciplinary Applicatio...</td>\n      <td>Computer Science</td>\n      <td>IM3TH</td>\n      <td>WOS:000477917200009</td>\n      <td>NaN</td>\n      <td>NaN</td>\n      <td>NaN</td>\n      <td>NaN</td>\n      <td>2021-07-20</td>\n    </tr>\n    <tr>\n      <th>2</th>\n      <td>J</td>\n      <td>Bates, S; Leonenko, V; Rineer, J; Bobashev, G</td>\n      <td>NaN</td>\n      <td>NaN</td>\n      <td>NaN</td>\n      <td>Bates, Savannah; Leonenko, Vasiliy; Rineer, Ja...</td>\n      <td>NaN</td>\n      <td>NaN</td>\n      <td>Using synthetic populations to understand geos...</td>\n      <td>COMPUTATIONAL AND MATHEMATICAL ORGANIZATION TH...</td>\n      <td>...</td>\n      <td>12</td>\n      <td>Computer Science, Interdisciplinary Applicatio...</td>\n      <td>Computer Science; Mathematics; Mathematical Me...</td>\n      <td>HQ2BV</td>\n      <td>WOS:000462205200004</td>\n      <td>NaN</td>\n      <td>NaN</td>\n      <td>NaN</td>\n      <td>NaN</td>\n      <td>2021-07-20</td>\n    </tr>\n    <tr>\n      <th>3</th>\n      <td>J</td>\n      <td>Bocharova, IE; Kudryashov, BD; Skachek, V; Yak...</td>\n      <td>NaN</td>\n      <td>NaN</td>\n      <td>NaN</td>\n      <td>Bocharova, Irina E.; Kudryashov, Boris D.; Ska...</td>\n      <td>NaN</td>\n      <td>NaN</td>\n      <td>BP-LED Decoding Algorithm for LDPC Codes Over ...</td>\n      <td>IEEE TRANSACTIONS ON INFORMATION THEORY</td>\n      <td>...</td>\n      <td>17</td>\n      <td>Computer Science, Information Systems; Enginee...</td>\n      <td>Computer Science; Engineering</td>\n      <td>HM5BO</td>\n      <td>WOS:000459489600023</td>\n      <td>NaN</td>\n      <td>NaN</td>\n      <td>NaN</td>\n      <td>NaN</td>\n      <td>2021-07-20</td>\n    </tr>\n    <tr>\n      <th>4</th>\n      <td>B</td>\n      <td>Akhtiamov, O; Siegert, I; Karpov, A; Minker, W</td>\n      <td>NaN</td>\n      <td>Nakamura, S; Gasic, M; Zuckerman, I; Skantze, ...</td>\n      <td>NaN</td>\n      <td>Akhtiamov, Oleg; Siegert, Ingo; Karpov, Alexey...</td>\n      <td>NaN</td>\n      <td>NaN</td>\n      <td>Cross-Corpus Data Augmentation for Acoustic Ad...</td>\n      <td>20TH ANNUAL MEETING OF THE SPECIAL INTEREST GR...</td>\n      <td>...</td>\n      <td>10</td>\n      <td>Computer Science, Interdisciplinary Applicatio...</td>\n      <td>Computer Science; Linguistics</td>\n      <td>BQ4NT</td>\n      <td>WOS:000591510500033</td>\n      <td>NaN</td>\n      <td>NaN</td>\n      <td>NaN</td>\n      <td>NaN</td>\n      <td>2021-07-20</td>\n    </tr>\n  </tbody>\n</table>\n<p>5 rows × 67 columns</p>\n</div>"
     },
     "execution_count": 4,
     "metadata": {},
     "output_type": "execute_result"
    }
   ],
   "source": [
    "it = pd.read_csv('data/it-conf-2019-1-234.csv', sep='\\t', index_col=False).reset_index(drop=True)\n",
    "it.head()"
   ],
   "metadata": {
    "collapsed": false,
    "pycharm": {
     "name": "#%%\n"
    }
   }
  },
  {
   "cell_type": "markdown",
   "source": [
    "Как мы видим по 2-м примерам название колонок сходу ничего не говорит, путём визуального анализа фиксируем следующее:\n",
    "\n",
    "* **AU** — авторы\n",
    "* **C1** — список аффилиаций с привязанными к ним авторами\n",
    "* **SN** — ISSN\n",
    "* **EI** — eISSN\n",
    "* **DI** — DOI\n",
    "* **CT** — название конференции\n",
    "\n",
    "На всё остальное в данной аналитике можно забить, хватит вышеупомянутых столбцов.\n",
    "\n",
    "### Квартильность публикаций\n",
    "\n",
    "В исходном квесте от министерства есть ограничения, что статьи должны быть I и II квартиля. Фильтр по квартилю к книгам\n",
    "и публикациям в конференциях я не применял, мне показалось это логичным (аргументированно поспорить можно\n",
    "[здесь](https://t.me/psalgroup) или [здесь](https://github.com/psalru/analytics/issues))\n",
    "\n",
    "Нам потребуется таблица, которая будет содержать ISSN и eISSN журналов, а также их квартиль. Данные можно взять с\n",
    "[данной страницы](https://jcr.clarivate.com/jcr/browse-journals), предварительно применив следующие фильтры:\n",
    "\n",
    "* В «Citation Indexes» оставляем только интересующие нас индексы:\n",
    "    * Science Citation Index Expanded (SCIE)\n",
    "    * Social Science Citation Index (SSCI)\n",
    "    * Arts & Humanities Citation Index (AHCI)\n",
    "* В «JIF Quartile» ставим галочки напротив «Quartile 1» и «Quartile 2»\n",
    "* «JCR Year» последовательно выставляем по годам: 2019\n",
    "\n",
    "У меня получилось 6 372 журналов за 2019 год. Если вы не знакомы с DevTools браузера придётся копировать данные в\n",
    "ручную, но если таковые знания есть обратите внимание на вкладку «Network» и тип прилетающих данных со страницы «XHR».\n",
    "Это существенно ускорит процесс формирования необходимых данных для аналитики 😏\n",
    "\n",
    "У меня получилось что-то вроде такого (выведены первые 5 записей):"
   ],
   "metadata": {
    "collapsed": false,
    "pycharm": {
     "name": "#%% md\n"
    }
   }
  },
  {
   "cell_type": "code",
   "execution_count": 5,
   "outputs": [
    {
     "data": {
      "text/plain": "   jcrYear       issn      eissn quartile\n0     2019  0007-9235  1542-4863       Q1\n1     2019  0028-4793  1533-4406       Q1\n2     2019  2058-8437  2058-8437       Q1\n3     2019  1474-1776  1474-1784       Q1\n4     2019  0140-6736  1474-547X       Q1",
      "text/html": "<div>\n<style scoped>\n    .dataframe tbody tr th:only-of-type {\n        vertical-align: middle;\n    }\n\n    .dataframe tbody tr th {\n        vertical-align: top;\n    }\n\n    .dataframe thead th {\n        text-align: right;\n    }\n</style>\n<table border=\"1\" class=\"dataframe\">\n  <thead>\n    <tr style=\"text-align: right;\">\n      <th></th>\n      <th>jcrYear</th>\n      <th>issn</th>\n      <th>eissn</th>\n      <th>quartile</th>\n    </tr>\n  </thead>\n  <tbody>\n    <tr>\n      <th>0</th>\n      <td>2019</td>\n      <td>0007-9235</td>\n      <td>1542-4863</td>\n      <td>Q1</td>\n    </tr>\n    <tr>\n      <th>1</th>\n      <td>2019</td>\n      <td>0028-4793</td>\n      <td>1533-4406</td>\n      <td>Q1</td>\n    </tr>\n    <tr>\n      <th>2</th>\n      <td>2019</td>\n      <td>2058-8437</td>\n      <td>2058-8437</td>\n      <td>Q1</td>\n    </tr>\n    <tr>\n      <th>3</th>\n      <td>2019</td>\n      <td>1474-1776</td>\n      <td>1474-1784</td>\n      <td>Q1</td>\n    </tr>\n    <tr>\n      <th>4</th>\n      <td>2019</td>\n      <td>0140-6736</td>\n      <td>1474-547X</td>\n      <td>Q1</td>\n    </tr>\n  </tbody>\n</table>\n</div>"
     },
     "execution_count": 5,
     "metadata": {},
     "output_type": "execute_result"
    }
   ],
   "source": [
    "wos_quartiles = pd.read_csv('data/wos-journals-q1-q2.csv', sep=',').fillna('****-****')\n",
    "wos_quartiles.head()"
   ],
   "metadata": {
    "collapsed": false,
    "pycharm": {
     "name": "#%%\n"
    }
   }
  },
  {
   "cell_type": "markdown",
   "source": [
    "## Фракционный счёт\n",
    "\n",
    "Будем считать методом фракционного счёта полученные данные:\n",
    "\n",
    "1. «Articles» and «Reviews» из индексов SCI-EXPANDED, SSCI и A&HCI\n",
    "2. По «Books» из индекса BKCI-SSH по [ИТМО](http://itmo.ru/) считать нечего 🤷‍\n",
    "3. IT-конференции из индекса CPCI-S\n",
    "\n",
    "Для начало добавим столбец `authors_count` с общим количеством авторов."
   ],
   "metadata": {
    "collapsed": false,
    "pycharm": {
     "name": "#%% md\n"
    }
   }
  },
  {
   "cell_type": "code",
   "execution_count": 6,
   "outputs": [
    {
     "data": {
      "text/plain": "                             DI  authors_count\n0   10.1103/PhysRevE.100.062704              4\n1  10.1016/j.apsusc.2019.143756             10\n2          10.1155/2019/8391924              4\n3        10.1002/pssa.201900894             11\n4             10.1063/1.5126195              5",
      "text/html": "<div>\n<style scoped>\n    .dataframe tbody tr th:only-of-type {\n        vertical-align: middle;\n    }\n\n    .dataframe tbody tr th {\n        vertical-align: top;\n    }\n\n    .dataframe thead th {\n        text-align: right;\n    }\n</style>\n<table border=\"1\" class=\"dataframe\">\n  <thead>\n    <tr style=\"text-align: right;\">\n      <th></th>\n      <th>DI</th>\n      <th>authors_count</th>\n    </tr>\n  </thead>\n  <tbody>\n    <tr>\n      <th>0</th>\n      <td>10.1103/PhysRevE.100.062704</td>\n      <td>4</td>\n    </tr>\n    <tr>\n      <th>1</th>\n      <td>10.1016/j.apsusc.2019.143756</td>\n      <td>10</td>\n    </tr>\n    <tr>\n      <th>2</th>\n      <td>10.1155/2019/8391924</td>\n      <td>4</td>\n    </tr>\n    <tr>\n      <th>3</th>\n      <td>10.1002/pssa.201900894</td>\n      <td>11</td>\n    </tr>\n    <tr>\n      <th>4</th>\n      <td>10.1063/1.5126195</td>\n      <td>5</td>\n    </tr>\n  </tbody>\n</table>\n</div>"
     },
     "execution_count": 6,
     "metadata": {},
     "output_type": "execute_result"
    }
   ],
   "source": [
    "ar['authors_count'] = ar['AU'].apply(lambda x: len(x.split('; ')))\n",
    "ar[['DI', 'authors_count']].head()"
   ],
   "metadata": {
    "collapsed": false,
    "pycharm": {
     "name": "#%%\n"
    }
   }
  },
  {
   "cell_type": "code",
   "execution_count": 7,
   "outputs": [
    {
     "data": {
      "text/plain": "                           DI  authors_count\n0   10.1016/j.jco.2018.04.001              2\n1  10.1016/j.jocs.2019.05.005              7\n2  10.1007/s10588-018-09281-2              4\n3    10.1109/TIT.2018.2866879              4\n4                         NaN              4",
      "text/html": "<div>\n<style scoped>\n    .dataframe tbody tr th:only-of-type {\n        vertical-align: middle;\n    }\n\n    .dataframe tbody tr th {\n        vertical-align: top;\n    }\n\n    .dataframe thead th {\n        text-align: right;\n    }\n</style>\n<table border=\"1\" class=\"dataframe\">\n  <thead>\n    <tr style=\"text-align: right;\">\n      <th></th>\n      <th>DI</th>\n      <th>authors_count</th>\n    </tr>\n  </thead>\n  <tbody>\n    <tr>\n      <th>0</th>\n      <td>10.1016/j.jco.2018.04.001</td>\n      <td>2</td>\n    </tr>\n    <tr>\n      <th>1</th>\n      <td>10.1016/j.jocs.2019.05.005</td>\n      <td>7</td>\n    </tr>\n    <tr>\n      <th>2</th>\n      <td>10.1007/s10588-018-09281-2</td>\n      <td>4</td>\n    </tr>\n    <tr>\n      <th>3</th>\n      <td>10.1109/TIT.2018.2866879</td>\n      <td>4</td>\n    </tr>\n    <tr>\n      <th>4</th>\n      <td>NaN</td>\n      <td>4</td>\n    </tr>\n  </tbody>\n</table>\n</div>"
     },
     "execution_count": 7,
     "metadata": {},
     "output_type": "execute_result"
    }
   ],
   "source": [
    "it['authors_count'] = it['AU'].apply(lambda x: len(x.split('; ')))\n",
    "it[['DI', 'authors_count']].head()"
   ],
   "metadata": {
    "collapsed": false,
    "pycharm": {
     "name": "#%%\n"
    }
   }
  },
  {
   "cell_type": "markdown",
   "source": [
    "Все ниже используемые вспомогательные функции можно изучить\n",
    "[по ссылке](https://github.com/psalru/analytics/blob/master/2021_07_07_wos_q1_q2_with_fractions/functions.py), а тесты к ним вы увидите\n",
    "[здесь](https://github.com/psalru/analytics/blob/master/2021_07_07_wos_q1_q2_with_fractions/tests.py)\n",
    "\n",
    "Следующим шагом посчитаем общее количество аффилиаций в каждой публикации и запишем их в `affiliation_count` и\n",
    "сформируем данные, которые нам нужны для фракционного счёта `my_affiliation_data`. **Важно**, что при подсчёте\n",
    "аффилиаций не считаются дубли, а по исследуемому университету происходят объединения даже по разным написаниям\n",
    "организации."
   ],
   "metadata": {
    "collapsed": false,
    "pycharm": {
     "name": "#%% md\n"
    }
   }
  },
  {
   "cell_type": "code",
   "execution_count": 8,
   "outputs": [
    {
     "data": {
      "text/plain": "                             DI  authors_count  affiliation_count\n0   10.1103/PhysRevE.100.062704              4                  3\n1  10.1016/j.apsusc.2019.143756             10                  5\n2          10.1155/2019/8391924              4                  3\n3        10.1002/pssa.201900894             11                  4\n4             10.1063/1.5126195              5                  2",
      "text/html": "<div>\n<style scoped>\n    .dataframe tbody tr th:only-of-type {\n        vertical-align: middle;\n    }\n\n    .dataframe tbody tr th {\n        vertical-align: top;\n    }\n\n    .dataframe thead th {\n        text-align: right;\n    }\n</style>\n<table border=\"1\" class=\"dataframe\">\n  <thead>\n    <tr style=\"text-align: right;\">\n      <th></th>\n      <th>DI</th>\n      <th>authors_count</th>\n      <th>affiliation_count</th>\n    </tr>\n  </thead>\n  <tbody>\n    <tr>\n      <th>0</th>\n      <td>10.1103/PhysRevE.100.062704</td>\n      <td>4</td>\n      <td>3</td>\n    </tr>\n    <tr>\n      <th>1</th>\n      <td>10.1016/j.apsusc.2019.143756</td>\n      <td>10</td>\n      <td>5</td>\n    </tr>\n    <tr>\n      <th>2</th>\n      <td>10.1155/2019/8391924</td>\n      <td>4</td>\n      <td>3</td>\n    </tr>\n    <tr>\n      <th>3</th>\n      <td>10.1002/pssa.201900894</td>\n      <td>11</td>\n      <td>4</td>\n    </tr>\n    <tr>\n      <th>4</th>\n      <td>10.1063/1.5126195</td>\n      <td>5</td>\n      <td>2</td>\n    </tr>\n  </tbody>\n</table>\n</div>"
     },
     "execution_count": 8,
     "metadata": {},
     "output_type": "execute_result"
    }
   ],
   "source": [
    "ar['affiliation_count'] = ar['C1'].apply(lambda x: get_affiliation_count(x, itmo_names.unique()))\n",
    "ar['my_affiliation_data'] = ar['C1'].apply(lambda x: get_my_affiliation_data(x, itmo_names.unique()))\n",
    "ar[['DI', 'authors_count', 'affiliation_count']].head()"
   ],
   "metadata": {
    "collapsed": false,
    "pycharm": {
     "name": "#%%\n"
    }
   }
  },
  {
   "cell_type": "code",
   "execution_count": 9,
   "outputs": [
    {
     "data": {
      "text/plain": "                           DI  authors_count  affiliation_count  \\\n0   10.1016/j.jco.2018.04.001              2                  3   \n1  10.1016/j.jocs.2019.05.005              7                  7   \n2  10.1007/s10588-018-09281-2              4                  3   \n3    10.1109/TIT.2018.2866879              4                  2   \n4                         NaN              4                  4   \n\n                                 my_affiliation_data  \n0  {'packages': [{'name': 'ITMO Univ', 'authors':...  \n1  {'packages': [{'name': 'ITMO Univ', 'authors':...  \n2  {'packages': [{'name': 'ITMO Univ', 'authors':...  \n3  {'packages': [{'name': 'St Petersburg Natl Res...  \n4  {'packages': [{'name': 'ITMO Univ', 'authors':...  ",
      "text/html": "<div>\n<style scoped>\n    .dataframe tbody tr th:only-of-type {\n        vertical-align: middle;\n    }\n\n    .dataframe tbody tr th {\n        vertical-align: top;\n    }\n\n    .dataframe thead th {\n        text-align: right;\n    }\n</style>\n<table border=\"1\" class=\"dataframe\">\n  <thead>\n    <tr style=\"text-align: right;\">\n      <th></th>\n      <th>DI</th>\n      <th>authors_count</th>\n      <th>affiliation_count</th>\n      <th>my_affiliation_data</th>\n    </tr>\n  </thead>\n  <tbody>\n    <tr>\n      <th>0</th>\n      <td>10.1016/j.jco.2018.04.001</td>\n      <td>2</td>\n      <td>3</td>\n      <td>{'packages': [{'name': 'ITMO Univ', 'authors':...</td>\n    </tr>\n    <tr>\n      <th>1</th>\n      <td>10.1016/j.jocs.2019.05.005</td>\n      <td>7</td>\n      <td>7</td>\n      <td>{'packages': [{'name': 'ITMO Univ', 'authors':...</td>\n    </tr>\n    <tr>\n      <th>2</th>\n      <td>10.1007/s10588-018-09281-2</td>\n      <td>4</td>\n      <td>3</td>\n      <td>{'packages': [{'name': 'ITMO Univ', 'authors':...</td>\n    </tr>\n    <tr>\n      <th>3</th>\n      <td>10.1109/TIT.2018.2866879</td>\n      <td>4</td>\n      <td>2</td>\n      <td>{'packages': [{'name': 'St Petersburg Natl Res...</td>\n    </tr>\n    <tr>\n      <th>4</th>\n      <td>NaN</td>\n      <td>4</td>\n      <td>4</td>\n      <td>{'packages': [{'name': 'ITMO Univ', 'authors':...</td>\n    </tr>\n  </tbody>\n</table>\n</div>"
     },
     "execution_count": 9,
     "metadata": {},
     "output_type": "execute_result"
    }
   ],
   "source": [
    "it['affiliation_count'] = it['C1'].apply(lambda x: get_affiliation_count(x, itmo_names.unique()))\n",
    "it['my_affiliation_data'] = it['C1'].apply(lambda x: get_my_affiliation_data(x, itmo_names.unique()))\n",
    "it[['DI', 'authors_count', 'affiliation_count', 'my_affiliation_data']].head()"
   ],
   "metadata": {
    "collapsed": false,
    "pycharm": {
     "name": "#%%\n"
    }
   }
  },
  {
   "cell_type": "markdown",
   "source": [
    "Теперь можно посчитать фракционность статей и записать их в `fraction`."
   ],
   "metadata": {
    "collapsed": false,
    "pycharm": {
     "name": "#%% md\n"
    }
   }
  },
  {
   "cell_type": "code",
   "execution_count": 10,
   "outputs": [
    {
     "data": {
      "text/plain": "                             DI  authors_count  affiliation_count  \\\n0   10.1103/PhysRevE.100.062704              4                  3   \n1  10.1016/j.apsusc.2019.143756             10                  5   \n2          10.1155/2019/8391924              4                  3   \n3        10.1002/pssa.201900894             11                  4   \n4             10.1063/1.5126195              5                  2   \n\n                                 my_affiliation_data  fraction  \n0  {'packages': [{'name': 'ITMO Univ', 'authors':...  0.375000  \n1  {'packages': [{'name': 'ITMO Univ', 'authors':...  0.150000  \n2  {'packages': [{'name': 'ITMO Univ', 'authors':...  0.250000  \n3  {'packages': [{'name': 'ITMO Univ', 'authors':...  0.287879  \n4  {'packages': [{'name': 'ITMO Univ', 'authors':...  0.600000  ",
      "text/html": "<div>\n<style scoped>\n    .dataframe tbody tr th:only-of-type {\n        vertical-align: middle;\n    }\n\n    .dataframe tbody tr th {\n        vertical-align: top;\n    }\n\n    .dataframe thead th {\n        text-align: right;\n    }\n</style>\n<table border=\"1\" class=\"dataframe\">\n  <thead>\n    <tr style=\"text-align: right;\">\n      <th></th>\n      <th>DI</th>\n      <th>authors_count</th>\n      <th>affiliation_count</th>\n      <th>my_affiliation_data</th>\n      <th>fraction</th>\n    </tr>\n  </thead>\n  <tbody>\n    <tr>\n      <th>0</th>\n      <td>10.1103/PhysRevE.100.062704</td>\n      <td>4</td>\n      <td>3</td>\n      <td>{'packages': [{'name': 'ITMO Univ', 'authors':...</td>\n      <td>0.375000</td>\n    </tr>\n    <tr>\n      <th>1</th>\n      <td>10.1016/j.apsusc.2019.143756</td>\n      <td>10</td>\n      <td>5</td>\n      <td>{'packages': [{'name': 'ITMO Univ', 'authors':...</td>\n      <td>0.150000</td>\n    </tr>\n    <tr>\n      <th>2</th>\n      <td>10.1155/2019/8391924</td>\n      <td>4</td>\n      <td>3</td>\n      <td>{'packages': [{'name': 'ITMO Univ', 'authors':...</td>\n      <td>0.250000</td>\n    </tr>\n    <tr>\n      <th>3</th>\n      <td>10.1002/pssa.201900894</td>\n      <td>11</td>\n      <td>4</td>\n      <td>{'packages': [{'name': 'ITMO Univ', 'authors':...</td>\n      <td>0.287879</td>\n    </tr>\n    <tr>\n      <th>4</th>\n      <td>10.1063/1.5126195</td>\n      <td>5</td>\n      <td>2</td>\n      <td>{'packages': [{'name': 'ITMO Univ', 'authors':...</td>\n      <td>0.600000</td>\n    </tr>\n  </tbody>\n</table>\n</div>"
     },
     "execution_count": 10,
     "metadata": {},
     "output_type": "execute_result"
    }
   ],
   "source": [
    "ar['fraction'] = ar.apply(lambda x: get_faction(x), axis=1)\n",
    "ar[['DI', 'authors_count', 'affiliation_count', 'my_affiliation_data', 'fraction']].head()"
   ],
   "metadata": {
    "collapsed": false,
    "pycharm": {
     "name": "#%%\n"
    }
   }
  },
  {
   "cell_type": "code",
   "execution_count": 11,
   "outputs": [
    {
     "data": {
      "text/plain": "                           DI  authors_count  affiliation_count  \\\n0   10.1016/j.jco.2018.04.001              2                  3   \n1  10.1016/j.jocs.2019.05.005              7                  7   \n2  10.1007/s10588-018-09281-2              4                  3   \n3    10.1109/TIT.2018.2866879              4                  2   \n4                         NaN              4                  4   \n\n                                 my_affiliation_data  fraction  \n0  {'packages': [{'name': 'ITMO Univ', 'authors':...  0.250000  \n1  {'packages': [{'name': 'ITMO Univ', 'authors':...  0.261905  \n2  {'packages': [{'name': 'ITMO Univ', 'authors':...  0.250000  \n3  {'packages': [{'name': 'St Petersburg Natl Res...  0.500000  \n4  {'packages': [{'name': 'ITMO Univ', 'authors':...  0.125000  ",
      "text/html": "<div>\n<style scoped>\n    .dataframe tbody tr th:only-of-type {\n        vertical-align: middle;\n    }\n\n    .dataframe tbody tr th {\n        vertical-align: top;\n    }\n\n    .dataframe thead th {\n        text-align: right;\n    }\n</style>\n<table border=\"1\" class=\"dataframe\">\n  <thead>\n    <tr style=\"text-align: right;\">\n      <th></th>\n      <th>DI</th>\n      <th>authors_count</th>\n      <th>affiliation_count</th>\n      <th>my_affiliation_data</th>\n      <th>fraction</th>\n    </tr>\n  </thead>\n  <tbody>\n    <tr>\n      <th>0</th>\n      <td>10.1016/j.jco.2018.04.001</td>\n      <td>2</td>\n      <td>3</td>\n      <td>{'packages': [{'name': 'ITMO Univ', 'authors':...</td>\n      <td>0.250000</td>\n    </tr>\n    <tr>\n      <th>1</th>\n      <td>10.1016/j.jocs.2019.05.005</td>\n      <td>7</td>\n      <td>7</td>\n      <td>{'packages': [{'name': 'ITMO Univ', 'authors':...</td>\n      <td>0.261905</td>\n    </tr>\n    <tr>\n      <th>2</th>\n      <td>10.1007/s10588-018-09281-2</td>\n      <td>4</td>\n      <td>3</td>\n      <td>{'packages': [{'name': 'ITMO Univ', 'authors':...</td>\n      <td>0.250000</td>\n    </tr>\n    <tr>\n      <th>3</th>\n      <td>10.1109/TIT.2018.2866879</td>\n      <td>4</td>\n      <td>2</td>\n      <td>{'packages': [{'name': 'St Petersburg Natl Res...</td>\n      <td>0.500000</td>\n    </tr>\n    <tr>\n      <th>4</th>\n      <td>NaN</td>\n      <td>4</td>\n      <td>4</td>\n      <td>{'packages': [{'name': 'ITMO Univ', 'authors':...</td>\n      <td>0.125000</td>\n    </tr>\n  </tbody>\n</table>\n</div>"
     },
     "execution_count": 11,
     "metadata": {},
     "output_type": "execute_result"
    }
   ],
   "source": [
    "it['fraction'] = it.apply(lambda x: get_faction(x), axis=1)\n",
    "it[['DI', 'authors_count', 'affiliation_count', 'my_affiliation_data', 'fraction']].head()"
   ],
   "metadata": {
    "collapsed": false,
    "pycharm": {
     "name": "#%%\n"
    }
   }
  },
  {
   "cell_type": "markdown",
   "source": [
    "## Фильтрация данных\n",
    "\n",
    "Фракции посчитаны, но нам ещё нужно отсечь по обоим массивам публикации, которые полностью не удовлетворяют методическим\n",
    "требования, а именно:\n",
    "\n",
    "1. IT-шные Proceedings Paper должны быть из эксклюзивного списка;\n",
    "1. Articles & Reviews должны быть I и II квартиля;\n",
    "\n",
    "Для решения задачи с конференциями я сформировал файл `conferences.csv` с перечислением всех аббревиатур конференций.\n",
    "Давайте попробуем проставить признак `is_good` для конференций на базе данных и этого файла."
   ],
   "metadata": {
    "collapsed": false,
    "pycharm": {
     "name": "#%% md\n"
    }
   }
  },
  {
   "cell_type": "code",
   "execution_count": 12,
   "outputs": [
    {
     "data": {
      "text/plain": "                          DI  authors_count  affiliation_count  fraction\n42  10.1109/ICCVW.2019.00068              8                  2      0.25\n61   10.1145/3299904.3340317              3                  2      0.50",
      "text/html": "<div>\n<style scoped>\n    .dataframe tbody tr th:only-of-type {\n        vertical-align: middle;\n    }\n\n    .dataframe tbody tr th {\n        vertical-align: top;\n    }\n\n    .dataframe thead th {\n        text-align: right;\n    }\n</style>\n<table border=\"1\" class=\"dataframe\">\n  <thead>\n    <tr style=\"text-align: right;\">\n      <th></th>\n      <th>DI</th>\n      <th>authors_count</th>\n      <th>affiliation_count</th>\n      <th>fraction</th>\n    </tr>\n  </thead>\n  <tbody>\n    <tr>\n      <th>42</th>\n      <td>10.1109/ICCVW.2019.00068</td>\n      <td>8</td>\n      <td>2</td>\n      <td>0.25</td>\n    </tr>\n    <tr>\n      <th>61</th>\n      <td>10.1145/3299904.3340317</td>\n      <td>3</td>\n      <td>2</td>\n      <td>0.50</td>\n    </tr>\n  </tbody>\n</table>\n</div>"
     },
     "execution_count": 12,
     "metadata": {},
     "output_type": "execute_result"
    }
   ],
   "source": [
    "conferences = pd.read_csv('data/conferences.csv', header=None, squeeze=True)\n",
    "\n",
    "it['is_good'] = it['CT'].apply(lambda x: is_good_conf(x, conferences.unique()))\n",
    "it[it['is_good']][['DI', 'authors_count', 'affiliation_count', 'fraction']].head()"
   ],
   "metadata": {
    "collapsed": false,
    "pycharm": {
     "name": "#%%\n"
    }
   }
  },
  {
   "cell_type": "markdown",
   "source": [
    "На выходе получилось только 2 Proceedings Paper, которые удовлетворяют условиям.\n",
    "\n",
    "Перейдём теперь к проставлению `is_good` в Articles & Reviews. Для этого для начала затащим в данные квартили."
   ],
   "metadata": {
    "collapsed": false,
    "pycharm": {
     "name": "#%% md\n"
    }
   }
  },
  {
   "cell_type": "code",
   "execution_count": 13,
   "outputs": [
    {
     "data": {
      "text/plain": "                              DI  authors_count  affiliation_count  fraction  \\\n0    10.1103/PhysRevE.100.062704              4                  3  0.375000   \n1   10.1016/j.apsusc.2019.143756             10                  5  0.150000   \n2           10.1155/2019/8391924              4                  3  0.250000   \n3         10.1002/pssa.201900894             11                  4  0.287879   \n4              10.1063/1.5126195              5                  2  0.600000   \n5       10.1021/acsomega.9b03036              8                  4  0.125000   \n6    10.1103/PhysRevB.100.235444              5                  5  0.566667   \n7              10.1063/1.5129207             15                 11  0.100000   \n8  10.1080/1536383X.2019.1697684              7                  3  0.142857   \n9               10.1002/rnc.4861              4                  6  0.125000   \n\n  quartile  is_good  \n0       Q1     True  \n1       Q1     True  \n2      NaN    False  \n3      NaN    False  \n4       Q2     True  \n5       Q2     True  \n6       Q2     True  \n7       Q2     True  \n8      NaN    False  \n9       Q1     True  ",
      "text/html": "<div>\n<style scoped>\n    .dataframe tbody tr th:only-of-type {\n        vertical-align: middle;\n    }\n\n    .dataframe tbody tr th {\n        vertical-align: top;\n    }\n\n    .dataframe thead th {\n        text-align: right;\n    }\n</style>\n<table border=\"1\" class=\"dataframe\">\n  <thead>\n    <tr style=\"text-align: right;\">\n      <th></th>\n      <th>DI</th>\n      <th>authors_count</th>\n      <th>affiliation_count</th>\n      <th>fraction</th>\n      <th>quartile</th>\n      <th>is_good</th>\n    </tr>\n  </thead>\n  <tbody>\n    <tr>\n      <th>0</th>\n      <td>10.1103/PhysRevE.100.062704</td>\n      <td>4</td>\n      <td>3</td>\n      <td>0.375000</td>\n      <td>Q1</td>\n      <td>True</td>\n    </tr>\n    <tr>\n      <th>1</th>\n      <td>10.1016/j.apsusc.2019.143756</td>\n      <td>10</td>\n      <td>5</td>\n      <td>0.150000</td>\n      <td>Q1</td>\n      <td>True</td>\n    </tr>\n    <tr>\n      <th>2</th>\n      <td>10.1155/2019/8391924</td>\n      <td>4</td>\n      <td>3</td>\n      <td>0.250000</td>\n      <td>NaN</td>\n      <td>False</td>\n    </tr>\n    <tr>\n      <th>3</th>\n      <td>10.1002/pssa.201900894</td>\n      <td>11</td>\n      <td>4</td>\n      <td>0.287879</td>\n      <td>NaN</td>\n      <td>False</td>\n    </tr>\n    <tr>\n      <th>4</th>\n      <td>10.1063/1.5126195</td>\n      <td>5</td>\n      <td>2</td>\n      <td>0.600000</td>\n      <td>Q2</td>\n      <td>True</td>\n    </tr>\n    <tr>\n      <th>5</th>\n      <td>10.1021/acsomega.9b03036</td>\n      <td>8</td>\n      <td>4</td>\n      <td>0.125000</td>\n      <td>Q2</td>\n      <td>True</td>\n    </tr>\n    <tr>\n      <th>6</th>\n      <td>10.1103/PhysRevB.100.235444</td>\n      <td>5</td>\n      <td>5</td>\n      <td>0.566667</td>\n      <td>Q2</td>\n      <td>True</td>\n    </tr>\n    <tr>\n      <th>7</th>\n      <td>10.1063/1.5129207</td>\n      <td>15</td>\n      <td>11</td>\n      <td>0.100000</td>\n      <td>Q2</td>\n      <td>True</td>\n    </tr>\n    <tr>\n      <th>8</th>\n      <td>10.1080/1536383X.2019.1697684</td>\n      <td>7</td>\n      <td>3</td>\n      <td>0.142857</td>\n      <td>NaN</td>\n      <td>False</td>\n    </tr>\n    <tr>\n      <th>9</th>\n      <td>10.1002/rnc.4861</td>\n      <td>4</td>\n      <td>6</td>\n      <td>0.125000</td>\n      <td>Q1</td>\n      <td>True</td>\n    </tr>\n  </tbody>\n</table>\n</div>"
     },
     "execution_count": 13,
     "metadata": {},
     "output_type": "execute_result"
    }
   ],
   "source": [
    "issn = ar.merge(wos_quartiles, left_on='SN', right_on='issn', how='left')\n",
    "eissn = ar.merge(wos_quartiles, left_on='EI', right_on='eissn', how='left')\n",
    "issn.update(eissn)\n",
    "ar = issn\n",
    "ar['is_good'] = ar['quartile'].apply(lambda x: (x == 'Q1') | (x == 'Q2'))\n",
    "ar[['DI', 'authors_count', 'affiliation_count', 'fraction', 'quartile', 'is_good']].head(10)"
   ],
   "metadata": {
    "collapsed": false,
    "pycharm": {
     "name": "#%%\n"
    }
   }
  },
  {
   "cell_type": "markdown",
   "source": [
    "В целом мы справились и можно выполнить окончательные расчёты."
   ],
   "metadata": {
    "collapsed": false,
    "pycharm": {
     "name": "#%% md\n"
    }
   }
  },
  {
   "cell_type": "code",
   "execution_count": 14,
   "outputs": [
    {
     "data": {
      "text/plain": "ar_count          1025.000000\nar_good            667.000000\nar_fraction        239.091955\nit_count           234.000000\nit_good              2.000000\nit_fraction          0.750000\nfraction_total     239.841955\ndtype: float64"
     },
     "execution_count": 14,
     "metadata": {},
     "output_type": "execute_result"
    }
   ],
   "source": [
    "pd.Series({\n",
    "    'ar_count': len(ar),\n",
    "    'ar_good': len(ar[ar['is_good']]),\n",
    "    'ar_fraction': ar[ar['is_good']]['fraction'].sum(),\n",
    "    'it_count': len(it),\n",
    "    'it_good': len(it[it['is_good']]),\n",
    "    'it_fraction': it[it['is_good']]['fraction'].sum(),\n",
    "    'fraction_total': ar[ar['is_good']]['fraction'].sum() + it[it['is_good']]['fraction'].sum()\n",
    "})"
   ],
   "metadata": {
    "collapsed": false,
    "pycharm": {
     "name": "#%%\n"
    }
   }
  },
  {
   "cell_type": "markdown",
   "source": [
    "Показатель для ИТМО за 2019 год `fraction_total` и составляет **239.841955**.\n",
    "\n",
    "Если у Вас есть вопросы, а ещё лучше улучшения к данному материалу приглашаю Вас к открытому обсуждению в\n",
    "Телеграм [группе](https://t.me/psalgroup) посвящённой «Приоритету 2030» или ещё лучше, **присылайте свои issues-ы**\n",
    "сразу [в репозиторий](https://github.com/psalru/analytics/issues)."
   ],
   "metadata": {
    "collapsed": false,
    "pycharm": {
     "name": "#%% md\n"
    }
   }
  }
 ],
 "metadata": {
  "kernelspec": {
   "display_name": "Python 3",
   "language": "python",
   "name": "python3"
  },
  "language_info": {
   "codemirror_mode": {
    "name": "ipython",
    "version": 2
   },
   "file_extension": ".py",
   "mimetype": "text/x-python",
   "name": "python",
   "nbconvert_exporter": "python",
   "pygments_lexer": "ipython2",
   "version": "2.7.6"
  }
 },
 "nbformat": 4,
 "nbformat_minor": 0
}