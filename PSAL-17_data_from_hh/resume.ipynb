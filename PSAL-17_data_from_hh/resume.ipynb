{
 "cells": [
  {
   "cell_type": "code",
   "execution_count": 1,
   "outputs": [],
   "source": [
    "import os\n",
    "import json\n",
    "import math\n",
    "import requests\n",
    "import pandas as pd\n",
    "from datetime import datetime\n",
    "from dotenv import load_dotenv\n",
    "import warnings\n",
    "\n",
    "warnings.filterwarnings('ignore')"
   ],
   "metadata": {
    "collapsed": false
   }
  },
  {
   "cell_type": "markdown",
   "source": [
    "# Аналитика по резюме выпускников\n",
    "\n",
    "## Подготовка к работе\n",
    "\n",
    "Вся ниже представленная информация базируется на возможностях предоставляемых [HeadHunter API](https://dev.hh.ru/).\n",
    "\n",
    "До начала работы **важно понимать**, что Вам потребуется аккаунт пользоваться, которые идентифицируется HH как работодатель. Это может быть как корпоративный аккаунт от университета (в рамках HH есть центральный HR-аккаунт, который может регистрировать новых корпоративных пользователей), так и совсем сторонний работодатель, с точки зрения забора данных это не важно. **Дополнительных финансовых вложений не потребуется**, мы будем использовать только данные резюме, которые требуют только авторизации как работодатель.\n",
    "\n",
    "Дополнительно к аккаунту от работодателя Вам потребуется зарегистрировать приложение для работы с API. Авторизуйтесь (зарегистрировать приложение можно под личным аккаунтом на HH, но рекомендую, для порядку, делать это всё из под одной корпоративной учётки) в [личном кабинете разработчика](https://dev.hh.ru/admin) и зарегистрируйте новое приложение. По моему опыту процесс одобрения приложения со стороны HH не превышает одной недели.\n",
    "\n",
    "После регистрации приложения у него появятся следующие реквизиты: `Client ID`, `Client Secret`, `Токен приложения`. Это позволит Вам авторизовать пользователя и получить реквизиты для работы с API. Сам процесс авторизации неплохо описан самим HeadHunter в [статье на Habr-е](https://habr.com/ru/companies/hh/articles/303168/). Обратите внимание, что токен авторизации пользователя имеет время жизни, его придётся периодически обновлять.\n",
    "\n",
    "Надеюсь у Вас **всё получится** по выше описанному!\n",
    "\n",
    "### ID университетов в HH\n",
    "\n",
    "Для поиска ID-шников университетов, которые мы будем использовать для работы с API, вы можете использовать 3 способа:\n",
    "\n",
    "1. [«Ручку» API HH](https://api.hh.ru/openapi/redoc#tag/Podskazki/operation/get-educational-institutions-suggests) для поиска по учебным заведениям. Вот [пример ссылки](https://api.hh.ru/suggests/educational_institutions?text=%D0%98%D0%A2%D0%9C%D0%9E) для поиска «ИТМО»;\n",
    "2. [«Ручку» API psal.ru](https://app.psal.ru/api/university/), с данными об университетах, которые отслеживаются проектом (на момент написания, апрель 2023 года, это университеты входящие в 2 федеральных программы «Приоритет 2030» и «Передовые инженерные школы»);\n",
    "3. Ещё можно воспользоваться [расширенным поиском](https://hh.ru/search/resume/advanced) на самом hh.ru, где есть UI-ки для указания учебного заведения. Вы можете воспользоваться DevTool браузера и при поиске/выборе учебного заведения, забирать необходимое Вам ID университета (см. gif-ку с иллюстрацией).\n",
    "\n",
    "Я буду использовать вариант упомянутый в пункте 2 и для полноты картины остановлюсь на некоторых моментах:\n",
    "\n",
    "1. У университетов есть филиалы, но в используемом API psa.ru используется только ID головных организаций. Пример с [МФТИ](https://api.hh.ru/suggests/educational_institutions?text=%D0%9C%D0%A4%D0%A2%D0%98), как это бывает.\n",
    "2. Данные HH видимо не всегда поспевают за переименованиями университетов, и проходилось отлавливать университеты по старым названиям. Из того с чем столкнулся, при поиске ID-шников: «Уральский государственный медицинский университет» — «Уральская государственная медицинская академия»; «Смоленский государственный медицинский университет» — «Смоленская государственная медицинская академия»; «Тихоокеанский государственный медицинский университет» — «Владивостокский государственный медицинский университет».\n",
    "3. Университеты объединяются, в этом случае в API psa.ru используется ID одной из объединённых организаций, если в данных HH нет ещё нового университета. Конкретный пример — для «Уфимский университет науки и технологий» используется «Башкирского государственного университета».\n",
    "4. По каким-то причинам мне не удалось найти в HH «Университет Иннополис».\n",
    "\n",
    "## Исходные данные об университетах\n",
    "\n",
    "Сформируем таблицу университетов с основными данными и ID для работы с HH API."
   ],
   "metadata": {
    "collapsed": false
   }
  },
  {
   "cell_type": "code",
   "execution_count": 2,
   "outputs": [],
   "source": [
    "# Функция для работы с API https://app.psal.ru/api\n",
    "def get_results_from_api(url, page=1):\n",
    "    results = pd.DataFrame()\n",
    "\n",
    "    resp = requests.get(url + f\"?page={page}\")\n",
    "\n",
    "    if resp.status_code == 200:\n",
    "        json_data = resp.json()\n",
    "        results = pd.concat([results, pd.json_normalize(json_data['results'])], ignore_index=True)\n",
    "\n",
    "        if json_data['next']:\n",
    "            next_page_df = get_results_from_api(url, page + 1)\n",
    "            results = pd.concat([results, next_page_df], ignore_index=True)\n",
    "    else:\n",
    "        return pd.DataFrame()\n",
    "\n",
    "    return results"
   ],
   "metadata": {
    "collapsed": false
   }
  },
  {
   "cell_type": "code",
   "execution_count": 3,
   "outputs": [
    {
     "data": {
      "text/plain": "   id                                        title_short  \\\n0   1             Адыгейский государственный университет   \n1   2              Алтайский государственный университет   \n2   3               Амурский государственный университет   \n3   4           Астраханский государственный университет   \n5   6  Белгородский государственный технологический у...   \n\n           title_display      domain  educational_institution_id  \n0                    АГУ  adygnet.ru                       41900  \n1                  АлтГУ      asu.ru                       41808  \n2                   АмГУ   amursu.ru                       42650  \n3  АГУ им. В.Н. Татищева  asu.edu.ru                       40229  \n5                   БГТУ     bstu.ru                       45479  ",
      "text/html": "<div>\n<style scoped>\n    .dataframe tbody tr th:only-of-type {\n        vertical-align: middle;\n    }\n\n    .dataframe tbody tr th {\n        vertical-align: top;\n    }\n\n    .dataframe thead th {\n        text-align: right;\n    }\n</style>\n<table border=\"1\" class=\"dataframe\">\n  <thead>\n    <tr style=\"text-align: right;\">\n      <th></th>\n      <th>id</th>\n      <th>title_short</th>\n      <th>title_display</th>\n      <th>domain</th>\n      <th>educational_institution_id</th>\n    </tr>\n  </thead>\n  <tbody>\n    <tr>\n      <th>0</th>\n      <td>1</td>\n      <td>Адыгейский государственный университет</td>\n      <td>АГУ</td>\n      <td>adygnet.ru</td>\n      <td>41900</td>\n    </tr>\n    <tr>\n      <th>1</th>\n      <td>2</td>\n      <td>Алтайский государственный университет</td>\n      <td>АлтГУ</td>\n      <td>asu.ru</td>\n      <td>41808</td>\n    </tr>\n    <tr>\n      <th>2</th>\n      <td>3</td>\n      <td>Амурский государственный университет</td>\n      <td>АмГУ</td>\n      <td>amursu.ru</td>\n      <td>42650</td>\n    </tr>\n    <tr>\n      <th>3</th>\n      <td>4</td>\n      <td>Астраханский государственный университет</td>\n      <td>АГУ им. В.Н. Татищева</td>\n      <td>asu.edu.ru</td>\n      <td>40229</td>\n    </tr>\n    <tr>\n      <th>5</th>\n      <td>6</td>\n      <td>Белгородский государственный технологический у...</td>\n      <td>БГТУ</td>\n      <td>bstu.ru</td>\n      <td>45479</td>\n    </tr>\n  </tbody>\n</table>\n</div>"
     },
     "execution_count": 3,
     "metadata": {},
     "output_type": "execute_result"
    }
   ],
   "source": [
    "# Формируем таблицу со списком университетов\n",
    "universities = get_results_from_api('https://app.psal.ru/api/university/')\n",
    "universities = universities[universities['deleted_at'].isnull()]\n",
    "universities = universities.apply(lambda x: pd.concat([\n",
    "    x[list(filter(lambda y: y in ['id', 'title_short', 'title_display', 'domain', 'educational_institution_id'], x.keys()))],\n",
    "    pd.Series({'educational_institution_id': x['hh'][0]['educational_institution_id']})\n",
    "]), axis=1)\n",
    "universities = universities[~universities['educational_institution_id'].isnull()]\n",
    "universities['educational_institution_id'] = universities['educational_institution_id'].astype(int)\n",
    "universities.head(5)"
   ],
   "metadata": {
    "collapsed": false
   }
  },
  {
   "cell_type": "markdown",
   "source": [
    "## Забираем резюме из HH по нашим университетам\n",
    "\n",
    "Для начала настроим всё, что нам понадобится дла работы с HH API."
   ],
   "metadata": {
    "collapsed": false
   }
  },
  {
   "cell_type": "code",
   "execution_count": 4,
   "outputs": [],
   "source": [
    "load_dotenv('../.env')\n",
    "access_token = os.getenv('HH_ACCESS_TOKEN_USER')\n",
    "session = requests.session()\n",
    "session.headers.update({'Authorization': f\"Bearer {os.getenv('HH_ACCESS_TOKEN_USER')}\"})\n",
    "# Расшифровка GET-параметров в запросе\n",
    "# area - регион поиска (113 - вся Россия)\n",
    "# educational_institution - id-конкретного университета\n",
    "# job_search_status - кандидаты находятся в активном поиске\n",
    "# relocation - живут или готовы к релокации из региона\n",
    "# order_by - сортируем по ожидаемой заработной плате\n",
    "# period - 1 день (ниже см. почему выбран именно такой период)\n",
    "# per_page - кол-во результатов на странице ответа\n",
    "# page - номер страницы в выдаче\n",
    "# text - возможность поиска по текстам вакансии, но мы её игнорируем\n",
    "search_query = '''\n",
    "/resumes?\n",
    "area=113\n",
    "&educational_institution={edu_inst_id}\n",
    "&job_search_status=active_search\n",
    "&relocation=living_or_relocation\n",
    "&order_by=salary_desc\n",
    "&period=1\n",
    "&per_page={per_page}\n",
    "&page={page}\n",
    "&text=\n",
    "'''.replace('\\n', '')\n",
    "\n",
    "# Функция для работы с API HH\n",
    "def get_data(edu_inst_id, page=0, per_page=100) -> list:\n",
    "    url = f\"https://api.hh.ru{search_query.format(edu_inst_id=edu_inst_id, per_page=per_page, page=page)}\"\n",
    "    resp = session.get(url)\n",
    "    resumes = []\n",
    "\n",
    "    if resp.status_code == 200:\n",
    "        json_data = resp.json()\n",
    "        total = json_data['found']\n",
    "        count_of_page = math.ceil(total / per_page)\n",
    "        resumes += json_data['items']\n",
    "\n",
    "        if count_of_page != page + 1:\n",
    "            resumes += get_data(edu_inst_id, page + 1)\n",
    "    else:\n",
    "        print(f'{url} returned status code {resp.status_code}')\n",
    "\n",
    "    return resumes"
   ],
   "metadata": {
    "collapsed": false
   }
  },
  {
   "cell_type": "markdown",
   "source": [
    "Далее сходим в API и сохраним результаты по каждому университету в отдельный json-файл. Потребуется временя, процесс можно отслеживать в папке `data/json_from_hh_api/`, куда сохраняются результирующие json-чики. В конце посмотрим ТОП-10 университетов по количеству резюме их выпускников на данный момент."
   ],
   "metadata": {
    "collapsed": false
   }
  },
  {
   "cell_type": "code",
   "execution_count": 5,
   "outputs": [
    {
     "name": "stdout",
     "output_type": "stream",
     "text": [
      "https://api.hh.ru/resumes?area=113&educational_institution=42253&job_search_status=active_search&relocation=living_or_relocation&order_by=salary_desc&period=1&per_page=100&page=20&text= returned status code 400\n",
      "https://api.hh.ru/resumes?area=113&educational_institution=43555&job_search_status=active_search&relocation=living_or_relocation&order_by=salary_desc&period=1&per_page=100&page=20&text= returned status code 400\n"
     ]
    },
    {
     "data": {
      "text/plain": "              title_display  educational_institution_id  resume_count  \\\n109                 РАНХиГС                       39639           843   \n107                     ВШЭ                       39307           568   \n43   РЭУ им. Г.В. Плеханова                       38958           563   \n51                    СПбПУ                       39765           416   \n72                     УРФУ                       43473           416   \n25    МГТУ им. Н.Э. Баумана                       38921           399   \n46                     РУДН                       39271           387   \n87               РУТ (МИИТ)                       39532           337   \n29                     МПГУ                       39337           332   \n81                     КФУ                        43555           300   \n\n                  file_path  \n109  data/resume/39639.json  \n107  data/resume/39307.json  \n43   data/resume/38958.json  \n51   data/resume/39765.json  \n72   data/resume/43473.json  \n25   data/resume/38921.json  \n46   data/resume/39271.json  \n87   data/resume/39532.json  \n29   data/resume/39337.json  \n81   data/resume/43555.json  ",
      "text/html": "<div>\n<style scoped>\n    .dataframe tbody tr th:only-of-type {\n        vertical-align: middle;\n    }\n\n    .dataframe tbody tr th {\n        vertical-align: top;\n    }\n\n    .dataframe thead th {\n        text-align: right;\n    }\n</style>\n<table border=\"1\" class=\"dataframe\">\n  <thead>\n    <tr style=\"text-align: right;\">\n      <th></th>\n      <th>title_display</th>\n      <th>educational_institution_id</th>\n      <th>resume_count</th>\n      <th>file_path</th>\n    </tr>\n  </thead>\n  <tbody>\n    <tr>\n      <th>109</th>\n      <td>РАНХиГС</td>\n      <td>39639</td>\n      <td>843</td>\n      <td>data/resume/39639.json</td>\n    </tr>\n    <tr>\n      <th>107</th>\n      <td>ВШЭ</td>\n      <td>39307</td>\n      <td>568</td>\n      <td>data/resume/39307.json</td>\n    </tr>\n    <tr>\n      <th>43</th>\n      <td>РЭУ им. Г.В. Плеханова</td>\n      <td>38958</td>\n      <td>563</td>\n      <td>data/resume/38958.json</td>\n    </tr>\n    <tr>\n      <th>51</th>\n      <td>СПбПУ</td>\n      <td>39765</td>\n      <td>416</td>\n      <td>data/resume/39765.json</td>\n    </tr>\n    <tr>\n      <th>72</th>\n      <td>УРФУ</td>\n      <td>43473</td>\n      <td>416</td>\n      <td>data/resume/43473.json</td>\n    </tr>\n    <tr>\n      <th>25</th>\n      <td>МГТУ им. Н.Э. Баумана</td>\n      <td>38921</td>\n      <td>399</td>\n      <td>data/resume/38921.json</td>\n    </tr>\n    <tr>\n      <th>46</th>\n      <td>РУДН</td>\n      <td>39271</td>\n      <td>387</td>\n      <td>data/resume/39271.json</td>\n    </tr>\n    <tr>\n      <th>87</th>\n      <td>РУТ (МИИТ)</td>\n      <td>39532</td>\n      <td>337</td>\n      <td>data/resume/39532.json</td>\n    </tr>\n    <tr>\n      <th>29</th>\n      <td>МПГУ</td>\n      <td>39337</td>\n      <td>332</td>\n      <td>data/resume/39337.json</td>\n    </tr>\n    <tr>\n      <th>81</th>\n      <td>КФУ</td>\n      <td>43555</td>\n      <td>300</td>\n      <td>data/resume/43555.json</td>\n    </tr>\n  </tbody>\n</table>\n</div>"
     },
     "execution_count": 5,
     "metadata": {},
     "output_type": "execute_result"
    }
   ],
   "source": [
    "resume_by_universities = pd.DataFrame()\n",
    "\n",
    "for i, u in universities.iterrows():\n",
    "    educational_institution_id = u['educational_institution_id']\n",
    "    university_title = u['title_display']\n",
    "    resume_by_university = get_data(educational_institution_id)\n",
    "    file_path = f\"data/resume/{educational_institution_id}.json\"\n",
    "\n",
    "    with open(file_path, 'w') as f:\n",
    "        json.dump(resume_by_university, f, ensure_ascii=False, indent=4)\n",
    "\n",
    "    resume_by_universities = pd.concat([resume_by_universities, pd.DataFrame([{\n",
    "        'title_display': u['title_display'],\n",
    "        'educational_institution_id': educational_institution_id,\n",
    "        'resume_count': len(resume_by_university),\n",
    "        'file_path': file_path\n",
    "    }])], ignore_index=True)\n",
    "\n",
    "resume_by_universities.sort_values(by='resume_count', ascending=False).head(10)"
   ],
   "metadata": {
    "collapsed": false
   }
  },
  {
   "cell_type": "markdown",
   "source": [
    "## Работа с полученными данными\n",
    "\n",
    "Отдельно **обращу внимание**, что, например, выпускники РАНХиГС генерят за 1 день, около 1 тыс. резюме. При этом у HH есть ограничение в 2 тыс. записей, который они отдают по запросу (это касается как API, так и UI-ек на их сайте). По этим причинам в данном примере и используется 1 день в GET-параметре `period`, чтобы влезть в это ограничение и ничего не упустить.\n",
    "\n",
    "Теперь на нескольких примерах пробежимся по 🤩 **впечатляющему объёму данных**, которые у нас получились. Очень надеюсь, что аналитики университетов зацепятся за эту возможность и попробуют более глубоко изучить своих выпускников.\n",
    "\n",
    "Для начало соберём всё в один dataframe и отобразим получившееся кол-во строк:"
   ],
   "metadata": {
    "collapsed": false
   }
  },
  {
   "cell_type": "code",
   "execution_count": 6,
   "outputs": [
    {
     "data": {
      "text/plain": "17144"
     },
     "execution_count": 6,
     "metadata": {},
     "output_type": "execute_result"
    }
   ],
   "source": [
    "all_resume = pd.DataFrame()\n",
    "\n",
    "for i, u in resume_by_universities.iterrows():\n",
    "    json_by_university = json.load(open(u['file_path'], 'r'))\n",
    "    df_by_university = pd.json_normalize(json_by_university)\n",
    "    df_by_university['title_display'] = u['title_display']\n",
    "    all_resume = pd.concat([all_resume, df_by_university], ignore_index=True)\n",
    "\n",
    "len(all_resume)"
   ],
   "metadata": {
    "collapsed": false
   }
  },
  {
   "cell_type": "markdown",
   "source": [
    "### Заработные платы выпускников\n",
    "\n",
    "Самое очевидное это **заработная плата** и просто для примера, выстроим университеты по медиане ожидаемой заработной платы выпускников. Оговорюсь, что реальной ценности такого подхода «в лоб» нет или он даже вредный, т.к. построения рейтинга нужно учитывать региональность, область полученного образования и ещё ряд факторов, для обзора возможности данных сойдёт 👌"
   ],
   "metadata": {
    "collapsed": false
   }
  },
  {
   "cell_type": "code",
   "execution_count": 7,
   "outputs": [
    {
     "data": {
      "text/plain": "                       salary.amount\ntitle_display                       \nМФТИ                        150000.0\nМГИМО                       120000.0\nРАМ им. Гнесиных            111500.0\nНИУ МГСУ                    110000.0\nТГМУ                        110000.0\nУГНТУ                       100000.0\nВШЭ                         100000.0\nМИРЭА                       100000.0\nМГТУ им. Н.Э. Баумана       100000.0\nНИУ МЭИ                     100000.0",
      "text/html": "<div>\n<style scoped>\n    .dataframe tbody tr th:only-of-type {\n        vertical-align: middle;\n    }\n\n    .dataframe tbody tr th {\n        vertical-align: top;\n    }\n\n    .dataframe thead th {\n        text-align: right;\n    }\n</style>\n<table border=\"1\" class=\"dataframe\">\n  <thead>\n    <tr style=\"text-align: right;\">\n      <th></th>\n      <th>salary.amount</th>\n    </tr>\n    <tr>\n      <th>title_display</th>\n      <th></th>\n    </tr>\n  </thead>\n  <tbody>\n    <tr>\n      <th>МФТИ</th>\n      <td>150000.0</td>\n    </tr>\n    <tr>\n      <th>МГИМО</th>\n      <td>120000.0</td>\n    </tr>\n    <tr>\n      <th>РАМ им. Гнесиных</th>\n      <td>111500.0</td>\n    </tr>\n    <tr>\n      <th>НИУ МГСУ</th>\n      <td>110000.0</td>\n    </tr>\n    <tr>\n      <th>ТГМУ</th>\n      <td>110000.0</td>\n    </tr>\n    <tr>\n      <th>УГНТУ</th>\n      <td>100000.0</td>\n    </tr>\n    <tr>\n      <th>ВШЭ</th>\n      <td>100000.0</td>\n    </tr>\n    <tr>\n      <th>МИРЭА</th>\n      <td>100000.0</td>\n    </tr>\n    <tr>\n      <th>МГТУ им. Н.Э. Баумана</th>\n      <td>100000.0</td>\n    </tr>\n    <tr>\n      <th>НИУ МЭИ</th>\n      <td>100000.0</td>\n    </tr>\n  </tbody>\n</table>\n</div>"
     },
     "execution_count": 7,
     "metadata": {},
     "output_type": "execute_result"
    }
   ],
   "source": [
    "all_resume[\n",
    "    # Используем только заработные платы в рублях (лень было пересчитывать валюты 🤷‍♂️)\n",
    "    (all_resume['salary.currency'] == 'RUR') &\n",
    "    # Исключаем резюме без заработной платы\n",
    "    (~all_resume['salary.amount'].isnull()) &\n",
    "    # Смотрим только резюме с ЗП выше или равно МРОТ (на апрель 2023 г.)\n",
    "    (all_resume['salary.amount'] >= 13890)\n",
    "][['title_display', 'salary.amount']].groupby(by='title_display').median().sort_values(by='salary.amount', ascending=False).head(10)"
   ],
   "metadata": {
    "collapsed": false
   }
  },
  {
   "cell_type": "markdown",
   "source": [
    "### Количество образований в резюме\n",
    "\n",
    "Резюме отобраны по факту вхождения одного из университетов в список образовательных организаций, которые указаны в резюме, т.е. конкретный университет из нашего списка, может и бывает далеко не единственный и на этой базе прям многое можно выжать.\n",
    "\n",
    "Начнём с банального рейтинга университетов по средней длине списка образовательных организаций, в которые они входят (выводим ТОП-10)."
   ],
   "metadata": {
    "collapsed": false
   }
  },
  {
   "cell_type": "code",
   "execution_count": 8,
   "outputs": [
    {
     "data": {
      "text/plain": "               edu_count\ntitle_display           \nПИМУ            2.555556\nВМА             2.500000\nМГМСУ           2.370968\nРНИМУ           2.362069\nПСПбГМУ         2.310345\nМГППУ           2.275862\nРАНХиГС         2.265718\nМГИМО           2.237500\nБГМУ            2.185185\nВШЭ             2.181338",
      "text/html": "<div>\n<style scoped>\n    .dataframe tbody tr th:only-of-type {\n        vertical-align: middle;\n    }\n\n    .dataframe tbody tr th {\n        vertical-align: top;\n    }\n\n    .dataframe thead th {\n        text-align: right;\n    }\n</style>\n<table border=\"1\" class=\"dataframe\">\n  <thead>\n    <tr style=\"text-align: right;\">\n      <th></th>\n      <th>edu_count</th>\n    </tr>\n    <tr>\n      <th>title_display</th>\n      <th></th>\n    </tr>\n  </thead>\n  <tbody>\n    <tr>\n      <th>ПИМУ</th>\n      <td>2.555556</td>\n    </tr>\n    <tr>\n      <th>ВМА</th>\n      <td>2.500000</td>\n    </tr>\n    <tr>\n      <th>МГМСУ</th>\n      <td>2.370968</td>\n    </tr>\n    <tr>\n      <th>РНИМУ</th>\n      <td>2.362069</td>\n    </tr>\n    <tr>\n      <th>ПСПбГМУ</th>\n      <td>2.310345</td>\n    </tr>\n    <tr>\n      <th>МГППУ</th>\n      <td>2.275862</td>\n    </tr>\n    <tr>\n      <th>РАНХиГС</th>\n      <td>2.265718</td>\n    </tr>\n    <tr>\n      <th>МГИМО</th>\n      <td>2.237500</td>\n    </tr>\n    <tr>\n      <th>БГМУ</th>\n      <td>2.185185</td>\n    </tr>\n    <tr>\n      <th>ВШЭ</th>\n      <td>2.181338</td>\n    </tr>\n  </tbody>\n</table>\n</div>"
     },
     "execution_count": 8,
     "metadata": {},
     "output_type": "execute_result"
    }
   ],
   "source": [
    "all_resume['edu_count'] = all_resume['education.primary'].apply(lambda x: len(x))\n",
    "all_resume[['title_display', 'edu_count']].groupby(by='title_display').mean().sort_values(by='edu_count', ascending=False).head(10)"
   ],
   "metadata": {
    "collapsed": false
   }
  },
  {
   "cell_type": "markdown",
   "source": [
    "### Резюме обучающихся\n",
    "\n",
    "Данные позволяют нам отсеять из общей массы резюме обучающихся и посмотреть, например, сколько их (выведем ТОП-10 по количеству):"
   ],
   "metadata": {
    "collapsed": false
   }
  },
  {
   "cell_type": "code",
   "execution_count": 9,
   "outputs": [
    {
     "data": {
      "text/plain": "                       is_student\ntitle_display                    \nВШЭ                            57\nРАНХиГС                        51\nМГТУ им. Н.Э. Баумана          38\nСПбПУ                          34\nУРФУ                           32\nКФУ                            31\nРУДН                           28\nИТМО                           24\nРУТ (МИИТ)                     22\nСПбГУПТД                       21",
      "text/html": "<div>\n<style scoped>\n    .dataframe tbody tr th:only-of-type {\n        vertical-align: middle;\n    }\n\n    .dataframe tbody tr th {\n        vertical-align: top;\n    }\n\n    .dataframe thead th {\n        text-align: right;\n    }\n</style>\n<table border=\"1\" class=\"dataframe\">\n  <thead>\n    <tr style=\"text-align: right;\">\n      <th></th>\n      <th>is_student</th>\n    </tr>\n    <tr>\n      <th>title_display</th>\n      <th></th>\n    </tr>\n  </thead>\n  <tbody>\n    <tr>\n      <th>ВШЭ</th>\n      <td>57</td>\n    </tr>\n    <tr>\n      <th>РАНХиГС</th>\n      <td>51</td>\n    </tr>\n    <tr>\n      <th>МГТУ им. Н.Э. Баумана</th>\n      <td>38</td>\n    </tr>\n    <tr>\n      <th>СПбПУ</th>\n      <td>34</td>\n    </tr>\n    <tr>\n      <th>УРФУ</th>\n      <td>32</td>\n    </tr>\n    <tr>\n      <th>КФУ</th>\n      <td>31</td>\n    </tr>\n    <tr>\n      <th>РУДН</th>\n      <td>28</td>\n    </tr>\n    <tr>\n      <th>ИТМО</th>\n      <td>24</td>\n    </tr>\n    <tr>\n      <th>РУТ (МИИТ)</th>\n      <td>22</td>\n    </tr>\n    <tr>\n      <th>СПбГУПТД</th>\n      <td>21</td>\n    </tr>\n  </tbody>\n</table>\n</div>"
     },
     "execution_count": 9,
     "metadata": {},
     "output_type": "execute_result"
    }
   ],
   "source": [
    "all_resume['is_student'] = all_resume['education.primary'].apply(lambda x: len(x) == 1 and x[0]['year'] > datetime.now().year)\n",
    "all_resume[all_resume['is_student']][['title_display', 'is_student']].groupby(by='title_display').count().sort_values(by='is_student', ascending=False).head(10)"
   ],
   "metadata": {
    "collapsed": false
   }
  },
  {
   "cell_type": "markdown",
   "source": [
    "### Какую работу ищут выпускники\n",
    "\n",
    "В данных присутствует предполагаемое кандидатами название должности. Попробуем сгруппировать данные для одного из университетов и посмотреть ТОП 10."
   ],
   "metadata": {
    "collapsed": false
   }
  },
  {
   "cell_type": "code",
   "execution_count": 10,
   "outputs": [
    {
     "data": {
      "text/plain": "      title_display                       title  count\n13   СПбГЭТУ «ЛЭТИ»        Frontend-разработчик      4\n109  СПбГЭТУ «ЛЭТИ»  Руководитель отдела продаж      2\n91   СПбГЭТУ «ЛЭТИ»            Менеджер проекта      2\n38   СПбГЭТУ «ЛЭТИ»            Python Developer      2\n69   СПбГЭТУ «ЛЭТИ»                     Инженер      2\n98   СПбГЭТУ «ЛЭТИ»       Начинающий специалист      2\n28   СПбГЭТУ «ЛЭТИ»     Junior Python Developer      2\n8    СПбГЭТУ «ЛЭТИ»              Data scientist      2\n82   СПбГЭТУ «ЛЭТИ»                  Копирайтер      1\n83   СПбГЭТУ «ЛЭТИ»         Куратор, копирайтер      1",
      "text/html": "<div>\n<style scoped>\n    .dataframe tbody tr th:only-of-type {\n        vertical-align: middle;\n    }\n\n    .dataframe tbody tr th {\n        vertical-align: top;\n    }\n\n    .dataframe thead th {\n        text-align: right;\n    }\n</style>\n<table border=\"1\" class=\"dataframe\">\n  <thead>\n    <tr style=\"text-align: right;\">\n      <th></th>\n      <th>title_display</th>\n      <th>title</th>\n      <th>count</th>\n    </tr>\n  </thead>\n  <tbody>\n    <tr>\n      <th>13</th>\n      <td>СПбГЭТУ «ЛЭТИ»</td>\n      <td>Frontend-разработчик</td>\n      <td>4</td>\n    </tr>\n    <tr>\n      <th>109</th>\n      <td>СПбГЭТУ «ЛЭТИ»</td>\n      <td>Руководитель отдела продаж</td>\n      <td>2</td>\n    </tr>\n    <tr>\n      <th>91</th>\n      <td>СПбГЭТУ «ЛЭТИ»</td>\n      <td>Менеджер проекта</td>\n      <td>2</td>\n    </tr>\n    <tr>\n      <th>38</th>\n      <td>СПбГЭТУ «ЛЭТИ»</td>\n      <td>Python Developer</td>\n      <td>2</td>\n    </tr>\n    <tr>\n      <th>69</th>\n      <td>СПбГЭТУ «ЛЭТИ»</td>\n      <td>Инженер</td>\n      <td>2</td>\n    </tr>\n    <tr>\n      <th>98</th>\n      <td>СПбГЭТУ «ЛЭТИ»</td>\n      <td>Начинающий специалист</td>\n      <td>2</td>\n    </tr>\n    <tr>\n      <th>28</th>\n      <td>СПбГЭТУ «ЛЭТИ»</td>\n      <td>Junior Python Developer</td>\n      <td>2</td>\n    </tr>\n    <tr>\n      <th>8</th>\n      <td>СПбГЭТУ «ЛЭТИ»</td>\n      <td>Data scientist</td>\n      <td>2</td>\n    </tr>\n    <tr>\n      <th>82</th>\n      <td>СПбГЭТУ «ЛЭТИ»</td>\n      <td>Копирайтер</td>\n      <td>1</td>\n    </tr>\n    <tr>\n      <th>83</th>\n      <td>СПбГЭТУ «ЛЭТИ»</td>\n      <td>Куратор, копирайтер</td>\n      <td>1</td>\n    </tr>\n  </tbody>\n</table>\n</div>"
     },
     "execution_count": 10,
     "metadata": {},
     "output_type": "execute_result"
    }
   ],
   "source": [
    "resume_by_etu = all_resume[all_resume['title_display'] == 'СПбГЭТУ «ЛЭТИ»'][['title_display', 'title', 'url']]\n",
    "resume_by_etu_and_title = resume_by_etu.groupby(by=['title_display', 'title'], as_index=False).count().rename(columns={'url': 'count'}).sort_values(by='count', ascending=False)\n",
    "resume_by_etu_and_title.head(10)"
   ],
   "metadata": {
    "collapsed": false
   }
  },
  {
   "cell_type": "markdown",
   "source": [
    "И взглянем на конец списка:"
   ],
   "metadata": {
    "collapsed": false
   }
  },
  {
   "cell_type": "code",
   "execution_count": 11,
   "outputs": [
    {
     "data": {
      "text/plain": "      title_display                           title  count\n45   СПбГЭТУ «ЛЭТИ»                           Sales      1\n44   СПбГЭТУ «ЛЭТИ»                      QA инженер      1\n43   СПбГЭТУ «ЛЭТИ»                     QA engineer      1\n42   СПбГЭТУ «ЛЭТИ»            QA Engineer (Junior)      1\n41   СПбГЭТУ «ЛЭТИ»                     QA Engineer      1\n40   СПбГЭТУ «ЛЭТИ»                Python developer      1\n39   СПбГЭТУ «ЛЭТИ»      Python backend разработчик      1\n37   СПбГЭТУ «ЛЭТИ»                 Project Manager      1\n36   СПбГЭТУ «ЛЭТИ»                 Product manager      1\n124  СПбГЭТУ «ЛЭТИ»  руководитель, инженер по КИПиА      1",
      "text/html": "<div>\n<style scoped>\n    .dataframe tbody tr th:only-of-type {\n        vertical-align: middle;\n    }\n\n    .dataframe tbody tr th {\n        vertical-align: top;\n    }\n\n    .dataframe thead th {\n        text-align: right;\n    }\n</style>\n<table border=\"1\" class=\"dataframe\">\n  <thead>\n    <tr style=\"text-align: right;\">\n      <th></th>\n      <th>title_display</th>\n      <th>title</th>\n      <th>count</th>\n    </tr>\n  </thead>\n  <tbody>\n    <tr>\n      <th>45</th>\n      <td>СПбГЭТУ «ЛЭТИ»</td>\n      <td>Sales</td>\n      <td>1</td>\n    </tr>\n    <tr>\n      <th>44</th>\n      <td>СПбГЭТУ «ЛЭТИ»</td>\n      <td>QA инженер</td>\n      <td>1</td>\n    </tr>\n    <tr>\n      <th>43</th>\n      <td>СПбГЭТУ «ЛЭТИ»</td>\n      <td>QA engineer</td>\n      <td>1</td>\n    </tr>\n    <tr>\n      <th>42</th>\n      <td>СПбГЭТУ «ЛЭТИ»</td>\n      <td>QA Engineer (Junior)</td>\n      <td>1</td>\n    </tr>\n    <tr>\n      <th>41</th>\n      <td>СПбГЭТУ «ЛЭТИ»</td>\n      <td>QA Engineer</td>\n      <td>1</td>\n    </tr>\n    <tr>\n      <th>40</th>\n      <td>СПбГЭТУ «ЛЭТИ»</td>\n      <td>Python developer</td>\n      <td>1</td>\n    </tr>\n    <tr>\n      <th>39</th>\n      <td>СПбГЭТУ «ЛЭТИ»</td>\n      <td>Python backend разработчик</td>\n      <td>1</td>\n    </tr>\n    <tr>\n      <th>37</th>\n      <td>СПбГЭТУ «ЛЭТИ»</td>\n      <td>Project Manager</td>\n      <td>1</td>\n    </tr>\n    <tr>\n      <th>36</th>\n      <td>СПбГЭТУ «ЛЭТИ»</td>\n      <td>Product manager</td>\n      <td>1</td>\n    </tr>\n    <tr>\n      <th>124</th>\n      <td>СПбГЭТУ «ЛЭТИ»</td>\n      <td>руководитель, инженер по КИПиА</td>\n      <td>1</td>\n    </tr>\n  </tbody>\n</table>\n</div>"
     },
     "execution_count": 11,
     "metadata": {},
     "output_type": "execute_result"
    }
   ],
   "source": [
    "resume_by_etu_and_title.tail(10)"
   ],
   "metadata": {
    "collapsed": false
   }
  },
  {
   "cell_type": "markdown",
   "source": [
    "Из-за того что название текстовое поле, кандидаты указывают там слишком уникальные значения. Нужно что-то более нормализированное для такого анализа. Для этого придётся сходить в каждую вакансию и получить более [подробную информацию по резюме](https://api.hh.ru/openapi/redoc#tag/Vakansii/operation/get-vacancy). **Обратите внимание**, что API отдаёт намного больше расширенной информации."
   ],
   "metadata": {
    "collapsed": false
   }
  },
  {
   "cell_type": "code",
   "execution_count": 12,
   "outputs": [
    {
     "data": {
      "text/plain": "                                               title  \\\n0                              DevOps engineer / SRE   \n1  (Ведущий) Менеджер по продукту, Менеджер проектов   \n2                                   Менеджер проекта   \n3                     Руководитель отдела разработки   \n4                Начальник отдела, начальник сектора   \n5                                           Электрик   \n6                                         QA инженер   \n7                                    Product manager   \n8                                     Java developer   \n9           Преподаватель английского языка (Native)   \n\n                                  professional_roles  \n0  [{'id': '96', 'name': 'Программист, разработчи...  \n1  [{'id': '10', 'name': 'Аналитик'}, {'id': '73'...  \n2  [{'id': '104', 'name': 'Руководитель группы ра...  \n3  [{'id': '107', 'name': 'Руководитель проектов'...  \n4                  [{'id': '16', 'name': 'Аудитор'}]  \n5  [{'id': '40', 'name': 'Другое'}, {'id': '143',...  \n6             [{'id': '124', 'name': 'Тестировщик'}]  \n7  [{'id': '107', 'name': 'Руководитель проектов'...  \n8  [{'id': '96', 'name': 'Программист, разработчи...  \n9  [{'id': '132', 'name': 'Teacher, educator'}, {...  ",
      "text/html": "<div>\n<style scoped>\n    .dataframe tbody tr th:only-of-type {\n        vertical-align: middle;\n    }\n\n    .dataframe tbody tr th {\n        vertical-align: top;\n    }\n\n    .dataframe thead th {\n        text-align: right;\n    }\n</style>\n<table border=\"1\" class=\"dataframe\">\n  <thead>\n    <tr style=\"text-align: right;\">\n      <th></th>\n      <th>title</th>\n      <th>professional_roles</th>\n    </tr>\n  </thead>\n  <tbody>\n    <tr>\n      <th>0</th>\n      <td>DevOps engineer / SRE</td>\n      <td>[{'id': '96', 'name': 'Программист, разработчи...</td>\n    </tr>\n    <tr>\n      <th>1</th>\n      <td>(Ведущий) Менеджер по продукту, Менеджер проектов</td>\n      <td>[{'id': '10', 'name': 'Аналитик'}, {'id': '73'...</td>\n    </tr>\n    <tr>\n      <th>2</th>\n      <td>Менеджер проекта</td>\n      <td>[{'id': '104', 'name': 'Руководитель группы ра...</td>\n    </tr>\n    <tr>\n      <th>3</th>\n      <td>Руководитель отдела разработки</td>\n      <td>[{'id': '107', 'name': 'Руководитель проектов'...</td>\n    </tr>\n    <tr>\n      <th>4</th>\n      <td>Начальник отдела, начальник сектора</td>\n      <td>[{'id': '16', 'name': 'Аудитор'}]</td>\n    </tr>\n    <tr>\n      <th>5</th>\n      <td>Электрик</td>\n      <td>[{'id': '40', 'name': 'Другое'}, {'id': '143',...</td>\n    </tr>\n    <tr>\n      <th>6</th>\n      <td>QA инженер</td>\n      <td>[{'id': '124', 'name': 'Тестировщик'}]</td>\n    </tr>\n    <tr>\n      <th>7</th>\n      <td>Product manager</td>\n      <td>[{'id': '107', 'name': 'Руководитель проектов'...</td>\n    </tr>\n    <tr>\n      <th>8</th>\n      <td>Java developer</td>\n      <td>[{'id': '96', 'name': 'Программист, разработчи...</td>\n    </tr>\n    <tr>\n      <th>9</th>\n      <td>Преподаватель английского языка (Native)</td>\n      <td>[{'id': '132', 'name': 'Teacher, educator'}, {...</td>\n    </tr>\n  </tbody>\n</table>\n</div>"
     },
     "execution_count": 12,
     "metadata": {},
     "output_type": "execute_result"
    }
   ],
   "source": [
    "json_with_full_info_by_etu = []\n",
    "\n",
    "# Тут мы упираемся видимо в бесплатные возможности API, которое отдаёт подробную информацию только по 50 резюме\n",
    "for i, r in resume_by_etu[:50].iterrows():\n",
    "    resp_full_info = session.get(r['url'])\n",
    "\n",
    "    if resp_full_info.status_code == 200:\n",
    "        json_with_full_info_by_etu.append(resp_full_info.json())\n",
    "\n",
    "resume_full_by_etu = pd.json_normalize(json_with_full_info_by_etu)\n",
    "resume_full_by_etu[['title', 'professional_roles']].head(10)"
   ],
   "metadata": {
    "collapsed": false
   }
  },
  {
   "cell_type": "markdown",
   "source": [
    "Ели нет возможности расшить деньгами ограничение в 50 вакансий с подробной информацией... есть запасной вариант 👍 Для этого придётся сначала сформировать справочник по имеющимся [профессиональным ролям](https://github.com/hhru/api/blob/master/docs/role_catalog_article.md) и при начальном сборе информации по университетам обходить API по каждой профессиональной роли указывая её в GET параметре `professional_role`.\n",
    "\n",
    "### Банальные цифры\n",
    "\n",
    "В данных есть пол, можно взглянуть на эти данные по конкретному университету:"
   ],
   "metadata": {
    "collapsed": false
   }
  },
  {
   "cell_type": "code",
   "execution_count": 13,
   "outputs": [
    {
     "data": {
      "text/plain": "gender.id               female   male\ntitle_display                        \nРАНХиГС                  360.0  483.0\nМГТУ им. Н.Э. Баумана     86.0  313.0\nРЭУ им. Г.В. Плеханова   280.0  283.0\nСПбПУ                    147.0  269.0\nВШЭ                      306.0  262.0\nУРФУ                     166.0  250.0\nРУТ (МИИТ)               122.0  215.0\nУГНТУ                     55.0  209.0\nМАИ                       69.0  197.0\nНИУ МГСУ                  50.0  180.0",
      "text/html": "<div>\n<style scoped>\n    .dataframe tbody tr th:only-of-type {\n        vertical-align: middle;\n    }\n\n    .dataframe tbody tr th {\n        vertical-align: top;\n    }\n\n    .dataframe thead th {\n        text-align: right;\n    }\n</style>\n<table border=\"1\" class=\"dataframe\">\n  <thead>\n    <tr style=\"text-align: right;\">\n      <th>gender.id</th>\n      <th>female</th>\n      <th>male</th>\n    </tr>\n    <tr>\n      <th>title_display</th>\n      <th></th>\n      <th></th>\n    </tr>\n  </thead>\n  <tbody>\n    <tr>\n      <th>РАНХиГС</th>\n      <td>360.0</td>\n      <td>483.0</td>\n    </tr>\n    <tr>\n      <th>МГТУ им. Н.Э. Баумана</th>\n      <td>86.0</td>\n      <td>313.0</td>\n    </tr>\n    <tr>\n      <th>РЭУ им. Г.В. Плеханова</th>\n      <td>280.0</td>\n      <td>283.0</td>\n    </tr>\n    <tr>\n      <th>СПбПУ</th>\n      <td>147.0</td>\n      <td>269.0</td>\n    </tr>\n    <tr>\n      <th>ВШЭ</th>\n      <td>306.0</td>\n      <td>262.0</td>\n    </tr>\n    <tr>\n      <th>УРФУ</th>\n      <td>166.0</td>\n      <td>250.0</td>\n    </tr>\n    <tr>\n      <th>РУТ (МИИТ)</th>\n      <td>122.0</td>\n      <td>215.0</td>\n    </tr>\n    <tr>\n      <th>УГНТУ</th>\n      <td>55.0</td>\n      <td>209.0</td>\n    </tr>\n    <tr>\n      <th>МАИ</th>\n      <td>69.0</td>\n      <td>197.0</td>\n    </tr>\n    <tr>\n      <th>НИУ МГСУ</th>\n      <td>50.0</td>\n      <td>180.0</td>\n    </tr>\n  </tbody>\n</table>\n</div>"
     },
     "execution_count": 13,
     "metadata": {},
     "output_type": "execute_result"
    }
   ],
   "source": [
    "pd.pivot_table(\n",
    "    all_resume[['title_display', 'gender.id', 'id']],\n",
    "    index='title_display',\n",
    "    columns='gender.id',\n",
    "    values='id',\n",
    "    aggfunc='count',\n",
    ").sort_values(by='male', ascending=False).head(10)"
   ],
   "metadata": {
    "collapsed": false
   }
  },
  {
   "cell_type": "markdown",
   "source": [
    "Можно посмотреть распределение по возрасту для конкретных университетов:"
   ],
   "metadata": {
    "collapsed": false
   }
  },
  {
   "cell_type": "code",
   "execution_count": 14,
   "outputs": [
    {
     "data": {
      "text/plain": "array([[<Axes: title={'center': 'СПбПУ'}>,\n        <Axes: title={'center': 'ИТМО'}>],\n       [<Axes: title={'center': 'СПбГЭТУ «ЛЭТИ»'}>,\n        <Axes: title={'center': 'ГУАП'}>]], dtype=object)"
     },
     "execution_count": 14,
     "metadata": {},
     "output_type": "execute_result"
    },
    {
     "data": {
      "text/plain": "<Figure size 640x480 with 4 Axes>",
      "image/png": "[encoded data removed]"
     },
     "metadata": {},
     "output_type": "display_data"
    }
   ],
   "source": [
    "pd.DataFrame({\n",
    "    'СПбПУ': all_resume[(all_resume['title_display'] == 'СПбПУ') & (~all_resume['age'].isnull())]['age'],\n",
    "    'ИТМО': all_resume[(all_resume['title_display'] == 'ИТМО') & (~all_resume['age'].isnull())]['age'],\n",
    "    'СПбГЭТУ «ЛЭТИ»': all_resume[(all_resume['title_display'] == 'СПбГЭТУ «ЛЭТИ»') & (~all_resume['age'].isnull())]['age'],\n",
    "    'ГУАП': all_resume[(all_resume['title_display'] == 'ГУАП') & (~all_resume['age'].isnull())]['age']\n",
    "}).hist(bins=10)"
   ],
   "metadata": {
    "collapsed": false
   }
  },
  {
   "cell_type": "markdown",
   "source": [
    "### Куда выпускники идут учиться после\n",
    "\n",
    "В завершении посмотрим что-то более сложное и менее очевидное. Данные об образовании позволяют изучить последовательность получения образования, на базе этого можно попробовать сделать какие-нибудь не на столько очевидные выводы. Посмотрим, где получают последующее образования выпускники одного из университетов."
   ],
   "metadata": {
    "collapsed": false
   }
  },
  {
   "cell_type": "code",
   "execution_count": 15,
   "outputs": [
    {
     "data": {
      "text/plain": "                                        next_edu_title  count\n276  Национальный исследовательский университет \"Вы...     10\n351  Российский экономический университет им. Г.В. ...     10\n241  Московский государственный университет им. М.В...      9\n342  Российский государственный университет нефти и...      8\n238  Московский государственный технологический уни...      8\n235  Московский государственный технический универс...      7\n468  Финансовый университет при Правительстве Росси...      7\n200  Московская Государственная юридическая академи...      7\n348      Российский университет дружбы народов, Москва      6\n225  Московский государственный горный университет,...      6",
      "text/html": "<div>\n<style scoped>\n    .dataframe tbody tr th:only-of-type {\n        vertical-align: middle;\n    }\n\n    .dataframe tbody tr th {\n        vertical-align: top;\n    }\n\n    .dataframe thead th {\n        text-align: right;\n    }\n</style>\n<table border=\"1\" class=\"dataframe\">\n  <thead>\n    <tr style=\"text-align: right;\">\n      <th></th>\n      <th>next_edu_title</th>\n      <th>count</th>\n    </tr>\n  </thead>\n  <tbody>\n    <tr>\n      <th>276</th>\n      <td>Национальный исследовательский университет \"Вы...</td>\n      <td>10</td>\n    </tr>\n    <tr>\n      <th>351</th>\n      <td>Российский экономический университет им. Г.В. ...</td>\n      <td>10</td>\n    </tr>\n    <tr>\n      <th>241</th>\n      <td>Московский государственный университет им. М.В...</td>\n      <td>9</td>\n    </tr>\n    <tr>\n      <th>342</th>\n      <td>Российский государственный университет нефти и...</td>\n      <td>8</td>\n    </tr>\n    <tr>\n      <th>238</th>\n      <td>Московский государственный технологический уни...</td>\n      <td>8</td>\n    </tr>\n    <tr>\n      <th>235</th>\n      <td>Московский государственный технический универс...</td>\n      <td>7</td>\n    </tr>\n    <tr>\n      <th>468</th>\n      <td>Финансовый университет при Правительстве Росси...</td>\n      <td>7</td>\n    </tr>\n    <tr>\n      <th>200</th>\n      <td>Московская Государственная юридическая академи...</td>\n      <td>7</td>\n    </tr>\n    <tr>\n      <th>348</th>\n      <td>Российский университет дружбы народов, Москва</td>\n      <td>6</td>\n    </tr>\n    <tr>\n      <th>225</th>\n      <td>Московский государственный горный университет,...</td>\n      <td>6</td>\n    </tr>\n  </tbody>\n</table>\n</div>"
     },
     "execution_count": 15,
     "metadata": {},
     "output_type": "execute_result"
    }
   ],
   "source": [
    "universities_by_id = universities.set_index('educational_institution_id')\n",
    "university_for_research = universities[universities['title_display'] == 'РАНХиГС'].iloc[0].T\n",
    "next_edu = pd.DataFrame()\n",
    "\n",
    "for i, r in all_resume[all_resume['title_display'] == university_for_research['title_display']].iterrows():\n",
    "    is_completed_edu = False\n",
    "\n",
    "    for edu in r['education.primary']:\n",
    "        if edu['name_id'] == str(university_for_research['educational_institution_id']) and edu['year'] <= datetime.now().year:\n",
    "            is_completed_edu = True\n",
    "        elif is_completed_edu and edu['name_id'] != str(university_for_research['educational_institution_id']):\n",
    "            next_edu = pd.concat([next_edu, pd.DataFrame([{\n",
    "                'next_edu_id': edu['name_id'],\n",
    "                'next_edu_title': edu['name']\n",
    "            }])])\n",
    "\n",
    "next_edu.groupby(by='next_edu_title', as_index=False).count().rename(columns={'next_edu_id': 'count'}).sort_values(by='count', ascending=False).head(10)"
   ],
   "metadata": {
    "collapsed": false
   }
  },
  {
   "cell_type": "markdown",
   "source": [
    "## Вместо выводов\n",
    "\n",
    "Очень надеюсь, что мне удалось продемонстрировать, в первом приближении, возможности данных, которые вы можете самостоятельно получить из API HH. Как мне кажется задача, анализа своих выпускников, на базе объективных данных, должна быть одной из основных задач аналитических подразделений внутри университетов. А после отработки инструментария можно пробовать выходить на региональный или федеральный уровень.\n",
    "\n",
    "P.S. Объём данных такой, что у меня нет технической возможности постоянно забирать их и строить Dashboard-ы на основании полученных данных, по аналогии с 📊 [вакансиями университетов](https://datalens.yandex/qv1g5xwqyzysg) 🤷‍♂️"
   ],
   "metadata": {
    "collapsed": false
   }
  }
 ],
 "metadata": {
  "kernelspec": {
   "display_name": "Python 3",
   "language": "python",
   "name": "python3"
  },
  "language_info": {
   "codemirror_mode": {
    "name": "ipython",
    "version": 2
   },
   "file_extension": ".py",
   "mimetype": "text/x-python",
   "name": "python",
   "nbconvert_exporter": "python",
   "pygments_lexer": "ipython2",
   "version": "2.7.6"
  }
 },
 "nbformat": 4,
 "nbformat_minor": 0
}
