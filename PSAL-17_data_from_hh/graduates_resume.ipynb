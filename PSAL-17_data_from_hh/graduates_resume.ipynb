{
 "cells": [
  {
   "cell_type": "code",
   "execution_count": 17,
   "outputs": [],
   "source": [
    "import requests\n",
    "import pandas as pd"
   ],
   "metadata": {
    "collapsed": false
   }
  },
  {
   "cell_type": "markdown",
   "source": [
    "# Аналитика по резюме выпускников\n",
    "\n",
    "## Подготовка к работе\n",
    "\n",
    "Вся ниже представленная информация базируется на возможностях предоставляемых [HeadHunter API](https://dev.hh.ru/).\n",
    "\n",
    "До начала работы **важно понимать**, что Вам потребуется аккаунт пользоваться, которые идентифицируется HH как работодатель. Это может быть как корпоративный аккаунт от университета (в рамках HH есть центральный HR-аккаунт, который может регистрировать новых корпоративных пользователей), так и совсем сторонний работодатель, с точки зрения забора данных это не важно. **Дополнительных финансовых вложений не потребуется**, мы будем использовать только данные резюме, которые требуют только авторизации как работодатель.\n",
    "\n",
    "Дополнительно к аккаунту от работодателя Вам потребуется зарегистировать приложение для работы с API. Залогинтесь (зарегистрировать приложение можно под личным аккаунтом на HH, но рекомендую, для порядку, делать это всё из под одной корпоративной учётки) в [личном кабинете разработчика](https://dev.hh.ru/admin) и зарегистрируйте новое приложение. По моему опыту процесс одобрения приложения со стороны HH не превышает одной недели.\n",
    "\n",
    "После регистрации приложения у него появятся следующие реквизиты: `Client ID`, `Client Secret`, `Токен приложения`. Это позволит Вам авторизовать пользователя и получить реквизиты для работы с API. Сам процесс авторизации неплохо описан самим HeadHunter в [статье на Habr-е](https://habr.com/ru/companies/hh/articles/303168/).\n",
    "\n",
    "Надеюсь у Вас **всё получится** по выше описанному!\n",
    "\n",
    "### ID университетов в HH\n",
    "\n",
    "Для поиска ID-шников университетов, которые мы будем использовать для работы с API, вы можете использовать 3 способа:\n",
    "\n",
    "1. [«Ручку» API HH](https://api.hh.ru/openapi/redoc#tag/Podskazki/operation/get-educational-institutions-suggests) для поиска по учебным заведениям. Вот [пример ссылки](https://api.hh.ru/suggests/educational_institutions?text=%D0%98%D0%A2%D0%9C%D0%9E) для поиска «ИТМО»;\n",
    "2. [«Ручку» API psal.ru](https://app.psal.ru/api/university/), с данными об университетах, которые отслеживаются проектом (на момент написания, апрель 2023 года, это университеты входящие в 2 федеральных программы «Приоритет 2030» и «Передовые инженерные школы»);\n",
    "3. Ещё можно воспользоваться [расширенным поиском](https://hh.ru/search/resume/advanced) на самом hh.ru, где есть UI-ки для указания учебного заведения. Вы можете воспользоваться DevTool браузера и при поиске/выборе учебного заведения, забирать необходимое Вам ID университета (см. gif-ку с иллюстрацией).\n",
    "\n",
    "Я буду использовать вариант упомянутый в пункте 2 и для полноты картины остановлюсь на некоторых моментах:\n",
    "\n",
    "1. У университетов есть филиалы, но в используемом API psa.ru используется только ID головных организаций. Пример с [МФТИ](https://api.hh.ru/suggests/educational_institutions?text=%D0%9C%D0%A4%D0%A2%D0%98), как это бывает.\n",
    "2. Данные HH видимо не всегда поспевают за переименованиями университетов, и проходилось отлавливать университеты по старым названиям. Из того с чем столкнулся, при поиске ID-шников: «Уральский государственный медицинский университет» — «Уральская государственная медицинская академия»; «Смоленский государственный медицинский университет» — «Смоленская государственная медицинская академия»; «Тихоокеанский государственный медицинский университет» — «Владивостокский государственный медицинский университет».\n",
    "3. Университеты объединяются, в этом случае в API psa.ru используется ID одной из объединённых организаций, если в данных HH нет ещё нового университета. Конкретный пример — для «Уфимский университет науки и технологий» используется «Башкирского государственного университета».\n",
    "4. По каким-то причинам мне не удалось найти в HH «Университет Иннополис».\n",
    "\n",
    "## Исходные данные об университетах\n",
    "\n",
    "Сформируем таблицу университетов с основными данными и ID для работы с HH API."
   ],
   "metadata": {
    "collapsed": false
   }
  },
  {
   "cell_type": "code",
   "execution_count": 19,
   "outputs": [],
   "source": [
    "# Функция для работы с API https://app.psal.ru/api\n",
    "def get_results_from_api(url, page=1):\n",
    "    results = pd.DataFrame()\n",
    "\n",
    "    resp = requests.get(url + f\"?page={page}\")\n",
    "\n",
    "    if resp.status_code == 200:\n",
    "        json_data = resp.json()\n",
    "        results = pd.concat([results, pd.json_normalize(json_data['results'])], ignore_index=True)\n",
    "\n",
    "        if json_data['next']:\n",
    "            next_page_df = get_results_from_api(url, page + 1)\n",
    "            results = pd.concat([results, next_page_df], ignore_index=True)\n",
    "    else:\n",
    "        return pd.DataFrame()\n",
    "\n",
    "    return results"
   ],
   "metadata": {
    "collapsed": false
   }
  },
  {
   "cell_type": "code",
   "execution_count": 39,
   "outputs": [
    {
     "data": {
      "text/plain": "   id                                        title_short  \\\n0   1             Адыгейский государственный университет   \n1   2              Алтайский государственный университет   \n2   3               Амурский государственный университет   \n3   4           Астраханский государственный университет   \n5   6  Белгородский государственный технологический у...   \n\n           title_display      domain  educational_institution_id  \n0                    АГУ  adygnet.ru                       41900  \n1                  АлтГУ      asu.ru                       41808  \n2                   АмГУ   amursu.ru                       42650  \n3  АГУ им. В.Н. Татищева  asu.edu.ru                       40229  \n5                   БГТУ     bstu.ru                       45479  ",
      "text/html": "<div>\n<style scoped>\n    .dataframe tbody tr th:only-of-type {\n        vertical-align: middle;\n    }\n\n    .dataframe tbody tr th {\n        vertical-align: top;\n    }\n\n    .dataframe thead th {\n        text-align: right;\n    }\n</style>\n<table border=\"1\" class=\"dataframe\">\n  <thead>\n    <tr style=\"text-align: right;\">\n      <th></th>\n      <th>id</th>\n      <th>title_short</th>\n      <th>title_display</th>\n      <th>domain</th>\n      <th>educational_institution_id</th>\n    </tr>\n  </thead>\n  <tbody>\n    <tr>\n      <th>0</th>\n      <td>1</td>\n      <td>Адыгейский государственный университет</td>\n      <td>АГУ</td>\n      <td>adygnet.ru</td>\n      <td>41900</td>\n    </tr>\n    <tr>\n      <th>1</th>\n      <td>2</td>\n      <td>Алтайский государственный университет</td>\n      <td>АлтГУ</td>\n      <td>asu.ru</td>\n      <td>41808</td>\n    </tr>\n    <tr>\n      <th>2</th>\n      <td>3</td>\n      <td>Амурский государственный университет</td>\n      <td>АмГУ</td>\n      <td>amursu.ru</td>\n      <td>42650</td>\n    </tr>\n    <tr>\n      <th>3</th>\n      <td>4</td>\n      <td>Астраханский государственный университет</td>\n      <td>АГУ им. В.Н. Татищева</td>\n      <td>asu.edu.ru</td>\n      <td>40229</td>\n    </tr>\n    <tr>\n      <th>5</th>\n      <td>6</td>\n      <td>Белгородский государственный технологический у...</td>\n      <td>БГТУ</td>\n      <td>bstu.ru</td>\n      <td>45479</td>\n    </tr>\n  </tbody>\n</table>\n</div>"
     },
     "execution_count": 39,
     "metadata": {},
     "output_type": "execute_result"
    }
   ],
   "source": [
    "# Формируем таблицу со списком университетов\n",
    "universities = get_results_from_api('https://app.psal.ru/api/university/')\n",
    "universities = universities[universities['deleted_at'].isnull()]\n",
    "universities = universities.apply(lambda x: pd.concat([\n",
    "    x[list(filter(lambda y: y in ['id', 'title_short', 'title_display', 'domain', 'educational_institution_id'], x.keys()))],\n",
    "    pd.Series({'educational_institution_id': x['hh'][0]['educational_institution_id']})\n",
    "]), axis=1)\n",
    "universities = universities[~universities['educational_institution_id'].isnull()]\n",
    "universities['educational_institution_id'] = universities['educational_institution_id'].astype(int)\n",
    "universities.head(5)"
   ],
   "metadata": {
    "collapsed": false
   }
  }
 ],
 "metadata": {
  "kernelspec": {
   "display_name": "Python 3",
   "language": "python",
   "name": "python3"
  },
  "language_info": {
   "codemirror_mode": {
    "name": "ipython",
    "version": 2
   },
   "file_extension": ".py",
   "mimetype": "text/x-python",
   "name": "python",
   "nbconvert_exporter": "python",
   "pygments_lexer": "ipython2",
   "version": "2.7.6"
  }
 },
 "nbformat": 4,
 "nbformat_minor": 0
}
